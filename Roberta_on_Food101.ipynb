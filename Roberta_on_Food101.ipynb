{
  "cells": [
    {
      "cell_type": "markdown",
      "metadata": {
        "id": "view-in-github",
        "colab_type": "text"
      },
      "source": [
        "<a href=\"https://colab.research.google.com/github/dat-rohit/multimodal-model-Food101/blob/main/Roberta_on_Food101.ipynb\" target=\"_parent\"><img src=\"https://colab.research.google.com/assets/colab-badge.svg\" alt=\"Open In Colab\"/></a>"
      ]
    },
    {
      "cell_type": "code",
      "execution_count": 1,
      "metadata": {
        "colab": {
          "base_uri": "https://localhost:8080/"
        },
        "id": "XMe1rquVW2DL",
        "outputId": "b0b453d1-1601-4324-bd79-1e8ec6f50ab4"
      },
      "outputs": [
        {
          "output_type": "stream",
          "name": "stdout",
          "text": [
            "Requirement already satisfied: datasets in /usr/local/lib/python3.10/dist-packages (2.15.0)\n",
            "Requirement already satisfied: numpy>=1.17 in /usr/local/lib/python3.10/dist-packages (from datasets) (1.23.5)\n",
            "Requirement already satisfied: pyarrow>=8.0.0 in /usr/local/lib/python3.10/dist-packages (from datasets) (9.0.0)\n",
            "Requirement already satisfied: pyarrow-hotfix in /usr/local/lib/python3.10/dist-packages (from datasets) (0.6)\n",
            "Requirement already satisfied: dill<0.3.8,>=0.3.0 in /usr/local/lib/python3.10/dist-packages (from datasets) (0.3.7)\n",
            "Requirement already satisfied: pandas in /usr/local/lib/python3.10/dist-packages (from datasets) (1.5.3)\n",
            "Requirement already satisfied: requests>=2.19.0 in /usr/local/lib/python3.10/dist-packages (from datasets) (2.31.0)\n",
            "Requirement already satisfied: tqdm>=4.62.1 in /usr/local/lib/python3.10/dist-packages (from datasets) (4.66.1)\n",
            "Requirement already satisfied: xxhash in /usr/local/lib/python3.10/dist-packages (from datasets) (3.4.1)\n",
            "Requirement already satisfied: multiprocess in /usr/local/lib/python3.10/dist-packages (from datasets) (0.70.15)\n",
            "Requirement already satisfied: fsspec[http]<=2023.10.0,>=2023.1.0 in /usr/local/lib/python3.10/dist-packages (from datasets) (2023.6.0)\n",
            "Requirement already satisfied: aiohttp in /usr/local/lib/python3.10/dist-packages (from datasets) (3.8.6)\n",
            "Requirement already satisfied: huggingface-hub>=0.18.0 in /usr/local/lib/python3.10/dist-packages (from datasets) (0.19.4)\n",
            "Requirement already satisfied: packaging in /usr/local/lib/python3.10/dist-packages (from datasets) (23.2)\n",
            "Requirement already satisfied: pyyaml>=5.1 in /usr/local/lib/python3.10/dist-packages (from datasets) (6.0.1)\n",
            "Requirement already satisfied: attrs>=17.3.0 in /usr/local/lib/python3.10/dist-packages (from aiohttp->datasets) (23.1.0)\n",
            "Requirement already satisfied: charset-normalizer<4.0,>=2.0 in /usr/local/lib/python3.10/dist-packages (from aiohttp->datasets) (3.3.2)\n",
            "Requirement already satisfied: multidict<7.0,>=4.5 in /usr/local/lib/python3.10/dist-packages (from aiohttp->datasets) (6.0.4)\n",
            "Requirement already satisfied: async-timeout<5.0,>=4.0.0a3 in /usr/local/lib/python3.10/dist-packages (from aiohttp->datasets) (4.0.3)\n",
            "Requirement already satisfied: yarl<2.0,>=1.0 in /usr/local/lib/python3.10/dist-packages (from aiohttp->datasets) (1.9.2)\n",
            "Requirement already satisfied: frozenlist>=1.1.1 in /usr/local/lib/python3.10/dist-packages (from aiohttp->datasets) (1.4.0)\n",
            "Requirement already satisfied: aiosignal>=1.1.2 in /usr/local/lib/python3.10/dist-packages (from aiohttp->datasets) (1.3.1)\n",
            "Requirement already satisfied: filelock in /usr/local/lib/python3.10/dist-packages (from huggingface-hub>=0.18.0->datasets) (3.13.1)\n",
            "Requirement already satisfied: typing-extensions>=3.7.4.3 in /usr/local/lib/python3.10/dist-packages (from huggingface-hub>=0.18.0->datasets) (4.5.0)\n",
            "Requirement already satisfied: idna<4,>=2.5 in /usr/local/lib/python3.10/dist-packages (from requests>=2.19.0->datasets) (3.4)\n",
            "Requirement already satisfied: urllib3<3,>=1.21.1 in /usr/local/lib/python3.10/dist-packages (from requests>=2.19.0->datasets) (2.0.7)\n",
            "Requirement already satisfied: certifi>=2017.4.17 in /usr/local/lib/python3.10/dist-packages (from requests>=2.19.0->datasets) (2023.7.22)\n",
            "Requirement already satisfied: python-dateutil>=2.8.1 in /usr/local/lib/python3.10/dist-packages (from pandas->datasets) (2.8.2)\n",
            "Requirement already satisfied: pytz>=2020.1 in /usr/local/lib/python3.10/dist-packages (from pandas->datasets) (2023.3.post1)\n",
            "Requirement already satisfied: six>=1.5 in /usr/local/lib/python3.10/dist-packages (from python-dateutil>=2.8.1->pandas->datasets) (1.16.0)\n",
            "Requirement already satisfied: transformers in /usr/local/lib/python3.10/dist-packages (4.35.2)\n",
            "Requirement already satisfied: filelock in /usr/local/lib/python3.10/dist-packages (from transformers) (3.13.1)\n",
            "Requirement already satisfied: huggingface-hub<1.0,>=0.16.4 in /usr/local/lib/python3.10/dist-packages (from transformers) (0.19.4)\n",
            "Requirement already satisfied: numpy>=1.17 in /usr/local/lib/python3.10/dist-packages (from transformers) (1.23.5)\n",
            "Requirement already satisfied: packaging>=20.0 in /usr/local/lib/python3.10/dist-packages (from transformers) (23.2)\n",
            "Requirement already satisfied: pyyaml>=5.1 in /usr/local/lib/python3.10/dist-packages (from transformers) (6.0.1)\n",
            "Requirement already satisfied: regex!=2019.12.17 in /usr/local/lib/python3.10/dist-packages (from transformers) (2023.6.3)\n",
            "Requirement already satisfied: requests in /usr/local/lib/python3.10/dist-packages (from transformers) (2.31.0)\n",
            "Requirement already satisfied: tokenizers<0.19,>=0.14 in /usr/local/lib/python3.10/dist-packages (from transformers) (0.15.0)\n",
            "Requirement already satisfied: safetensors>=0.3.1 in /usr/local/lib/python3.10/dist-packages (from transformers) (0.4.0)\n",
            "Requirement already satisfied: tqdm>=4.27 in /usr/local/lib/python3.10/dist-packages (from transformers) (4.66.1)\n",
            "Requirement already satisfied: fsspec>=2023.5.0 in /usr/local/lib/python3.10/dist-packages (from huggingface-hub<1.0,>=0.16.4->transformers) (2023.6.0)\n",
            "Requirement already satisfied: typing-extensions>=3.7.4.3 in /usr/local/lib/python3.10/dist-packages (from huggingface-hub<1.0,>=0.16.4->transformers) (4.5.0)\n",
            "Requirement already satisfied: charset-normalizer<4,>=2 in /usr/local/lib/python3.10/dist-packages (from requests->transformers) (3.3.2)\n",
            "Requirement already satisfied: idna<4,>=2.5 in /usr/local/lib/python3.10/dist-packages (from requests->transformers) (3.4)\n",
            "Requirement already satisfied: urllib3<3,>=1.21.1 in /usr/local/lib/python3.10/dist-packages (from requests->transformers) (2.0.7)\n",
            "Requirement already satisfied: certifi>=2017.4.17 in /usr/local/lib/python3.10/dist-packages (from requests->transformers) (2023.7.22)\n",
            "Requirement already satisfied: accelerate in /usr/local/lib/python3.10/dist-packages (0.24.1)\n",
            "Requirement already satisfied: numpy>=1.17 in /usr/local/lib/python3.10/dist-packages (from accelerate) (1.23.5)\n",
            "Requirement already satisfied: packaging>=20.0 in /usr/local/lib/python3.10/dist-packages (from accelerate) (23.2)\n",
            "Requirement already satisfied: psutil in /usr/local/lib/python3.10/dist-packages (from accelerate) (5.9.5)\n",
            "Requirement already satisfied: pyyaml in /usr/local/lib/python3.10/dist-packages (from accelerate) (6.0.1)\n",
            "Requirement already satisfied: torch>=1.10.0 in /usr/local/lib/python3.10/dist-packages (from accelerate) (2.1.0+cu118)\n",
            "Requirement already satisfied: huggingface-hub in /usr/local/lib/python3.10/dist-packages (from accelerate) (0.19.4)\n",
            "Requirement already satisfied: filelock in /usr/local/lib/python3.10/dist-packages (from torch>=1.10.0->accelerate) (3.13.1)\n",
            "Requirement already satisfied: typing-extensions in /usr/local/lib/python3.10/dist-packages (from torch>=1.10.0->accelerate) (4.5.0)\n",
            "Requirement already satisfied: sympy in /usr/local/lib/python3.10/dist-packages (from torch>=1.10.0->accelerate) (1.12)\n",
            "Requirement already satisfied: networkx in /usr/local/lib/python3.10/dist-packages (from torch>=1.10.0->accelerate) (3.2.1)\n",
            "Requirement already satisfied: jinja2 in /usr/local/lib/python3.10/dist-packages (from torch>=1.10.0->accelerate) (3.1.2)\n",
            "Requirement already satisfied: fsspec in /usr/local/lib/python3.10/dist-packages (from torch>=1.10.0->accelerate) (2023.6.0)\n",
            "Requirement already satisfied: triton==2.1.0 in /usr/local/lib/python3.10/dist-packages (from torch>=1.10.0->accelerate) (2.1.0)\n",
            "Requirement already satisfied: requests in /usr/local/lib/python3.10/dist-packages (from huggingface-hub->accelerate) (2.31.0)\n",
            "Requirement already satisfied: tqdm>=4.42.1 in /usr/local/lib/python3.10/dist-packages (from huggingface-hub->accelerate) (4.66.1)\n",
            "Requirement already satisfied: MarkupSafe>=2.0 in /usr/local/lib/python3.10/dist-packages (from jinja2->torch>=1.10.0->accelerate) (2.1.3)\n",
            "Requirement already satisfied: charset-normalizer<4,>=2 in /usr/local/lib/python3.10/dist-packages (from requests->huggingface-hub->accelerate) (3.3.2)\n",
            "Requirement already satisfied: idna<4,>=2.5 in /usr/local/lib/python3.10/dist-packages (from requests->huggingface-hub->accelerate) (3.4)\n",
            "Requirement already satisfied: urllib3<3,>=1.21.1 in /usr/local/lib/python3.10/dist-packages (from requests->huggingface-hub->accelerate) (2.0.7)\n",
            "Requirement already satisfied: certifi>=2017.4.17 in /usr/local/lib/python3.10/dist-packages (from requests->huggingface-hub->accelerate) (2023.7.22)\n",
            "Requirement already satisfied: mpmath>=0.19 in /usr/local/lib/python3.10/dist-packages (from sympy->torch>=1.10.0->accelerate) (1.3.0)\n",
            "Requirement already satisfied: transformers in /usr/local/lib/python3.10/dist-packages (4.35.2)\n",
            "Requirement already satisfied: filelock in /usr/local/lib/python3.10/dist-packages (from transformers) (3.13.1)\n",
            "Requirement already satisfied: huggingface-hub<1.0,>=0.16.4 in /usr/local/lib/python3.10/dist-packages (from transformers) (0.19.4)\n",
            "Requirement already satisfied: numpy>=1.17 in /usr/local/lib/python3.10/dist-packages (from transformers) (1.23.5)\n",
            "Requirement already satisfied: packaging>=20.0 in /usr/local/lib/python3.10/dist-packages (from transformers) (23.2)\n",
            "Requirement already satisfied: pyyaml>=5.1 in /usr/local/lib/python3.10/dist-packages (from transformers) (6.0.1)\n",
            "Requirement already satisfied: regex!=2019.12.17 in /usr/local/lib/python3.10/dist-packages (from transformers) (2023.6.3)\n",
            "Requirement already satisfied: requests in /usr/local/lib/python3.10/dist-packages (from transformers) (2.31.0)\n",
            "Requirement already satisfied: tokenizers<0.19,>=0.14 in /usr/local/lib/python3.10/dist-packages (from transformers) (0.15.0)\n",
            "Requirement already satisfied: safetensors>=0.3.1 in /usr/local/lib/python3.10/dist-packages (from transformers) (0.4.0)\n",
            "Requirement already satisfied: tqdm>=4.27 in /usr/local/lib/python3.10/dist-packages (from transformers) (4.66.1)\n",
            "Requirement already satisfied: fsspec>=2023.5.0 in /usr/local/lib/python3.10/dist-packages (from huggingface-hub<1.0,>=0.16.4->transformers) (2023.6.0)\n",
            "Requirement already satisfied: typing-extensions>=3.7.4.3 in /usr/local/lib/python3.10/dist-packages (from huggingface-hub<1.0,>=0.16.4->transformers) (4.5.0)\n",
            "Requirement already satisfied: charset-normalizer<4,>=2 in /usr/local/lib/python3.10/dist-packages (from requests->transformers) (3.3.2)\n",
            "Requirement already satisfied: idna<4,>=2.5 in /usr/local/lib/python3.10/dist-packages (from requests->transformers) (3.4)\n",
            "Requirement already satisfied: urllib3<3,>=1.21.1 in /usr/local/lib/python3.10/dist-packages (from requests->transformers) (2.0.7)\n",
            "Requirement already satisfied: certifi>=2017.4.17 in /usr/local/lib/python3.10/dist-packages (from requests->transformers) (2023.7.22)\n"
          ]
        }
      ],
      "source": [
        "%pip install datasets\n",
        "%pip install transformers\n",
        "! pip install -U accelerate\n",
        "! pip install -U transformers"
      ],
      "id": "XMe1rquVW2DL"
    },
    {
      "cell_type": "code",
      "execution_count": 2,
      "id": "0fb5ca56",
      "metadata": {
        "colab": {
          "base_uri": "https://localhost:8080/"
        },
        "id": "0fb5ca56",
        "outputId": "c756258e-11ef-428a-ed51-b53c40ef5527"
      },
      "outputs": [
        {
          "output_type": "stream",
          "name": "stdout",
          "text": [
            "test\n"
          ]
        }
      ],
      "source": [
        "from datasets import load_dataset\n",
        "print('test')"
      ]
    },
    {
      "cell_type": "code",
      "execution_count": 3,
      "id": "3eeb8376",
      "metadata": {
        "id": "3eeb8376"
      },
      "outputs": [],
      "source": [
        "food = load_dataset(\"food101\", split=\"train[:5000]\")"
      ]
    },
    {
      "cell_type": "code",
      "source": [
        "print(food)"
      ],
      "metadata": {
        "id": "byF20bum-xtO",
        "outputId": "72212730-be84-4b08-8bb6-d438082dc6e6",
        "colab": {
          "base_uri": "https://localhost:8080/"
        }
      },
      "id": "byF20bum-xtO",
      "execution_count": 4,
      "outputs": [
        {
          "output_type": "stream",
          "name": "stdout",
          "text": [
            "Dataset({\n",
            "    features: ['image', 'label'],\n",
            "    num_rows: 5000\n",
            "})\n"
          ]
        }
      ]
    },
    {
      "cell_type": "code",
      "execution_count": 5,
      "id": "b1f45147",
      "metadata": {
        "id": "b1f45147"
      },
      "outputs": [],
      "source": [
        "food = food.train_test_split(test_size=0.2)"
      ]
    },
    {
      "cell_type": "code",
      "source": [
        "print(food[\"train\"].features[\"label\"])"
      ],
      "metadata": {
        "colab": {
          "base_uri": "https://localhost:8080/"
        },
        "id": "Fa6SarPrfYWP",
        "outputId": "75d11e55-1efe-4871-8751-c1fd5a052ae8"
      },
      "id": "Fa6SarPrfYWP",
      "execution_count": 6,
      "outputs": [
        {
          "output_type": "stream",
          "name": "stdout",
          "text": [
            "ClassLabel(names=['apple_pie', 'baby_back_ribs', 'baklava', 'beef_carpaccio', 'beef_tartare', 'beet_salad', 'beignets', 'bibimbap', 'bread_pudding', 'breakfast_burrito', 'bruschetta', 'caesar_salad', 'cannoli', 'caprese_salad', 'carrot_cake', 'ceviche', 'cheesecake', 'cheese_plate', 'chicken_curry', 'chicken_quesadilla', 'chicken_wings', 'chocolate_cake', 'chocolate_mousse', 'churros', 'clam_chowder', 'club_sandwich', 'crab_cakes', 'creme_brulee', 'croque_madame', 'cup_cakes', 'deviled_eggs', 'donuts', 'dumplings', 'edamame', 'eggs_benedict', 'escargots', 'falafel', 'filet_mignon', 'fish_and_chips', 'foie_gras', 'french_fries', 'french_onion_soup', 'french_toast', 'fried_calamari', 'fried_rice', 'frozen_yogurt', 'garlic_bread', 'gnocchi', 'greek_salad', 'grilled_cheese_sandwich', 'grilled_salmon', 'guacamole', 'gyoza', 'hamburger', 'hot_and_sour_soup', 'hot_dog', 'huevos_rancheros', 'hummus', 'ice_cream', 'lasagna', 'lobster_bisque', 'lobster_roll_sandwich', 'macaroni_and_cheese', 'macarons', 'miso_soup', 'mussels', 'nachos', 'omelette', 'onion_rings', 'oysters', 'pad_thai', 'paella', 'pancakes', 'panna_cotta', 'peking_duck', 'pho', 'pizza', 'pork_chop', 'poutine', 'prime_rib', 'pulled_pork_sandwich', 'ramen', 'ravioli', 'red_velvet_cake', 'risotto', 'samosa', 'sashimi', 'scallops', 'seaweed_salad', 'shrimp_and_grits', 'spaghetti_bolognese', 'spaghetti_carbonara', 'spring_rolls', 'steak', 'strawberry_shortcake', 'sushi', 'tacos', 'takoyaki', 'tiramisu', 'tuna_tartare', 'waffles'], id=None)\n"
          ]
        }
      ]
    },
    {
      "cell_type": "code",
      "source": [
        "print(food[\"train\"].features[\"label\"].names)"
      ],
      "metadata": {
        "colab": {
          "base_uri": "https://localhost:8080/"
        },
        "id": "4cglH6Wxao_f",
        "outputId": "20399e64-7e40-4f50-bcfc-26671f2acb93"
      },
      "id": "4cglH6Wxao_f",
      "execution_count": 7,
      "outputs": [
        {
          "output_type": "stream",
          "name": "stdout",
          "text": [
            "['apple_pie', 'baby_back_ribs', 'baklava', 'beef_carpaccio', 'beef_tartare', 'beet_salad', 'beignets', 'bibimbap', 'bread_pudding', 'breakfast_burrito', 'bruschetta', 'caesar_salad', 'cannoli', 'caprese_salad', 'carrot_cake', 'ceviche', 'cheesecake', 'cheese_plate', 'chicken_curry', 'chicken_quesadilla', 'chicken_wings', 'chocolate_cake', 'chocolate_mousse', 'churros', 'clam_chowder', 'club_sandwich', 'crab_cakes', 'creme_brulee', 'croque_madame', 'cup_cakes', 'deviled_eggs', 'donuts', 'dumplings', 'edamame', 'eggs_benedict', 'escargots', 'falafel', 'filet_mignon', 'fish_and_chips', 'foie_gras', 'french_fries', 'french_onion_soup', 'french_toast', 'fried_calamari', 'fried_rice', 'frozen_yogurt', 'garlic_bread', 'gnocchi', 'greek_salad', 'grilled_cheese_sandwich', 'grilled_salmon', 'guacamole', 'gyoza', 'hamburger', 'hot_and_sour_soup', 'hot_dog', 'huevos_rancheros', 'hummus', 'ice_cream', 'lasagna', 'lobster_bisque', 'lobster_roll_sandwich', 'macaroni_and_cheese', 'macarons', 'miso_soup', 'mussels', 'nachos', 'omelette', 'onion_rings', 'oysters', 'pad_thai', 'paella', 'pancakes', 'panna_cotta', 'peking_duck', 'pho', 'pizza', 'pork_chop', 'poutine', 'prime_rib', 'pulled_pork_sandwich', 'ramen', 'ravioli', 'red_velvet_cake', 'risotto', 'samosa', 'sashimi', 'scallops', 'seaweed_salad', 'shrimp_and_grits', 'spaghetti_bolognese', 'spaghetti_carbonara', 'spring_rolls', 'steak', 'strawberry_shortcake', 'sushi', 'tacos', 'takoyaki', 'tiramisu', 'tuna_tartare', 'waffles']\n"
          ]
        }
      ]
    },
    {
      "cell_type": "markdown",
      "id": "b53157ca",
      "metadata": {
        "id": "b53157ca"
      },
      "source": [
        "from transformers import AutoTokenizer, RobertaModel\n",
        "\n",
        "import torch\n",
        "\n",
        "tokenizer = AutoTokenizer.from_pretrained(\"roberta-base\")\n",
        "\n",
        "model = RobertaModel.from_pretrained(\"roberta-base\")\n",
        "\n",
        "inputs = tokenizer(\"Hello, my dog is cute\", return_tensors=\"pt\")\n",
        "\n",
        "outputs = model(**inputs)\n",
        "\n",
        "last_hidden_states = outputs.last_hidden_state"
      ]
    },
    {
      "cell_type": "code",
      "execution_count": 8,
      "metadata": {
        "colab": {
          "base_uri": "https://localhost:8080/",
          "height": 607,
          "referenced_widgets": [
            "f485de3c8fa94642a464b2f57a87f6d9",
            "827d4dec3b164fe6a1e381134b77f075",
            "7b8a71e299c64cb8a7617c0001898428",
            "a7f5bfe2581147ae98b73f80cd932d84",
            "41c5d5c389e94842b85292e8c5720d65",
            "ebf0c67ff0274a4da40b6ffc76066d8d",
            "9cb63603810d485dac0fc8ea502004e6",
            "1a64015f3e4743608f71be046b28ab47",
            "93305c7a6d2a467d908d07e327074b50",
            "91012f3c2bed4a078757ec6313df5fc5",
            "37cf89e86ddd4521a2c7cac7154f0ea1",
            "d587e6190aa04b28b3d6c21f7b74073a",
            "0695d724862746fb8e31d63e55fbcbb0",
            "ce90c8e8cf7a419eac99ead3fe49b814",
            "7eb9f1642da64328a5c06b1d89605515",
            "ceb56450ec5b46dfa8d836c375346c1e",
            "ca02dec43a334bda93b1aca5f15acaae",
            "8fe0f5b078cc4711850171778ddeab83",
            "fd86b51202df4d89b9e504922b055e60",
            "7106f8b5942f4561a740cddf843fc36b",
            "735619c2a26e48d3809051bb9e80f87e",
            "08f89769987441fbaf3b306be5ff8323"
          ]
        },
        "id": "bYAFOuzmW2Dh",
        "outputId": "5de7a322-0da1-4cf4-f165-ff1b39e351cd"
      },
      "outputs": [
        {
          "output_type": "stream",
          "name": "stdout",
          "text": [
            "0.24.1\n"
          ]
        },
        {
          "output_type": "stream",
          "name": "stderr",
          "text": [
            "Some weights of RobertaForSequenceClassification were not initialized from the model checkpoint at roberta-base and are newly initialized: ['classifier.out_proj.bias', 'classifier.dense.weight', 'classifier.out_proj.weight', 'classifier.dense.bias']\n",
            "You should probably TRAIN this model on a down-stream task to be able to use it for predictions and inference.\n"
          ]
        },
        {
          "output_type": "display_data",
          "data": {
            "text/plain": [
              "Map:   0%|          | 0/4000 [00:00<?, ? examples/s]"
            ],
            "application/vnd.jupyter.widget-view+json": {
              "version_major": 2,
              "version_minor": 0,
              "model_id": "f485de3c8fa94642a464b2f57a87f6d9"
            }
          },
          "metadata": {}
        },
        {
          "output_type": "stream",
          "name": "stdout",
          "text": [
            "[77, 79, 6, 10, 53, 20, 77, 20, 79, 79, 79, 79, 10, 6, 79, 6, 10, 53, 79, 10, 79, 79, 77, 77, 6, 20, 6, 79, 53, 81, 53, 81, 79, 81, 81, 10, 81, 79, 81, 6, 10, 6, 79, 6, 20, 6, 79, 53, 79, 6, 10, 81, 10, 81, 81, 81, 79, 6, 20, 6, 77, 20, 81, 53, 10, 6, 79, 79, 10, 53, 6, 6, 81, 53, 81, 6, 6, 10, 53, 81, 20, 53, 77, 53, 81, 81, 20, 79, 81, 20, 77, 20, 10, 6, 81, 79, 53, 53, 10, 20, 77, 81, 81, 81, 20, 10, 79, 77, 20, 77, 81, 20, 79, 79, 79, 6, 10, 81, 77, 81, 10, 79, 6, 10, 20, 79, 53, 77, 81, 81, 79, 81, 10, 53, 81, 10, 79, 53, 81, 79, 10, 6, 20, 6, 10, 79, 20, 81, 10, 53, 10, 6, 20, 10, 79, 53, 53, 20, 20, 79, 53, 10, 53, 10, 53, 10, 20, 77, 77, 10, 10, 79, 53, 77, 10, 20, 20, 20, 20, 79, 20, 20, 77, 79, 10, 79, 53, 20, 81, 20, 77, 53, 53, 81, 79, 10, 81, 10, 81, 77, 20, 79, 77, 77, 81, 53, 77, 20, 10, 20, 53, 81, 53, 10, 79, 53, 79, 6, 79, 20, 77, 81, 6, 10, 53, 10, 77, 6, 79, 81, 20, 79, 20, 53, 81, 79, 77, 53, 20, 79, 79, 77, 79, 53, 6, 79, 20, 20, 6, 10, 20, 81, 6, 10, 6, 79, 10, 77, 20, 77, 6, 81, 6, 53, 81, 20, 77, 77, 79, 10, 10, 81, 20, 10, 10, 6, 53, 6, 6, 20, 53, 20, 20, 79, 10, 79, 77, 79, 20, 79, 20, 6, 79, 20, 77, 10, 53, 53, 6, 20, 81, 77, 6, 77, 53, 81, 10, 6, 10, 6, 53, 53, 81, 81, 6, 77, 53, 6, 77, 77, 20, 81, 20, 79, 77, 53, 10, 53, 79, 10, 77, 79, 10, 20, 77, 10, 77, 81, 79, 77, 79, 79, 10, 6, 81, 10, 6, 53, 77, 53, 77, 6, 6, 10, 6, 6, 6, 81, 81, 6, 81, 20, 10, 6, 77, 53, 79, 53, 53, 77, 6, 53, 81, 6, 53, 20, 81, 20, 10, 81, 10, 77, 53, 53, 10, 79, 53, 10, 20, 53, 77, 79, 10, 20, 79, 20, 53, 53, 79, 53, 20, 77, 81, 20, 79, 81, 20, 77, 81, 81, 53, 81, 10, 6, 10, 79, 53, 20, 20, 53, 20, 79, 79, 53, 20, 81, 10, 10, 6, 53, 77, 20, 10, 6, 10, 81, 10, 6, 79, 79, 10, 79, 53, 77, 79, 53, 10, 20, 81, 6, 53, 10, 10, 10, 20, 6, 20, 20, 6, 10, 6, 81, 6, 6, 10, 20, 77, 79, 81, 6, 79, 77, 6, 20, 6, 6, 81, 81, 20, 20, 81, 53, 6, 10, 10, 81, 81, 53, 81, 6, 77, 53, 81, 6, 79, 81, 6, 53, 10, 79, 53, 10, 81, 6, 20, 10, 20, 79, 10, 77, 53, 79, 6, 6, 6, 6, 77, 20, 53, 53, 20, 10, 6, 20, 20, 53, 20, 53, 10, 20, 79, 77, 10, 6, 20, 77, 81, 53, 6, 20, 10, 81, 53, 10, 53, 10, 10, 20, 10, 20, 79, 79, 53, 81, 79, 81, 79, 79, 6, 53, 20, 81, 10, 6, 10, 10, 79, 77, 53, 20, 81, 10, 53, 20, 77, 79, 77, 77, 6, 81, 79, 6, 20, 6, 6, 6, 79, 6, 10, 79, 53, 81, 53, 10, 20, 10, 81, 6, 77, 10, 10, 6, 6, 77, 53, 6, 6, 77, 81, 10, 6, 81, 79, 79, 10, 81, 6, 6, 79, 6, 53, 81, 79, 79, 10, 10, 6, 53, 20, 77, 6, 20, 20, 20, 53, 53, 81, 6, 53, 20, 81, 79, 6, 53, 79, 81, 10, 20, 20, 20, 81, 77, 10, 77, 81, 79, 81, 20, 53, 10, 77, 79, 53, 53, 81, 77, 6, 10, 81, 6, 53, 6, 81, 79, 6, 6, 81, 20, 10, 10, 6, 53, 79, 77, 79, 53, 53, 20, 20, 6, 79, 6, 53, 79, 20, 6, 79, 77, 77, 81, 6, 10, 53, 53, 77, 53, 20, 79, 79, 53, 6, 79, 10, 53, 6, 81, 20, 77, 10, 6, 79, 53, 79, 53, 79, 79, 53, 53, 6, 6, 53, 20, 53, 79, 77, 10, 53, 6, 20, 53, 10, 81, 20, 79, 77, 10, 77, 53, 79, 77, 79, 6, 20, 10, 20, 79, 20, 20, 79, 53, 81, 79, 10, 20, 6, 20, 6, 53, 77, 79, 53, 79, 81, 20, 6, 6, 20, 6, 77, 20, 53, 10, 10, 81, 6, 20, 53, 79, 79, 20, 81, 79, 79, 6, 81, 77, 6, 10, 10, 79, 79, 77, 79, 10, 10, 79, 77, 20, 10, 6, 6, 10, 53, 77, 6, 79, 6, 6, 77, 6, 10, 20, 20, 81, 81, 53, 10, 20, 79, 77, 79, 20, 53, 6, 81, 6, 10, 53, 53, 81, 6, 10, 10, 10, 79, 10, 53, 53, 20, 77, 20, 77, 20, 81, 6, 79, 10, 6, 79, 20, 6, 81, 53, 6, 6, 6, 10, 53, 20, 79, 6, 77, 77, 81, 81, 10, 6, 53, 10, 81, 6, 79, 81, 10, 79, 77, 10, 10, 81, 6, 10, 79, 81, 53, 53, 81, 10, 10, 10, 10, 77, 20, 20, 53, 81, 20, 53, 10, 20, 10, 20, 20, 79, 81, 77, 20, 77, 81, 6, 10, 10, 10, 20, 81, 20, 10, 81, 10, 20, 20, 10, 53, 79, 10, 81, 20, 10, 10, 79, 79, 20, 10, 77, 81, 81, 20, 10, 20, 81, 6, 53, 53, 20, 10, 77, 79, 20, 53, 53, 6, 81, 20, 79, 20, 79, 6, 77, 53, 20, 79, 6, 6, 20, 6, 79, 81, 20, 79, 20, 10, 81, 20, 79, 77, 81, 81, 6, 20, 6, 81, 79, 77, 81, 10, 81, 6, 6, 81, 6, 6]\n",
            "{'0': 'apple_pie', '1': 'baby_back_ribs', '2': 'baklava', '3': 'beef_carpaccio', '4': 'beef_tartare', '5': 'beet_salad', '6': 'beignets', '7': 'bibimbap', '8': 'bread_pudding', '9': 'breakfast_burrito', '10': 'bruschetta', '11': 'caesar_salad', '12': 'cannoli', '13': 'caprese_salad', '14': 'carrot_cake', '15': 'ceviche', '16': 'cheesecake', '17': 'cheese_plate', '18': 'chicken_curry', '19': 'chicken_quesadilla', '20': 'chicken_wings', '21': 'chocolate_cake', '22': 'chocolate_mousse', '23': 'churros', '24': 'clam_chowder', '25': 'club_sandwich', '26': 'crab_cakes', '27': 'creme_brulee', '28': 'croque_madame', '29': 'cup_cakes', '30': 'deviled_eggs', '31': 'donuts', '32': 'dumplings', '33': 'edamame', '34': 'eggs_benedict', '35': 'escargots', '36': 'falafel', '37': 'filet_mignon', '38': 'fish_and_chips', '39': 'foie_gras', '40': 'french_fries', '41': 'french_onion_soup', '42': 'french_toast', '43': 'fried_calamari', '44': 'fried_rice', '45': 'frozen_yogurt', '46': 'garlic_bread', '47': 'gnocchi', '48': 'greek_salad', '49': 'grilled_cheese_sandwich', '50': 'grilled_salmon', '51': 'guacamole', '52': 'gyoza', '53': 'hamburger', '54': 'hot_and_sour_soup', '55': 'hot_dog', '56': 'huevos_rancheros', '57': 'hummus', '58': 'ice_cream', '59': 'lasagna', '60': 'lobster_bisque', '61': 'lobster_roll_sandwich', '62': 'macaroni_and_cheese', '63': 'macarons', '64': 'miso_soup', '65': 'mussels', '66': 'nachos', '67': 'omelette', '68': 'onion_rings', '69': 'oysters', '70': 'pad_thai', '71': 'paella', '72': 'pancakes', '73': 'panna_cotta', '74': 'peking_duck', '75': 'pho', '76': 'pizza', '77': 'pork_chop', '78': 'poutine', '79': 'prime_rib', '80': 'pulled_pork_sandwich', '81': 'ramen', '82': 'ravioli', '83': 'red_velvet_cake', '84': 'risotto', '85': 'samosa', '86': 'sashimi', '87': 'scallops', '88': 'seaweed_salad', '89': 'shrimp_and_grits', '90': 'spaghetti_bolognese', '91': 'spaghetti_carbonara', '92': 'spring_rolls', '93': 'steak', '94': 'strawberry_shortcake', '95': 'sushi', '96': 'tacos', '97': 'takoyaki', '98': 'tiramisu', '99': 'tuna_tartare', '100': 'waffles'}\n",
            "['pork_chop', 'prime_rib', 'beignets', 'bruschetta', 'hamburger', 'chicken_wings', 'pork_chop', 'chicken_wings', 'prime_rib', 'prime_rib', 'prime_rib', 'prime_rib', 'bruschetta', 'beignets', 'prime_rib', 'beignets', 'bruschetta', 'hamburger', 'prime_rib', 'bruschetta', 'prime_rib', 'prime_rib', 'pork_chop', 'pork_chop', 'beignets', 'chicken_wings', 'beignets', 'prime_rib', 'hamburger', 'ramen', 'hamburger', 'ramen', 'prime_rib', 'ramen', 'ramen', 'bruschetta', 'ramen', 'prime_rib', 'ramen', 'beignets', 'bruschetta', 'beignets', 'prime_rib', 'beignets', 'chicken_wings', 'beignets', 'prime_rib', 'hamburger', 'prime_rib', 'beignets', 'bruschetta', 'ramen', 'bruschetta', 'ramen', 'ramen', 'ramen', 'prime_rib', 'beignets', 'chicken_wings', 'beignets', 'pork_chop', 'chicken_wings', 'ramen', 'hamburger', 'bruschetta', 'beignets', 'prime_rib', 'prime_rib', 'bruschetta', 'hamburger', 'beignets', 'beignets', 'ramen', 'hamburger', 'ramen', 'beignets', 'beignets', 'bruschetta', 'hamburger', 'ramen', 'chicken_wings', 'hamburger', 'pork_chop', 'hamburger', 'ramen', 'ramen', 'chicken_wings', 'prime_rib', 'ramen', 'chicken_wings', 'pork_chop', 'chicken_wings', 'bruschetta', 'beignets', 'ramen', 'prime_rib', 'hamburger', 'hamburger', 'bruschetta', 'chicken_wings', 'pork_chop', 'ramen', 'ramen', 'ramen', 'chicken_wings', 'bruschetta', 'prime_rib', 'pork_chop', 'chicken_wings', 'pork_chop', 'ramen', 'chicken_wings', 'prime_rib', 'prime_rib', 'prime_rib', 'beignets', 'bruschetta', 'ramen', 'pork_chop', 'ramen', 'bruschetta', 'prime_rib', 'beignets', 'bruschetta', 'chicken_wings', 'prime_rib', 'hamburger', 'pork_chop', 'ramen', 'ramen', 'prime_rib', 'ramen', 'bruschetta', 'hamburger', 'ramen', 'bruschetta', 'prime_rib', 'hamburger', 'ramen', 'prime_rib', 'bruschetta', 'beignets', 'chicken_wings', 'beignets', 'bruschetta', 'prime_rib', 'chicken_wings', 'ramen', 'bruschetta', 'hamburger', 'bruschetta', 'beignets', 'chicken_wings', 'bruschetta', 'prime_rib', 'hamburger', 'hamburger', 'chicken_wings', 'chicken_wings', 'prime_rib', 'hamburger', 'bruschetta', 'hamburger', 'bruschetta', 'hamburger', 'bruschetta', 'chicken_wings', 'pork_chop', 'pork_chop', 'bruschetta', 'bruschetta', 'prime_rib', 'hamburger', 'pork_chop', 'bruschetta', 'chicken_wings', 'chicken_wings', 'chicken_wings', 'chicken_wings', 'prime_rib', 'chicken_wings', 'chicken_wings', 'pork_chop', 'prime_rib', 'bruschetta', 'prime_rib', 'hamburger', 'chicken_wings', 'ramen', 'chicken_wings', 'pork_chop', 'hamburger', 'hamburger', 'ramen', 'prime_rib', 'bruschetta', 'ramen', 'bruschetta', 'ramen', 'pork_chop', 'chicken_wings', 'prime_rib', 'pork_chop', 'pork_chop', 'ramen', 'hamburger', 'pork_chop', 'chicken_wings', 'bruschetta', 'chicken_wings', 'hamburger', 'ramen', 'hamburger', 'bruschetta', 'prime_rib', 'hamburger', 'prime_rib', 'beignets', 'prime_rib', 'chicken_wings', 'pork_chop', 'ramen', 'beignets', 'bruschetta', 'hamburger', 'bruschetta', 'pork_chop', 'beignets', 'prime_rib', 'ramen', 'chicken_wings', 'prime_rib', 'chicken_wings', 'hamburger', 'ramen', 'prime_rib', 'pork_chop', 'hamburger', 'chicken_wings', 'prime_rib', 'prime_rib', 'pork_chop', 'prime_rib', 'hamburger', 'beignets', 'prime_rib', 'chicken_wings', 'chicken_wings', 'beignets', 'bruschetta', 'chicken_wings', 'ramen', 'beignets', 'bruschetta', 'beignets', 'prime_rib', 'bruschetta', 'pork_chop', 'chicken_wings', 'pork_chop', 'beignets', 'ramen', 'beignets', 'hamburger', 'ramen', 'chicken_wings', 'pork_chop', 'pork_chop', 'prime_rib', 'bruschetta', 'bruschetta', 'ramen', 'chicken_wings', 'bruschetta', 'bruschetta', 'beignets', 'hamburger', 'beignets', 'beignets', 'chicken_wings', 'hamburger', 'chicken_wings', 'chicken_wings', 'prime_rib', 'bruschetta', 'prime_rib', 'pork_chop', 'prime_rib', 'chicken_wings', 'prime_rib', 'chicken_wings', 'beignets', 'prime_rib', 'chicken_wings', 'pork_chop', 'bruschetta', 'hamburger', 'hamburger', 'beignets', 'chicken_wings', 'ramen', 'pork_chop', 'beignets', 'pork_chop', 'hamburger', 'ramen', 'bruschetta', 'beignets', 'bruschetta', 'beignets', 'hamburger', 'hamburger', 'ramen', 'ramen', 'beignets', 'pork_chop', 'hamburger', 'beignets', 'pork_chop', 'pork_chop', 'chicken_wings', 'ramen', 'chicken_wings', 'prime_rib', 'pork_chop', 'hamburger', 'bruschetta', 'hamburger', 'prime_rib', 'bruschetta', 'pork_chop', 'prime_rib', 'bruschetta', 'chicken_wings', 'pork_chop', 'bruschetta', 'pork_chop', 'ramen', 'prime_rib', 'pork_chop', 'prime_rib', 'prime_rib', 'bruschetta', 'beignets', 'ramen', 'bruschetta', 'beignets', 'hamburger', 'pork_chop', 'hamburger', 'pork_chop', 'beignets', 'beignets', 'bruschetta', 'beignets', 'beignets', 'beignets', 'ramen', 'ramen', 'beignets', 'ramen', 'chicken_wings', 'bruschetta', 'beignets', 'pork_chop', 'hamburger', 'prime_rib', 'hamburger', 'hamburger', 'pork_chop', 'beignets', 'hamburger', 'ramen', 'beignets', 'hamburger', 'chicken_wings', 'ramen', 'chicken_wings', 'bruschetta', 'ramen', 'bruschetta', 'pork_chop', 'hamburger', 'hamburger', 'bruschetta', 'prime_rib', 'hamburger', 'bruschetta', 'chicken_wings', 'hamburger', 'pork_chop', 'prime_rib', 'bruschetta', 'chicken_wings', 'prime_rib', 'chicken_wings', 'hamburger', 'hamburger', 'prime_rib', 'hamburger', 'chicken_wings', 'pork_chop', 'ramen', 'chicken_wings', 'prime_rib', 'ramen', 'chicken_wings', 'pork_chop', 'ramen', 'ramen', 'hamburger', 'ramen', 'bruschetta', 'beignets', 'bruschetta', 'prime_rib', 'hamburger', 'chicken_wings', 'chicken_wings', 'hamburger', 'chicken_wings', 'prime_rib', 'prime_rib', 'hamburger', 'chicken_wings', 'ramen', 'bruschetta', 'bruschetta', 'beignets', 'hamburger', 'pork_chop', 'chicken_wings', 'bruschetta', 'beignets', 'bruschetta', 'ramen', 'bruschetta', 'beignets', 'prime_rib', 'prime_rib', 'bruschetta', 'prime_rib', 'hamburger', 'pork_chop', 'prime_rib', 'hamburger', 'bruschetta', 'chicken_wings', 'ramen', 'beignets', 'hamburger', 'bruschetta', 'bruschetta', 'bruschetta', 'chicken_wings', 'beignets', 'chicken_wings', 'chicken_wings', 'beignets', 'bruschetta', 'beignets', 'ramen', 'beignets', 'beignets', 'bruschetta', 'chicken_wings', 'pork_chop', 'prime_rib', 'ramen', 'beignets', 'prime_rib', 'pork_chop', 'beignets', 'chicken_wings', 'beignets', 'beignets', 'ramen', 'ramen', 'chicken_wings', 'chicken_wings', 'ramen', 'hamburger', 'beignets', 'bruschetta', 'bruschetta', 'ramen', 'ramen', 'hamburger', 'ramen', 'beignets', 'pork_chop', 'hamburger', 'ramen', 'beignets', 'prime_rib', 'ramen', 'beignets', 'hamburger', 'bruschetta', 'prime_rib', 'hamburger', 'bruschetta', 'ramen', 'beignets', 'chicken_wings', 'bruschetta', 'chicken_wings', 'prime_rib', 'bruschetta', 'pork_chop', 'hamburger', 'prime_rib', 'beignets', 'beignets', 'beignets', 'beignets', 'pork_chop', 'chicken_wings', 'hamburger', 'hamburger', 'chicken_wings', 'bruschetta', 'beignets', 'chicken_wings', 'chicken_wings', 'hamburger', 'chicken_wings', 'hamburger', 'bruschetta', 'chicken_wings', 'prime_rib', 'pork_chop', 'bruschetta', 'beignets', 'chicken_wings', 'pork_chop', 'ramen', 'hamburger', 'beignets', 'chicken_wings', 'bruschetta', 'ramen', 'hamburger', 'bruschetta', 'hamburger', 'bruschetta', 'bruschetta', 'chicken_wings', 'bruschetta', 'chicken_wings', 'prime_rib', 'prime_rib', 'hamburger', 'ramen', 'prime_rib', 'ramen', 'prime_rib', 'prime_rib', 'beignets', 'hamburger', 'chicken_wings', 'ramen', 'bruschetta', 'beignets', 'bruschetta', 'bruschetta', 'prime_rib', 'pork_chop', 'hamburger', 'chicken_wings', 'ramen', 'bruschetta', 'hamburger', 'chicken_wings', 'pork_chop', 'prime_rib', 'pork_chop', 'pork_chop', 'beignets', 'ramen', 'prime_rib', 'beignets', 'chicken_wings', 'beignets', 'beignets', 'beignets', 'prime_rib', 'beignets', 'bruschetta', 'prime_rib', 'hamburger', 'ramen', 'hamburger', 'bruschetta', 'chicken_wings', 'bruschetta', 'ramen', 'beignets', 'pork_chop', 'bruschetta', 'bruschetta', 'beignets', 'beignets', 'pork_chop', 'hamburger', 'beignets', 'beignets', 'pork_chop', 'ramen', 'bruschetta', 'beignets', 'ramen', 'prime_rib', 'prime_rib', 'bruschetta', 'ramen', 'beignets', 'beignets', 'prime_rib', 'beignets', 'hamburger', 'ramen', 'prime_rib', 'prime_rib', 'bruschetta', 'bruschetta', 'beignets', 'hamburger', 'chicken_wings', 'pork_chop', 'beignets', 'chicken_wings', 'chicken_wings', 'chicken_wings', 'hamburger', 'hamburger', 'ramen', 'beignets', 'hamburger', 'chicken_wings', 'ramen', 'prime_rib', 'beignets', 'hamburger', 'prime_rib', 'ramen', 'bruschetta', 'chicken_wings', 'chicken_wings', 'chicken_wings', 'ramen', 'pork_chop', 'bruschetta', 'pork_chop', 'ramen', 'prime_rib', 'ramen', 'chicken_wings', 'hamburger', 'bruschetta', 'pork_chop', 'prime_rib', 'hamburger', 'hamburger', 'ramen', 'pork_chop', 'beignets', 'bruschetta', 'ramen', 'beignets', 'hamburger', 'beignets', 'ramen', 'prime_rib', 'beignets', 'beignets', 'ramen', 'chicken_wings', 'bruschetta', 'bruschetta', 'beignets', 'hamburger', 'prime_rib', 'pork_chop', 'prime_rib', 'hamburger', 'hamburger', 'chicken_wings', 'chicken_wings', 'beignets', 'prime_rib', 'beignets', 'hamburger', 'prime_rib', 'chicken_wings', 'beignets', 'prime_rib', 'pork_chop', 'pork_chop', 'ramen', 'beignets', 'bruschetta', 'hamburger', 'hamburger', 'pork_chop', 'hamburger', 'chicken_wings', 'prime_rib', 'prime_rib', 'hamburger', 'beignets', 'prime_rib', 'bruschetta', 'hamburger', 'beignets', 'ramen', 'chicken_wings', 'pork_chop', 'bruschetta', 'beignets', 'prime_rib', 'hamburger', 'prime_rib', 'hamburger', 'prime_rib', 'prime_rib', 'hamburger', 'hamburger', 'beignets', 'beignets', 'hamburger', 'chicken_wings', 'hamburger', 'prime_rib', 'pork_chop', 'bruschetta', 'hamburger', 'beignets', 'chicken_wings', 'hamburger', 'bruschetta', 'ramen', 'chicken_wings', 'prime_rib', 'pork_chop', 'bruschetta', 'pork_chop', 'hamburger', 'prime_rib', 'pork_chop', 'prime_rib', 'beignets', 'chicken_wings', 'bruschetta', 'chicken_wings', 'prime_rib', 'chicken_wings', 'chicken_wings', 'prime_rib', 'hamburger', 'ramen', 'prime_rib', 'bruschetta', 'chicken_wings', 'beignets', 'chicken_wings', 'beignets', 'hamburger', 'pork_chop', 'prime_rib', 'hamburger', 'prime_rib', 'ramen', 'chicken_wings', 'beignets', 'beignets', 'chicken_wings', 'beignets', 'pork_chop', 'chicken_wings', 'hamburger', 'bruschetta', 'bruschetta', 'ramen', 'beignets', 'chicken_wings', 'hamburger', 'prime_rib', 'prime_rib', 'chicken_wings', 'ramen', 'prime_rib', 'prime_rib', 'beignets', 'ramen', 'pork_chop', 'beignets', 'bruschetta', 'bruschetta', 'prime_rib', 'prime_rib', 'pork_chop', 'prime_rib', 'bruschetta', 'bruschetta', 'prime_rib', 'pork_chop', 'chicken_wings', 'bruschetta', 'beignets', 'beignets', 'bruschetta', 'hamburger', 'pork_chop', 'beignets', 'prime_rib', 'beignets', 'beignets', 'pork_chop', 'beignets', 'bruschetta', 'chicken_wings', 'chicken_wings', 'ramen', 'ramen', 'hamburger', 'bruschetta', 'chicken_wings', 'prime_rib', 'pork_chop', 'prime_rib', 'chicken_wings', 'hamburger', 'beignets', 'ramen', 'beignets', 'bruschetta', 'hamburger', 'hamburger', 'ramen', 'beignets', 'bruschetta', 'bruschetta', 'bruschetta', 'prime_rib', 'bruschetta', 'hamburger', 'hamburger', 'chicken_wings', 'pork_chop', 'chicken_wings', 'pork_chop', 'chicken_wings', 'ramen', 'beignets', 'prime_rib', 'bruschetta', 'beignets', 'prime_rib', 'chicken_wings', 'beignets', 'ramen', 'hamburger', 'beignets', 'beignets', 'beignets', 'bruschetta', 'hamburger', 'chicken_wings', 'prime_rib', 'beignets', 'pork_chop', 'pork_chop', 'ramen', 'ramen', 'bruschetta', 'beignets', 'hamburger', 'bruschetta', 'ramen', 'beignets', 'prime_rib', 'ramen', 'bruschetta', 'prime_rib', 'pork_chop', 'bruschetta', 'bruschetta', 'ramen', 'beignets', 'bruschetta', 'prime_rib', 'ramen', 'hamburger', 'hamburger', 'ramen', 'bruschetta', 'bruschetta', 'bruschetta', 'bruschetta', 'pork_chop', 'chicken_wings', 'chicken_wings', 'hamburger', 'ramen', 'chicken_wings', 'hamburger', 'bruschetta', 'chicken_wings', 'bruschetta', 'chicken_wings', 'chicken_wings', 'prime_rib', 'ramen', 'pork_chop', 'chicken_wings', 'pork_chop', 'ramen', 'beignets', 'bruschetta', 'bruschetta', 'bruschetta', 'chicken_wings', 'ramen', 'chicken_wings', 'bruschetta', 'ramen', 'bruschetta', 'chicken_wings', 'chicken_wings', 'bruschetta', 'hamburger', 'prime_rib', 'bruschetta', 'ramen', 'chicken_wings', 'bruschetta', 'bruschetta', 'prime_rib', 'prime_rib', 'chicken_wings', 'bruschetta', 'pork_chop', 'ramen', 'ramen', 'chicken_wings', 'bruschetta', 'chicken_wings', 'ramen', 'beignets', 'hamburger', 'hamburger', 'chicken_wings', 'bruschetta', 'pork_chop', 'prime_rib', 'chicken_wings', 'hamburger', 'hamburger', 'beignets', 'ramen', 'chicken_wings', 'prime_rib', 'chicken_wings', 'prime_rib', 'beignets', 'pork_chop', 'hamburger', 'chicken_wings', 'prime_rib', 'beignets', 'beignets', 'chicken_wings', 'beignets', 'prime_rib', 'ramen', 'chicken_wings', 'prime_rib', 'chicken_wings', 'bruschetta', 'ramen', 'chicken_wings', 'prime_rib', 'pork_chop', 'ramen', 'ramen', 'beignets', 'chicken_wings', 'beignets', 'ramen', 'prime_rib', 'pork_chop', 'ramen', 'bruschetta', 'ramen', 'beignets', 'beignets', 'ramen', 'beignets', 'beignets']\n",
            "[77, 53, 53, 20, 20, 10, 79, 6, 79, 10, 6, 6, 53, 53, 10, 77, 10, 79, 77, 20, 77, 53, 20, 77, 20, 79, 53, 79, 10, 6, 81, 77, 6, 6, 6, 81, 20, 81, 6, 77, 6, 20, 53, 81, 6, 20, 79, 53, 81, 79, 20, 6, 77, 81, 6, 6, 53, 53, 81, 10, 79, 81, 10, 53, 6, 10, 79, 6, 6, 10, 81, 79, 53, 10, 20, 10, 81, 10, 6, 6, 10, 79, 79, 53, 20, 53, 10, 53, 81, 53, 20, 10, 53, 20, 77, 20, 81, 6, 53, 79, 20, 10, 10, 6, 20, 20, 53, 77, 20, 53, 53, 79, 81, 81, 77, 77, 53, 77, 10, 20, 77, 6, 20, 77, 79, 81, 20, 79, 81, 81, 10, 20, 81, 77, 10, 53, 81, 79, 81, 53, 77, 6, 77, 53, 20, 6, 81, 20, 77, 77, 6, 6, 20, 79, 79, 53, 77, 20, 6, 81, 6, 79, 53, 81, 79, 79, 77, 53, 53, 20, 53, 53, 53, 77, 10, 79, 10, 6, 81, 10, 20, 6, 79, 10, 77, 6, 10, 79, 53, 79, 81, 6, 77, 53, 77, 79, 81, 20, 20, 20, 79, 77, 79, 10, 6, 20, 53, 77, 77, 20, 10, 77, 10, 81, 10, 77, 10, 6, 77, 6, 81, 53, 20, 81, 79, 77, 6, 6, 20, 81, 53, 81, 10, 6, 6, 81, 79, 81, 6, 10, 79, 81, 79, 53, 6, 77, 79, 20, 10, 81, 10, 20, 10, 81, 77, 79, 79, 10, 20, 53, 53, 79, 53, 77, 77, 10, 6, 20, 53, 20, 81, 20, 77, 10, 79, 79, 10, 10, 77, 10, 53, 20, 77, 53, 79, 20, 10, 79, 6, 20, 20, 77, 79, 79, 53, 20, 77, 20, 53, 79, 10, 53, 20, 77, 20, 79, 6, 20, 6, 77, 6, 81, 81, 79, 77, 81, 10, 53, 10, 53, 53, 53, 10, 53, 6, 6, 79, 53, 20, 6, 79, 10, 53, 10, 20, 6, 6, 81, 53, 79, 20, 79, 53, 81, 79, 20, 20, 77, 53, 77, 6, 81, 81, 81, 53, 81, 10, 6, 10, 53, 20, 20, 77, 77, 79, 81, 79, 20, 10, 53, 10, 10, 81, 53, 20, 20, 79, 81, 53, 53, 10, 6, 77, 53, 10, 81, 20, 77, 79, 6, 79, 53, 20, 79, 53, 77, 53, 81, 77, 53, 81, 53, 77, 79, 10, 6, 77, 79, 6, 77, 6, 20, 81, 6, 6, 6, 79, 81, 20, 81, 6, 79, 81, 20, 20, 10, 81, 6, 6, 79, 53, 10, 81, 6, 20, 79, 20, 10, 10, 10, 81, 6, 81, 77, 81, 10, 53, 77, 53, 20, 53, 6, 77, 77, 20, 6, 20, 6, 10, 79, 10, 53, 6, 20, 79, 53, 6, 10, 81, 53, 79, 79, 81, 6, 20, 6, 20, 20, 77, 81, 10, 20, 10, 79, 79, 6, 79, 81, 81, 79, 20, 79, 81, 20, 53, 53, 79, 20, 20, 81, 6, 81, 10, 6, 53, 6, 79, 81, 81, 79, 6, 20, 81, 6, 6, 77, 81, 53, 81, 81, 6, 10, 81, 79, 77, 79, 20, 79, 53, 79, 6, 77, 53, 79, 81, 53, 20, 53, 20, 53, 10, 53, 10, 10, 81, 53, 77, 53, 10, 20, 77, 10, 10, 79, 6, 81, 10, 81, 81, 53, 81, 53, 53, 6, 81, 6, 79, 10, 6, 53, 79, 53, 79, 10, 10, 77, 81, 20, 53, 10, 20, 81, 53, 6, 6, 77, 10, 79, 77, 81, 6, 53, 20, 20, 53, 53, 6, 53, 20, 79, 6, 10, 81, 79, 79, 6, 6, 10, 77, 10, 10, 81, 53, 53, 77, 79, 6, 81, 6, 10, 81, 53, 20, 10, 79, 81, 77, 10, 53, 81, 79, 10, 20, 53, 6, 81, 6, 10, 6, 81, 77, 20, 6, 6, 79, 81, 79, 20, 6, 6, 81, 6, 10, 77, 81, 81, 77, 20, 53, 79, 77, 53, 81, 81, 79, 20, 20, 53, 10, 10, 79, 79, 6, 79, 77, 81, 81, 20, 81, 79, 53, 10, 53, 79, 77, 10, 79, 53, 53, 79, 53, 81, 6, 10, 10, 53, 10, 53, 20, 6, 81, 53, 10, 6, 53, 81, 81, 79, 79, 79, 6, 53, 81, 79, 81, 6, 53, 10, 77, 20, 53, 53, 53, 77, 20, 79, 81, 53, 6, 79, 81, 53, 20, 10, 81, 20, 20, 20, 20, 10, 77, 81, 6, 79, 53, 81, 6, 10, 10, 79, 81, 20, 6, 79, 79, 20, 77, 20, 20, 79, 10, 10, 77, 53, 20, 10, 79, 20, 20, 81, 81, 10, 77, 81, 10, 79, 6, 10, 81, 20, 81, 53, 10, 6, 53, 10, 81, 20, 20, 20, 53, 10, 77, 53, 10, 10, 53, 6, 20, 6, 77, 6, 81, 53, 79, 6, 10, 77, 20, 10, 79, 79, 79, 10, 81, 81, 20, 20, 10, 79, 20, 81, 81, 79, 81, 77, 10, 79, 6, 53, 20, 10, 79, 77, 20, 10, 10, 79, 20, 79, 53, 10, 10, 20, 6, 6, 77, 77, 10, 20, 10, 10, 53, 81, 20, 53, 77, 81, 79, 53, 53, 81, 10, 79, 79, 6, 20, 20, 20, 77, 77, 77, 77, 77, 77, 53, 10, 77, 81, 79, 77, 77, 20, 81, 79, 20, 20, 79, 79, 79, 53, 53, 53, 81, 77, 77, 79, 20, 6, 77, 10, 6, 20, 77, 79, 79, 10, 10, 81, 81, 77, 20, 20, 6, 6, 6, 77, 79, 20, 53, 6, 53, 77, 81, 79, 6, 6, 77, 77, 77, 10, 53, 79, 20, 10, 20, 20, 6, 10, 77, 81, 81, 79, 20, 81, 81, 20, 53, 6, 20, 20, 20, 81, 77, 77, 77, 81, 77, 53, 81, 10, 10, 77, 10, 6, 10, 53, 53, 10, 53, 53, 6, 20, 77, 53, 79, 53, 79, 81, 20, 20, 6, 81, 53, 53, 81, 6, 77, 53, 53, 53, 53, 20, 79, 81, 6, 6, 20, 10, 6]\n",
            "{'0': 'apple_pie', '1': 'baby_back_ribs', '2': 'baklava', '3': 'beef_carpaccio', '4': 'beef_tartare', '5': 'beet_salad', '6': 'beignets', '7': 'bibimbap', '8': 'bread_pudding', '9': 'breakfast_burrito', '10': 'bruschetta', '11': 'caesar_salad', '12': 'cannoli', '13': 'caprese_salad', '14': 'carrot_cake', '15': 'ceviche', '16': 'cheesecake', '17': 'cheese_plate', '18': 'chicken_curry', '19': 'chicken_quesadilla', '20': 'chicken_wings', '21': 'chocolate_cake', '22': 'chocolate_mousse', '23': 'churros', '24': 'clam_chowder', '25': 'club_sandwich', '26': 'crab_cakes', '27': 'creme_brulee', '28': 'croque_madame', '29': 'cup_cakes', '30': 'deviled_eggs', '31': 'donuts', '32': 'dumplings', '33': 'edamame', '34': 'eggs_benedict', '35': 'escargots', '36': 'falafel', '37': 'filet_mignon', '38': 'fish_and_chips', '39': 'foie_gras', '40': 'french_fries', '41': 'french_onion_soup', '42': 'french_toast', '43': 'fried_calamari', '44': 'fried_rice', '45': 'frozen_yogurt', '46': 'garlic_bread', '47': 'gnocchi', '48': 'greek_salad', '49': 'grilled_cheese_sandwich', '50': 'grilled_salmon', '51': 'guacamole', '52': 'gyoza', '53': 'hamburger', '54': 'hot_and_sour_soup', '55': 'hot_dog', '56': 'huevos_rancheros', '57': 'hummus', '58': 'ice_cream', '59': 'lasagna', '60': 'lobster_bisque', '61': 'lobster_roll_sandwich', '62': 'macaroni_and_cheese', '63': 'macarons', '64': 'miso_soup', '65': 'mussels', '66': 'nachos', '67': 'omelette', '68': 'onion_rings', '69': 'oysters', '70': 'pad_thai', '71': 'paella', '72': 'pancakes', '73': 'panna_cotta', '74': 'peking_duck', '75': 'pho', '76': 'pizza', '77': 'pork_chop', '78': 'poutine', '79': 'prime_rib', '80': 'pulled_pork_sandwich', '81': 'ramen', '82': 'ravioli', '83': 'red_velvet_cake', '84': 'risotto', '85': 'samosa', '86': 'sashimi', '87': 'scallops', '88': 'seaweed_salad', '89': 'shrimp_and_grits', '90': 'spaghetti_bolognese', '91': 'spaghetti_carbonara', '92': 'spring_rolls', '93': 'steak', '94': 'strawberry_shortcake', '95': 'sushi', '96': 'tacos', '97': 'takoyaki', '98': 'tiramisu', '99': 'tuna_tartare', '100': 'waffles'}\n",
            "['pork_chop', 'hamburger', 'hamburger', 'chicken_wings', 'chicken_wings', 'bruschetta', 'prime_rib', 'beignets', 'prime_rib', 'bruschetta', 'beignets', 'beignets', 'hamburger', 'hamburger', 'bruschetta', 'pork_chop', 'bruschetta', 'prime_rib', 'pork_chop', 'chicken_wings', 'pork_chop', 'hamburger', 'chicken_wings', 'pork_chop', 'chicken_wings', 'prime_rib', 'hamburger', 'prime_rib', 'bruschetta', 'beignets', 'ramen', 'pork_chop', 'beignets', 'beignets', 'beignets', 'ramen', 'chicken_wings', 'ramen', 'beignets', 'pork_chop', 'beignets', 'chicken_wings', 'hamburger', 'ramen', 'beignets', 'chicken_wings', 'prime_rib', 'hamburger', 'ramen', 'prime_rib', 'chicken_wings', 'beignets', 'pork_chop', 'ramen', 'beignets', 'beignets', 'hamburger', 'hamburger', 'ramen', 'bruschetta', 'prime_rib', 'ramen', 'bruschetta', 'hamburger', 'beignets', 'bruschetta', 'prime_rib', 'beignets', 'beignets', 'bruschetta', 'ramen', 'prime_rib', 'hamburger', 'bruschetta', 'chicken_wings', 'bruschetta', 'ramen', 'bruschetta', 'beignets', 'beignets', 'bruschetta', 'prime_rib', 'prime_rib', 'hamburger', 'chicken_wings', 'hamburger', 'bruschetta', 'hamburger', 'ramen', 'hamburger', 'chicken_wings', 'bruschetta', 'hamburger', 'chicken_wings', 'pork_chop', 'chicken_wings', 'ramen', 'beignets', 'hamburger', 'prime_rib', 'chicken_wings', 'bruschetta', 'bruschetta', 'beignets', 'chicken_wings', 'chicken_wings', 'hamburger', 'pork_chop', 'chicken_wings', 'hamburger', 'hamburger', 'prime_rib', 'ramen', 'ramen', 'pork_chop', 'pork_chop', 'hamburger', 'pork_chop', 'bruschetta', 'chicken_wings', 'pork_chop', 'beignets', 'chicken_wings', 'pork_chop', 'prime_rib', 'ramen', 'chicken_wings', 'prime_rib', 'ramen', 'ramen', 'bruschetta', 'chicken_wings', 'ramen', 'pork_chop', 'bruschetta', 'hamburger', 'ramen', 'prime_rib', 'ramen', 'hamburger', 'pork_chop', 'beignets', 'pork_chop', 'hamburger', 'chicken_wings', 'beignets', 'ramen', 'chicken_wings', 'pork_chop', 'pork_chop', 'beignets', 'beignets', 'chicken_wings', 'prime_rib', 'prime_rib', 'hamburger', 'pork_chop', 'chicken_wings', 'beignets', 'ramen', 'beignets', 'prime_rib', 'hamburger', 'ramen', 'prime_rib', 'prime_rib', 'pork_chop', 'hamburger', 'hamburger', 'chicken_wings', 'hamburger', 'hamburger', 'hamburger', 'pork_chop', 'bruschetta', 'prime_rib', 'bruschetta', 'beignets', 'ramen', 'bruschetta', 'chicken_wings', 'beignets', 'prime_rib', 'bruschetta', 'pork_chop', 'beignets', 'bruschetta', 'prime_rib', 'hamburger', 'prime_rib', 'ramen', 'beignets', 'pork_chop', 'hamburger', 'pork_chop', 'prime_rib', 'ramen', 'chicken_wings', 'chicken_wings', 'chicken_wings', 'prime_rib', 'pork_chop', 'prime_rib', 'bruschetta', 'beignets', 'chicken_wings', 'hamburger', 'pork_chop', 'pork_chop', 'chicken_wings', 'bruschetta', 'pork_chop', 'bruschetta', 'ramen', 'bruschetta', 'pork_chop', 'bruschetta', 'beignets', 'pork_chop', 'beignets', 'ramen', 'hamburger', 'chicken_wings', 'ramen', 'prime_rib', 'pork_chop', 'beignets', 'beignets', 'chicken_wings', 'ramen', 'hamburger', 'ramen', 'bruschetta', 'beignets', 'beignets', 'ramen', 'prime_rib', 'ramen', 'beignets', 'bruschetta', 'prime_rib', 'ramen', 'prime_rib', 'hamburger', 'beignets', 'pork_chop', 'prime_rib', 'chicken_wings', 'bruschetta', 'ramen', 'bruschetta', 'chicken_wings', 'bruschetta', 'ramen', 'pork_chop', 'prime_rib', 'prime_rib', 'bruschetta', 'chicken_wings', 'hamburger', 'hamburger', 'prime_rib', 'hamburger', 'pork_chop', 'pork_chop', 'bruschetta', 'beignets', 'chicken_wings', 'hamburger', 'chicken_wings', 'ramen', 'chicken_wings', 'pork_chop', 'bruschetta', 'prime_rib', 'prime_rib', 'bruschetta', 'bruschetta', 'pork_chop', 'bruschetta', 'hamburger', 'chicken_wings', 'pork_chop', 'hamburger', 'prime_rib', 'chicken_wings', 'bruschetta', 'prime_rib', 'beignets', 'chicken_wings', 'chicken_wings', 'pork_chop', 'prime_rib', 'prime_rib', 'hamburger', 'chicken_wings', 'pork_chop', 'chicken_wings', 'hamburger', 'prime_rib', 'bruschetta', 'hamburger', 'chicken_wings', 'pork_chop', 'chicken_wings', 'prime_rib', 'beignets', 'chicken_wings', 'beignets', 'pork_chop', 'beignets', 'ramen', 'ramen', 'prime_rib', 'pork_chop', 'ramen', 'bruschetta', 'hamburger', 'bruschetta', 'hamburger', 'hamburger', 'hamburger', 'bruschetta', 'hamburger', 'beignets', 'beignets', 'prime_rib', 'hamburger', 'chicken_wings', 'beignets', 'prime_rib', 'bruschetta', 'hamburger', 'bruschetta', 'chicken_wings', 'beignets', 'beignets', 'ramen', 'hamburger', 'prime_rib', 'chicken_wings', 'prime_rib', 'hamburger', 'ramen', 'prime_rib', 'chicken_wings', 'chicken_wings', 'pork_chop', 'hamburger', 'pork_chop', 'beignets', 'ramen', 'ramen', 'ramen', 'hamburger', 'ramen', 'bruschetta', 'beignets', 'bruschetta', 'hamburger', 'chicken_wings', 'chicken_wings', 'pork_chop', 'pork_chop', 'prime_rib', 'ramen', 'prime_rib', 'chicken_wings', 'bruschetta', 'hamburger', 'bruschetta', 'bruschetta', 'ramen', 'hamburger', 'chicken_wings', 'chicken_wings', 'prime_rib', 'ramen', 'hamburger', 'hamburger', 'bruschetta', 'beignets', 'pork_chop', 'hamburger', 'bruschetta', 'ramen', 'chicken_wings', 'pork_chop', 'prime_rib', 'beignets', 'prime_rib', 'hamburger', 'chicken_wings', 'prime_rib', 'hamburger', 'pork_chop', 'hamburger', 'ramen', 'pork_chop', 'hamburger', 'ramen', 'hamburger', 'pork_chop', 'prime_rib', 'bruschetta', 'beignets', 'pork_chop', 'prime_rib', 'beignets', 'pork_chop', 'beignets', 'chicken_wings', 'ramen', 'beignets', 'beignets', 'beignets', 'prime_rib', 'ramen', 'chicken_wings', 'ramen', 'beignets', 'prime_rib', 'ramen', 'chicken_wings', 'chicken_wings', 'bruschetta', 'ramen', 'beignets', 'beignets', 'prime_rib', 'hamburger', 'bruschetta', 'ramen', 'beignets', 'chicken_wings', 'prime_rib', 'chicken_wings', 'bruschetta', 'bruschetta', 'bruschetta', 'ramen', 'beignets', 'ramen', 'pork_chop', 'ramen', 'bruschetta', 'hamburger', 'pork_chop', 'hamburger', 'chicken_wings', 'hamburger', 'beignets', 'pork_chop', 'pork_chop', 'chicken_wings', 'beignets', 'chicken_wings', 'beignets', 'bruschetta', 'prime_rib', 'bruschetta', 'hamburger', 'beignets', 'chicken_wings', 'prime_rib', 'hamburger', 'beignets', 'bruschetta', 'ramen', 'hamburger', 'prime_rib', 'prime_rib', 'ramen', 'beignets', 'chicken_wings', 'beignets', 'chicken_wings', 'chicken_wings', 'pork_chop', 'ramen', 'bruschetta', 'chicken_wings', 'bruschetta', 'prime_rib', 'prime_rib', 'beignets', 'prime_rib', 'ramen', 'ramen', 'prime_rib', 'chicken_wings', 'prime_rib', 'ramen', 'chicken_wings', 'hamburger', 'hamburger', 'prime_rib', 'chicken_wings', 'chicken_wings', 'ramen', 'beignets', 'ramen', 'bruschetta', 'beignets', 'hamburger', 'beignets', 'prime_rib', 'ramen', 'ramen', 'prime_rib', 'beignets', 'chicken_wings', 'ramen', 'beignets', 'beignets', 'pork_chop', 'ramen', 'hamburger', 'ramen', 'ramen', 'beignets', 'bruschetta', 'ramen', 'prime_rib', 'pork_chop', 'prime_rib', 'chicken_wings', 'prime_rib', 'hamburger', 'prime_rib', 'beignets', 'pork_chop', 'hamburger', 'prime_rib', 'ramen', 'hamburger', 'chicken_wings', 'hamburger', 'chicken_wings', 'hamburger', 'bruschetta', 'hamburger', 'bruschetta', 'bruschetta', 'ramen', 'hamburger', 'pork_chop', 'hamburger', 'bruschetta', 'chicken_wings', 'pork_chop', 'bruschetta', 'bruschetta', 'prime_rib', 'beignets', 'ramen', 'bruschetta', 'ramen', 'ramen', 'hamburger', 'ramen', 'hamburger', 'hamburger', 'beignets', 'ramen', 'beignets', 'prime_rib', 'bruschetta', 'beignets', 'hamburger', 'prime_rib', 'hamburger', 'prime_rib', 'bruschetta', 'bruschetta', 'pork_chop', 'ramen', 'chicken_wings', 'hamburger', 'bruschetta', 'chicken_wings', 'ramen', 'hamburger', 'beignets', 'beignets', 'pork_chop', 'bruschetta', 'prime_rib', 'pork_chop', 'ramen', 'beignets', 'hamburger', 'chicken_wings', 'chicken_wings', 'hamburger', 'hamburger', 'beignets', 'hamburger', 'chicken_wings', 'prime_rib', 'beignets', 'bruschetta', 'ramen', 'prime_rib', 'prime_rib', 'beignets', 'beignets', 'bruschetta', 'pork_chop', 'bruschetta', 'bruschetta', 'ramen', 'hamburger', 'hamburger', 'pork_chop', 'prime_rib', 'beignets', 'ramen', 'beignets', 'bruschetta', 'ramen', 'hamburger', 'chicken_wings', 'bruschetta', 'prime_rib', 'ramen', 'pork_chop', 'bruschetta', 'hamburger', 'ramen', 'prime_rib', 'bruschetta', 'chicken_wings', 'hamburger', 'beignets', 'ramen', 'beignets', 'bruschetta', 'beignets', 'ramen', 'pork_chop', 'chicken_wings', 'beignets', 'beignets', 'prime_rib', 'ramen', 'prime_rib', 'chicken_wings', 'beignets', 'beignets', 'ramen', 'beignets', 'bruschetta', 'pork_chop', 'ramen', 'ramen', 'pork_chop', 'chicken_wings', 'hamburger', 'prime_rib', 'pork_chop', 'hamburger', 'ramen', 'ramen', 'prime_rib', 'chicken_wings', 'chicken_wings', 'hamburger', 'bruschetta', 'bruschetta', 'prime_rib', 'prime_rib', 'beignets', 'prime_rib', 'pork_chop', 'ramen', 'ramen', 'chicken_wings', 'ramen', 'prime_rib', 'hamburger', 'bruschetta', 'hamburger', 'prime_rib', 'pork_chop', 'bruschetta', 'prime_rib', 'hamburger', 'hamburger', 'prime_rib', 'hamburger', 'ramen', 'beignets', 'bruschetta', 'bruschetta', 'hamburger', 'bruschetta', 'hamburger', 'chicken_wings', 'beignets', 'ramen', 'hamburger', 'bruschetta', 'beignets', 'hamburger', 'ramen', 'ramen', 'prime_rib', 'prime_rib', 'prime_rib', 'beignets', 'hamburger', 'ramen', 'prime_rib', 'ramen', 'beignets', 'hamburger', 'bruschetta', 'pork_chop', 'chicken_wings', 'hamburger', 'hamburger', 'hamburger', 'pork_chop', 'chicken_wings', 'prime_rib', 'ramen', 'hamburger', 'beignets', 'prime_rib', 'ramen', 'hamburger', 'chicken_wings', 'bruschetta', 'ramen', 'chicken_wings', 'chicken_wings', 'chicken_wings', 'chicken_wings', 'bruschetta', 'pork_chop', 'ramen', 'beignets', 'prime_rib', 'hamburger', 'ramen', 'beignets', 'bruschetta', 'bruschetta', 'prime_rib', 'ramen', 'chicken_wings', 'beignets', 'prime_rib', 'prime_rib', 'chicken_wings', 'pork_chop', 'chicken_wings', 'chicken_wings', 'prime_rib', 'bruschetta', 'bruschetta', 'pork_chop', 'hamburger', 'chicken_wings', 'bruschetta', 'prime_rib', 'chicken_wings', 'chicken_wings', 'ramen', 'ramen', 'bruschetta', 'pork_chop', 'ramen', 'bruschetta', 'prime_rib', 'beignets', 'bruschetta', 'ramen', 'chicken_wings', 'ramen', 'hamburger', 'bruschetta', 'beignets', 'hamburger', 'bruschetta', 'ramen', 'chicken_wings', 'chicken_wings', 'chicken_wings', 'hamburger', 'bruschetta', 'pork_chop', 'hamburger', 'bruschetta', 'bruschetta', 'hamburger', 'beignets', 'chicken_wings', 'beignets', 'pork_chop', 'beignets', 'ramen', 'hamburger', 'prime_rib', 'beignets', 'bruschetta', 'pork_chop', 'chicken_wings', 'bruschetta', 'prime_rib', 'prime_rib', 'prime_rib', 'bruschetta', 'ramen', 'ramen', 'chicken_wings', 'chicken_wings', 'bruschetta', 'prime_rib', 'chicken_wings', 'ramen', 'ramen', 'prime_rib', 'ramen', 'pork_chop', 'bruschetta', 'prime_rib', 'beignets', 'hamburger', 'chicken_wings', 'bruschetta', 'prime_rib', 'pork_chop', 'chicken_wings', 'bruschetta', 'bruschetta', 'prime_rib', 'chicken_wings', 'prime_rib', 'hamburger', 'bruschetta', 'bruschetta', 'chicken_wings', 'beignets', 'beignets', 'pork_chop', 'pork_chop', 'bruschetta', 'chicken_wings', 'bruschetta', 'bruschetta', 'hamburger', 'ramen', 'chicken_wings', 'hamburger', 'pork_chop', 'ramen', 'prime_rib', 'hamburger', 'hamburger', 'ramen', 'bruschetta', 'prime_rib', 'prime_rib', 'beignets', 'chicken_wings', 'chicken_wings', 'chicken_wings', 'pork_chop', 'pork_chop', 'pork_chop', 'pork_chop', 'pork_chop', 'pork_chop', 'hamburger', 'bruschetta', 'pork_chop', 'ramen', 'prime_rib', 'pork_chop', 'pork_chop', 'chicken_wings', 'ramen', 'prime_rib', 'chicken_wings', 'chicken_wings', 'prime_rib', 'prime_rib', 'prime_rib', 'hamburger', 'hamburger', 'hamburger', 'ramen', 'pork_chop', 'pork_chop', 'prime_rib', 'chicken_wings', 'beignets', 'pork_chop', 'bruschetta', 'beignets', 'chicken_wings', 'pork_chop', 'prime_rib', 'prime_rib', 'bruschetta', 'bruschetta', 'ramen', 'ramen', 'pork_chop', 'chicken_wings', 'chicken_wings', 'beignets', 'beignets', 'beignets', 'pork_chop', 'prime_rib', 'chicken_wings', 'hamburger', 'beignets', 'hamburger', 'pork_chop', 'ramen', 'prime_rib', 'beignets', 'beignets', 'pork_chop', 'pork_chop', 'pork_chop', 'bruschetta', 'hamburger', 'prime_rib', 'chicken_wings', 'bruschetta', 'chicken_wings', 'chicken_wings', 'beignets', 'bruschetta', 'pork_chop', 'ramen', 'ramen', 'prime_rib', 'chicken_wings', 'ramen', 'ramen', 'chicken_wings', 'hamburger', 'beignets', 'chicken_wings', 'chicken_wings', 'chicken_wings', 'ramen', 'pork_chop', 'pork_chop', 'pork_chop', 'ramen', 'pork_chop', 'hamburger', 'ramen', 'bruschetta', 'bruschetta', 'pork_chop', 'bruschetta', 'beignets', 'bruschetta', 'hamburger', 'hamburger', 'bruschetta', 'hamburger', 'hamburger', 'beignets', 'chicken_wings', 'pork_chop', 'hamburger', 'prime_rib', 'hamburger', 'prime_rib', 'ramen', 'chicken_wings', 'chicken_wings', 'beignets', 'ramen', 'hamburger', 'hamburger', 'ramen', 'beignets', 'pork_chop', 'hamburger', 'hamburger', 'hamburger', 'hamburger', 'chicken_wings', 'prime_rib', 'ramen', 'beignets', 'beignets', 'chicken_wings', 'bruschetta', 'beignets']\n",
            "[81, 6, 77, 6, 53, 6, 20, 10, 53, 53, 81, 20, 79, 53, 53, 6, 81, 81, 81, 77, 6, 79, 79, 10, 79, 53, 79, 77, 79, 77, 81, 10, 53, 10, 53, 53, 79, 77, 81, 10, 10, 20, 77, 81, 20, 81, 79, 20, 79, 53, 53, 81, 53, 53, 77, 79, 81, 6, 77, 6, 6, 81, 53, 79, 79, 6, 6, 6, 6, 53, 77, 20, 79, 81, 53, 81, 53, 81, 81, 53, 53, 79, 77, 6, 20, 53, 20, 20, 20, 81, 53, 53, 6, 20, 10, 81, 81, 53, 81, 20, 77, 81, 10, 6, 20, 20, 6, 77, 81, 20, 20, 53, 81, 81, 77, 53, 79, 79, 81, 10, 79, 20, 79, 53, 6, 53, 79, 77, 10, 6, 79, 53, 10, 77, 20, 10, 81, 10, 53, 81, 81, 10, 81, 6, 20, 81, 20, 81, 6, 10, 20, 53, 81, 81, 79, 79, 53, 53, 79, 20, 6, 53, 53, 81, 20, 6, 53, 81, 10, 20, 79, 81, 10, 6, 79, 79, 6, 79, 77, 6, 6, 6, 10, 6, 53, 53, 79, 79, 20, 81, 10, 10, 10, 77, 10, 6, 53, 81, 79, 81, 10, 10, 77, 53, 6, 79, 10, 53, 20, 81, 81, 20, 77, 20, 81, 81, 10, 10, 6, 79, 81, 10, 79, 53, 79, 53, 6, 53, 79, 10, 20, 20, 10, 10, 53, 10, 79, 10, 10, 10, 53, 6, 6, 20, 20, 77, 81, 53, 20, 81, 77, 79, 10, 77, 79, 79, 6, 77, 53, 53, 77, 81, 81, 81, 20, 53, 77, 6, 79, 79, 20, 10, 79, 79, 77, 77, 20, 79, 79, 77, 20, 81, 6, 53, 20, 10, 10, 79, 20, 10, 79, 79, 81, 20, 10, 77, 77, 6, 6, 79, 81, 79, 20, 20, 10, 6, 79, 81, 53, 53, 20, 79, 6, 79, 53, 10, 10, 10, 10, 81, 6, 20, 79, 6, 20, 79, 20, 10, 53, 20, 10, 20, 20, 81, 10, 10, 20, 79, 20, 79, 20, 6, 79, 10, 81, 53, 20, 6, 6, 79, 81, 81, 20, 10, 10, 79, 81, 20, 53, 20, 81, 6, 20, 53, 79, 10, 53, 53, 53, 6, 79, 10, 6, 53, 53, 81, 10, 81, 79, 6, 10, 79, 6, 79, 79, 79, 6, 79, 53, 81, 10, 79, 77, 10, 77, 53, 10, 79, 10, 53, 79, 53, 79, 77, 20, 79, 53, 79, 6, 79, 10, 53, 79, 53, 81, 53, 77, 6, 6, 20, 6, 81, 20, 79, 81, 79, 20, 53, 79, 53, 10, 81, 20, 53, 20, 6, 79, 10, 6, 20, 77, 81, 81, 79, 6, 81, 20, 20, 53, 6, 53, 53, 77, 81, 10, 20, 81, 10, 79, 77, 53, 81, 20, 81, 77, 81, 77, 81, 81, 79, 79, 53, 77, 77, 10, 79, 6, 81, 6, 53, 79, 53, 77, 10, 81, 81, 79, 10, 81, 79, 10, 79, 10, 6, 53, 77, 81, 20, 81, 81, 77, 79, 81, 81, 53, 20, 10, 10, 6, 20, 53, 53, 53, 81, 6, 53, 6, 10, 10, 20, 79, 79, 79, 53, 81, 81, 10, 10, 81, 10, 6, 79, 20, 53, 10, 81, 53, 81, 10, 20, 10, 79, 53, 79, 53, 10, 20, 77, 20, 79, 79, 79, 81, 81, 10, 53, 81, 81, 53, 81, 10, 79, 81, 20, 79, 20, 6, 53, 6, 53, 20, 10, 53, 77, 79, 53, 53, 77, 81, 6, 81, 20, 6, 79, 77, 20, 81, 10, 6, 79, 81, 6, 77, 77, 79, 77, 6, 79, 53, 79, 53, 81, 10, 6, 81, 81, 79, 53, 20, 53, 6, 6, 53, 10, 20, 6, 53, 81, 20, 10, 20, 81, 53, 10, 10, 79, 10, 77, 81, 6, 53, 6, 10, 6, 79, 81, 20, 81, 53, 6, 20, 53, 10, 53, 77, 20, 20, 81, 6, 10, 53, 81, 6, 81, 6, 79, 10, 53, 10, 20, 10, 6, 20, 6, 53, 81, 81, 77, 10, 77, 53, 79, 81, 20, 10, 81, 79, 81, 20, 10, 20, 53, 79, 79, 6, 10, 81, 77, 6, 53, 53, 79, 20, 77, 20, 20, 20, 77, 81, 10, 79, 20, 20, 10, 6, 20, 10, 20, 53, 77, 77, 81, 20, 6, 10, 53, 77, 79, 20, 77, 10, 77, 77, 10, 10, 10, 10, 20, 6, 79, 79, 20, 79, 20, 6, 6, 53, 81, 81, 20, 10, 81, 53, 53, 81, 77, 79, 10, 53, 10, 79, 20, 20, 81, 81, 81, 6, 53, 79, 77, 79, 6, 10, 6, 20, 81, 79, 77, 10, 53, 20, 79, 81, 53, 79, 79, 20, 53, 53, 77, 79, 79, 20, 81, 6, 79, 10, 6, 20, 81, 81, 81, 79, 53, 81, 79, 53, 20, 6, 10, 20, 77, 6, 10, 79, 79, 6, 20, 20, 6, 53, 10, 6, 20, 81, 53, 81, 53, 79, 81, 77, 10, 79, 6, 53, 81, 6, 10, 81, 6, 79, 6, 20, 79, 53, 81, 6, 20, 81, 53, 77, 20, 10, 10, 81, 10, 10, 10, 53, 20, 20, 20, 53, 77, 81, 77, 6, 53, 10, 10, 81, 20, 79, 79, 81, 81, 20, 81, 81, 6, 6, 77, 81, 6, 20, 79, 77, 6, 77, 53, 81, 6, 20, 79, 53, 20, 53, 6, 79, 6, 81, 6, 77, 10, 53, 6, 79, 10, 79, 81, 6, 79, 20, 53, 10, 20, 81, 79, 6, 81, 53, 77, 6, 79, 81, 77, 6, 81, 53, 20, 10, 81, 6, 20, 81, 81, 79, 79, 77, 10, 77, 6, 77, 81, 20, 79, 81, 10, 79, 53, 10, 53, 79, 6, 20, 6, 79, 6, 20, 6, 6, 10, 81, 79, 79, 53, 10, 77, 10, 81, 53, 10, 10, 6, 6, 10, 79, 53, 20, 6, 6, 79, 77, 81, 79, 20, 10, 6, 10, 6, 81, 10, 77, 81, 10, 79, 53, 6, 10, 77, 6, 79, 20, 10, 10, 6, 10, 79, 53, 20]\n",
            "{'0': 'apple_pie', '1': 'baby_back_ribs', '2': 'baklava', '3': 'beef_carpaccio', '4': 'beef_tartare', '5': 'beet_salad', '6': 'beignets', '7': 'bibimbap', '8': 'bread_pudding', '9': 'breakfast_burrito', '10': 'bruschetta', '11': 'caesar_salad', '12': 'cannoli', '13': 'caprese_salad', '14': 'carrot_cake', '15': 'ceviche', '16': 'cheesecake', '17': 'cheese_plate', '18': 'chicken_curry', '19': 'chicken_quesadilla', '20': 'chicken_wings', '21': 'chocolate_cake', '22': 'chocolate_mousse', '23': 'churros', '24': 'clam_chowder', '25': 'club_sandwich', '26': 'crab_cakes', '27': 'creme_brulee', '28': 'croque_madame', '29': 'cup_cakes', '30': 'deviled_eggs', '31': 'donuts', '32': 'dumplings', '33': 'edamame', '34': 'eggs_benedict', '35': 'escargots', '36': 'falafel', '37': 'filet_mignon', '38': 'fish_and_chips', '39': 'foie_gras', '40': 'french_fries', '41': 'french_onion_soup', '42': 'french_toast', '43': 'fried_calamari', '44': 'fried_rice', '45': 'frozen_yogurt', '46': 'garlic_bread', '47': 'gnocchi', '48': 'greek_salad', '49': 'grilled_cheese_sandwich', '50': 'grilled_salmon', '51': 'guacamole', '52': 'gyoza', '53': 'hamburger', '54': 'hot_and_sour_soup', '55': 'hot_dog', '56': 'huevos_rancheros', '57': 'hummus', '58': 'ice_cream', '59': 'lasagna', '60': 'lobster_bisque', '61': 'lobster_roll_sandwich', '62': 'macaroni_and_cheese', '63': 'macarons', '64': 'miso_soup', '65': 'mussels', '66': 'nachos', '67': 'omelette', '68': 'onion_rings', '69': 'oysters', '70': 'pad_thai', '71': 'paella', '72': 'pancakes', '73': 'panna_cotta', '74': 'peking_duck', '75': 'pho', '76': 'pizza', '77': 'pork_chop', '78': 'poutine', '79': 'prime_rib', '80': 'pulled_pork_sandwich', '81': 'ramen', '82': 'ravioli', '83': 'red_velvet_cake', '84': 'risotto', '85': 'samosa', '86': 'sashimi', '87': 'scallops', '88': 'seaweed_salad', '89': 'shrimp_and_grits', '90': 'spaghetti_bolognese', '91': 'spaghetti_carbonara', '92': 'spring_rolls', '93': 'steak', '94': 'strawberry_shortcake', '95': 'sushi', '96': 'tacos', '97': 'takoyaki', '98': 'tiramisu', '99': 'tuna_tartare', '100': 'waffles'}\n",
            "['ramen', 'beignets', 'pork_chop', 'beignets', 'hamburger', 'beignets', 'chicken_wings', 'bruschetta', 'hamburger', 'hamburger', 'ramen', 'chicken_wings', 'prime_rib', 'hamburger', 'hamburger', 'beignets', 'ramen', 'ramen', 'ramen', 'pork_chop', 'beignets', 'prime_rib', 'prime_rib', 'bruschetta', 'prime_rib', 'hamburger', 'prime_rib', 'pork_chop', 'prime_rib', 'pork_chop', 'ramen', 'bruschetta', 'hamburger', 'bruschetta', 'hamburger', 'hamburger', 'prime_rib', 'pork_chop', 'ramen', 'bruschetta', 'bruschetta', 'chicken_wings', 'pork_chop', 'ramen', 'chicken_wings', 'ramen', 'prime_rib', 'chicken_wings', 'prime_rib', 'hamburger', 'hamburger', 'ramen', 'hamburger', 'hamburger', 'pork_chop', 'prime_rib', 'ramen', 'beignets', 'pork_chop', 'beignets', 'beignets', 'ramen', 'hamburger', 'prime_rib', 'prime_rib', 'beignets', 'beignets', 'beignets', 'beignets', 'hamburger', 'pork_chop', 'chicken_wings', 'prime_rib', 'ramen', 'hamburger', 'ramen', 'hamburger', 'ramen', 'ramen', 'hamburger', 'hamburger', 'prime_rib', 'pork_chop', 'beignets', 'chicken_wings', 'hamburger', 'chicken_wings', 'chicken_wings', 'chicken_wings', 'ramen', 'hamburger', 'hamburger', 'beignets', 'chicken_wings', 'bruschetta', 'ramen', 'ramen', 'hamburger', 'ramen', 'chicken_wings', 'pork_chop', 'ramen', 'bruschetta', 'beignets', 'chicken_wings', 'chicken_wings', 'beignets', 'pork_chop', 'ramen', 'chicken_wings', 'chicken_wings', 'hamburger', 'ramen', 'ramen', 'pork_chop', 'hamburger', 'prime_rib', 'prime_rib', 'ramen', 'bruschetta', 'prime_rib', 'chicken_wings', 'prime_rib', 'hamburger', 'beignets', 'hamburger', 'prime_rib', 'pork_chop', 'bruschetta', 'beignets', 'prime_rib', 'hamburger', 'bruschetta', 'pork_chop', 'chicken_wings', 'bruschetta', 'ramen', 'bruschetta', 'hamburger', 'ramen', 'ramen', 'bruschetta', 'ramen', 'beignets', 'chicken_wings', 'ramen', 'chicken_wings', 'ramen', 'beignets', 'bruschetta', 'chicken_wings', 'hamburger', 'ramen', 'ramen', 'prime_rib', 'prime_rib', 'hamburger', 'hamburger', 'prime_rib', 'chicken_wings', 'beignets', 'hamburger', 'hamburger', 'ramen', 'chicken_wings', 'beignets', 'hamburger', 'ramen', 'bruschetta', 'chicken_wings', 'prime_rib', 'ramen', 'bruschetta', 'beignets', 'prime_rib', 'prime_rib', 'beignets', 'prime_rib', 'pork_chop', 'beignets', 'beignets', 'beignets', 'bruschetta', 'beignets', 'hamburger', 'hamburger', 'prime_rib', 'prime_rib', 'chicken_wings', 'ramen', 'bruschetta', 'bruschetta', 'bruschetta', 'pork_chop', 'bruschetta', 'beignets', 'hamburger', 'ramen', 'prime_rib', 'ramen', 'bruschetta', 'bruschetta', 'pork_chop', 'hamburger', 'beignets', 'prime_rib', 'bruschetta', 'hamburger', 'chicken_wings', 'ramen', 'ramen', 'chicken_wings', 'pork_chop', 'chicken_wings', 'ramen', 'ramen', 'bruschetta', 'bruschetta', 'beignets', 'prime_rib', 'ramen', 'bruschetta', 'prime_rib', 'hamburger', 'prime_rib', 'hamburger', 'beignets', 'hamburger', 'prime_rib', 'bruschetta', 'chicken_wings', 'chicken_wings', 'bruschetta', 'bruschetta', 'hamburger', 'bruschetta', 'prime_rib', 'bruschetta', 'bruschetta', 'bruschetta', 'hamburger', 'beignets', 'beignets', 'chicken_wings', 'chicken_wings', 'pork_chop', 'ramen', 'hamburger', 'chicken_wings', 'ramen', 'pork_chop', 'prime_rib', 'bruschetta', 'pork_chop', 'prime_rib', 'prime_rib', 'beignets', 'pork_chop', 'hamburger', 'hamburger', 'pork_chop', 'ramen', 'ramen', 'ramen', 'chicken_wings', 'hamburger', 'pork_chop', 'beignets', 'prime_rib', 'prime_rib', 'chicken_wings', 'bruschetta', 'prime_rib', 'prime_rib', 'pork_chop', 'pork_chop', 'chicken_wings', 'prime_rib', 'prime_rib', 'pork_chop', 'chicken_wings', 'ramen', 'beignets', 'hamburger', 'chicken_wings', 'bruschetta', 'bruschetta', 'prime_rib', 'chicken_wings', 'bruschetta', 'prime_rib', 'prime_rib', 'ramen', 'chicken_wings', 'bruschetta', 'pork_chop', 'pork_chop', 'beignets', 'beignets', 'prime_rib', 'ramen', 'prime_rib', 'chicken_wings', 'chicken_wings', 'bruschetta', 'beignets', 'prime_rib', 'ramen', 'hamburger', 'hamburger', 'chicken_wings', 'prime_rib', 'beignets', 'prime_rib', 'hamburger', 'bruschetta', 'bruschetta', 'bruschetta', 'bruschetta', 'ramen', 'beignets', 'chicken_wings', 'prime_rib', 'beignets', 'chicken_wings', 'prime_rib', 'chicken_wings', 'bruschetta', 'hamburger', 'chicken_wings', 'bruschetta', 'chicken_wings', 'chicken_wings', 'ramen', 'bruschetta', 'bruschetta', 'chicken_wings', 'prime_rib', 'chicken_wings', 'prime_rib', 'chicken_wings', 'beignets', 'prime_rib', 'bruschetta', 'ramen', 'hamburger', 'chicken_wings', 'beignets', 'beignets', 'prime_rib', 'ramen', 'ramen', 'chicken_wings', 'bruschetta', 'bruschetta', 'prime_rib', 'ramen', 'chicken_wings', 'hamburger', 'chicken_wings', 'ramen', 'beignets', 'chicken_wings', 'hamburger', 'prime_rib', 'bruschetta', 'hamburger', 'hamburger', 'hamburger', 'beignets', 'prime_rib', 'bruschetta', 'beignets', 'hamburger', 'hamburger', 'ramen', 'bruschetta', 'ramen', 'prime_rib', 'beignets', 'bruschetta', 'prime_rib', 'beignets', 'prime_rib', 'prime_rib', 'prime_rib', 'beignets', 'prime_rib', 'hamburger', 'ramen', 'bruschetta', 'prime_rib', 'pork_chop', 'bruschetta', 'pork_chop', 'hamburger', 'bruschetta', 'prime_rib', 'bruschetta', 'hamburger', 'prime_rib', 'hamburger', 'prime_rib', 'pork_chop', 'chicken_wings', 'prime_rib', 'hamburger', 'prime_rib', 'beignets', 'prime_rib', 'bruschetta', 'hamburger', 'prime_rib', 'hamburger', 'ramen', 'hamburger', 'pork_chop', 'beignets', 'beignets', 'chicken_wings', 'beignets', 'ramen', 'chicken_wings', 'prime_rib', 'ramen', 'prime_rib', 'chicken_wings', 'hamburger', 'prime_rib', 'hamburger', 'bruschetta', 'ramen', 'chicken_wings', 'hamburger', 'chicken_wings', 'beignets', 'prime_rib', 'bruschetta', 'beignets', 'chicken_wings', 'pork_chop', 'ramen', 'ramen', 'prime_rib', 'beignets', 'ramen', 'chicken_wings', 'chicken_wings', 'hamburger', 'beignets', 'hamburger', 'hamburger', 'pork_chop', 'ramen', 'bruschetta', 'chicken_wings', 'ramen', 'bruschetta', 'prime_rib', 'pork_chop', 'hamburger', 'ramen', 'chicken_wings', 'ramen', 'pork_chop', 'ramen', 'pork_chop', 'ramen', 'ramen', 'prime_rib', 'prime_rib', 'hamburger', 'pork_chop', 'pork_chop', 'bruschetta', 'prime_rib', 'beignets', 'ramen', 'beignets', 'hamburger', 'prime_rib', 'hamburger', 'pork_chop', 'bruschetta', 'ramen', 'ramen', 'prime_rib', 'bruschetta', 'ramen', 'prime_rib', 'bruschetta', 'prime_rib', 'bruschetta', 'beignets', 'hamburger', 'pork_chop', 'ramen', 'chicken_wings', 'ramen', 'ramen', 'pork_chop', 'prime_rib', 'ramen', 'ramen', 'hamburger', 'chicken_wings', 'bruschetta', 'bruschetta', 'beignets', 'chicken_wings', 'hamburger', 'hamburger', 'hamburger', 'ramen', 'beignets', 'hamburger', 'beignets', 'bruschetta', 'bruschetta', 'chicken_wings', 'prime_rib', 'prime_rib', 'prime_rib', 'hamburger', 'ramen', 'ramen', 'bruschetta', 'bruschetta', 'ramen', 'bruschetta', 'beignets', 'prime_rib', 'chicken_wings', 'hamburger', 'bruschetta', 'ramen', 'hamburger', 'ramen', 'bruschetta', 'chicken_wings', 'bruschetta', 'prime_rib', 'hamburger', 'prime_rib', 'hamburger', 'bruschetta', 'chicken_wings', 'pork_chop', 'chicken_wings', 'prime_rib', 'prime_rib', 'prime_rib', 'ramen', 'ramen', 'bruschetta', 'hamburger', 'ramen', 'ramen', 'hamburger', 'ramen', 'bruschetta', 'prime_rib', 'ramen', 'chicken_wings', 'prime_rib', 'chicken_wings', 'beignets', 'hamburger', 'beignets', 'hamburger', 'chicken_wings', 'bruschetta', 'hamburger', 'pork_chop', 'prime_rib', 'hamburger', 'hamburger', 'pork_chop', 'ramen', 'beignets', 'ramen', 'chicken_wings', 'beignets', 'prime_rib', 'pork_chop', 'chicken_wings', 'ramen', 'bruschetta', 'beignets', 'prime_rib', 'ramen', 'beignets', 'pork_chop', 'pork_chop', 'prime_rib', 'pork_chop', 'beignets', 'prime_rib', 'hamburger', 'prime_rib', 'hamburger', 'ramen', 'bruschetta', 'beignets', 'ramen', 'ramen', 'prime_rib', 'hamburger', 'chicken_wings', 'hamburger', 'beignets', 'beignets', 'hamburger', 'bruschetta', 'chicken_wings', 'beignets', 'hamburger', 'ramen', 'chicken_wings', 'bruschetta', 'chicken_wings', 'ramen', 'hamburger', 'bruschetta', 'bruschetta', 'prime_rib', 'bruschetta', 'pork_chop', 'ramen', 'beignets', 'hamburger', 'beignets', 'bruschetta', 'beignets', 'prime_rib', 'ramen', 'chicken_wings', 'ramen', 'hamburger', 'beignets', 'chicken_wings', 'hamburger', 'bruschetta', 'hamburger', 'pork_chop', 'chicken_wings', 'chicken_wings', 'ramen', 'beignets', 'bruschetta', 'hamburger', 'ramen', 'beignets', 'ramen', 'beignets', 'prime_rib', 'bruschetta', 'hamburger', 'bruschetta', 'chicken_wings', 'bruschetta', 'beignets', 'chicken_wings', 'beignets', 'hamburger', 'ramen', 'ramen', 'pork_chop', 'bruschetta', 'pork_chop', 'hamburger', 'prime_rib', 'ramen', 'chicken_wings', 'bruschetta', 'ramen', 'prime_rib', 'ramen', 'chicken_wings', 'bruschetta', 'chicken_wings', 'hamburger', 'prime_rib', 'prime_rib', 'beignets', 'bruschetta', 'ramen', 'pork_chop', 'beignets', 'hamburger', 'hamburger', 'prime_rib', 'chicken_wings', 'pork_chop', 'chicken_wings', 'chicken_wings', 'chicken_wings', 'pork_chop', 'ramen', 'bruschetta', 'prime_rib', 'chicken_wings', 'chicken_wings', 'bruschetta', 'beignets', 'chicken_wings', 'bruschetta', 'chicken_wings', 'hamburger', 'pork_chop', 'pork_chop', 'ramen', 'chicken_wings', 'beignets', 'bruschetta', 'hamburger', 'pork_chop', 'prime_rib', 'chicken_wings', 'pork_chop', 'bruschetta', 'pork_chop', 'pork_chop', 'bruschetta', 'bruschetta', 'bruschetta', 'bruschetta', 'chicken_wings', 'beignets', 'prime_rib', 'prime_rib', 'chicken_wings', 'prime_rib', 'chicken_wings', 'beignets', 'beignets', 'hamburger', 'ramen', 'ramen', 'chicken_wings', 'bruschetta', 'ramen', 'hamburger', 'hamburger', 'ramen', 'pork_chop', 'prime_rib', 'bruschetta', 'hamburger', 'bruschetta', 'prime_rib', 'chicken_wings', 'chicken_wings', 'ramen', 'ramen', 'ramen', 'beignets', 'hamburger', 'prime_rib', 'pork_chop', 'prime_rib', 'beignets', 'bruschetta', 'beignets', 'chicken_wings', 'ramen', 'prime_rib', 'pork_chop', 'bruschetta', 'hamburger', 'chicken_wings', 'prime_rib', 'ramen', 'hamburger', 'prime_rib', 'prime_rib', 'chicken_wings', 'hamburger', 'hamburger', 'pork_chop', 'prime_rib', 'prime_rib', 'chicken_wings', 'ramen', 'beignets', 'prime_rib', 'bruschetta', 'beignets', 'chicken_wings', 'ramen', 'ramen', 'ramen', 'prime_rib', 'hamburger', 'ramen', 'prime_rib', 'hamburger', 'chicken_wings', 'beignets', 'bruschetta', 'chicken_wings', 'pork_chop', 'beignets', 'bruschetta', 'prime_rib', 'prime_rib', 'beignets', 'chicken_wings', 'chicken_wings', 'beignets', 'hamburger', 'bruschetta', 'beignets', 'chicken_wings', 'ramen', 'hamburger', 'ramen', 'hamburger', 'prime_rib', 'ramen', 'pork_chop', 'bruschetta', 'prime_rib', 'beignets', 'hamburger', 'ramen', 'beignets', 'bruschetta', 'ramen', 'beignets', 'prime_rib', 'beignets', 'chicken_wings', 'prime_rib', 'hamburger', 'ramen', 'beignets', 'chicken_wings', 'ramen', 'hamburger', 'pork_chop', 'chicken_wings', 'bruschetta', 'bruschetta', 'ramen', 'bruschetta', 'bruschetta', 'bruschetta', 'hamburger', 'chicken_wings', 'chicken_wings', 'chicken_wings', 'hamburger', 'pork_chop', 'ramen', 'pork_chop', 'beignets', 'hamburger', 'bruschetta', 'bruschetta', 'ramen', 'chicken_wings', 'prime_rib', 'prime_rib', 'ramen', 'ramen', 'chicken_wings', 'ramen', 'ramen', 'beignets', 'beignets', 'pork_chop', 'ramen', 'beignets', 'chicken_wings', 'prime_rib', 'pork_chop', 'beignets', 'pork_chop', 'hamburger', 'ramen', 'beignets', 'chicken_wings', 'prime_rib', 'hamburger', 'chicken_wings', 'hamburger', 'beignets', 'prime_rib', 'beignets', 'ramen', 'beignets', 'pork_chop', 'bruschetta', 'hamburger', 'beignets', 'prime_rib', 'bruschetta', 'prime_rib', 'ramen', 'beignets', 'prime_rib', 'chicken_wings', 'hamburger', 'bruschetta', 'chicken_wings', 'ramen', 'prime_rib', 'beignets', 'ramen', 'hamburger', 'pork_chop', 'beignets', 'prime_rib', 'ramen', 'pork_chop', 'beignets', 'ramen', 'hamburger', 'chicken_wings', 'bruschetta', 'ramen', 'beignets', 'chicken_wings', 'ramen', 'ramen', 'prime_rib', 'prime_rib', 'pork_chop', 'bruschetta', 'pork_chop', 'beignets', 'pork_chop', 'ramen', 'chicken_wings', 'prime_rib', 'ramen', 'bruschetta', 'prime_rib', 'hamburger', 'bruschetta', 'hamburger', 'prime_rib', 'beignets', 'chicken_wings', 'beignets', 'prime_rib', 'beignets', 'chicken_wings', 'beignets', 'beignets', 'bruschetta', 'ramen', 'prime_rib', 'prime_rib', 'hamburger', 'bruschetta', 'pork_chop', 'bruschetta', 'ramen', 'hamburger', 'bruschetta', 'bruschetta', 'beignets', 'beignets', 'bruschetta', 'prime_rib', 'hamburger', 'chicken_wings', 'beignets', 'beignets', 'prime_rib', 'pork_chop', 'ramen', 'prime_rib', 'chicken_wings', 'bruschetta', 'beignets', 'bruschetta', 'beignets', 'ramen', 'bruschetta', 'pork_chop', 'ramen', 'bruschetta', 'prime_rib', 'hamburger', 'beignets', 'bruschetta', 'pork_chop', 'beignets', 'prime_rib', 'chicken_wings', 'bruschetta', 'bruschetta', 'beignets', 'bruschetta', 'prime_rib', 'hamburger', 'chicken_wings']\n",
            "[79, 20, 81, 53, 10, 79, 81, 81, 79, 10, 20, 79, 81, 77, 79, 79, 10, 53, 79, 10, 10, 6, 81, 53, 10, 53, 20, 20, 20, 79, 10, 20, 79, 77, 79, 10, 53, 6, 10, 6, 79, 20, 53, 10, 81, 6, 20, 79, 20, 10, 53, 77, 81, 20, 53, 6, 6, 6, 77, 81, 10, 6, 6, 10, 53, 6, 10, 10, 77, 53, 77, 10, 6, 20, 10, 53, 53, 81, 81, 6, 79, 20, 53, 53, 10, 20, 79, 81, 81, 81, 79, 10, 77, 79, 6, 53, 10, 53, 10, 77, 6, 10, 10, 10, 20, 79, 20, 6, 81, 20, 6, 81, 20, 81, 81, 77, 6, 81, 77, 6, 79, 81, 10, 53, 79, 79, 20, 77, 53, 81, 81, 10, 81, 79, 81, 10, 53, 20, 53, 6, 20, 10, 53, 53, 10, 20, 53, 20, 10, 81, 20, 6, 6, 81, 77, 79, 20, 81, 10, 53, 6, 53, 6, 53, 81, 20, 6, 6, 10, 6, 79, 10, 10, 81, 53, 77, 79, 81, 53, 81, 79, 79, 10, 79, 20, 53, 53, 20, 6, 81, 79, 53, 6, 81, 77, 10, 6, 81, 10, 53, 79, 81, 79, 81, 53, 79, 77, 79, 81, 10, 79, 79, 79, 10, 81, 53, 10, 10, 53, 10, 77, 6, 20, 79, 79, 81, 81, 20, 10, 6, 81, 77, 81, 79, 77, 81, 20, 77, 10, 6, 20, 81, 20, 20, 6, 10, 6, 6, 10, 81, 53, 81, 20, 81, 79, 6, 20, 79, 77, 6, 79, 20, 77, 6, 79, 77, 10, 79, 6, 53, 6, 81, 53, 77, 53, 10, 81, 81, 20, 79, 10, 6, 81, 77, 79, 53, 10, 81, 20, 10, 10, 77, 53, 20, 79, 10, 20, 81, 53, 77, 10, 79, 77, 81, 77, 77, 81, 79, 79, 79, 81, 53, 10, 6, 6, 20, 6, 6, 79, 20, 53, 6, 20, 79, 10, 6, 53, 6, 20, 81, 53, 53, 81, 20, 81, 10, 10, 6, 79, 81, 20, 20, 77, 10, 20, 10, 20, 6, 20, 81, 53, 79, 53, 53, 20, 53, 77, 79, 10, 81, 53, 10, 77, 53, 81, 6, 10, 53, 10, 20, 81, 77, 81, 6, 79, 77, 10, 77, 53, 53, 10, 77, 81, 81, 79, 53, 53, 6, 10, 79, 10, 53, 20, 10, 53, 81, 53, 20, 20, 20, 53, 77, 10, 81, 10, 81, 79, 53, 81, 6, 6, 6, 6, 77, 79, 20, 79, 77, 53, 79, 6, 6, 79, 53, 10, 79, 20, 20, 77, 20, 79, 6, 77, 6, 10, 81, 81, 77, 77, 77, 81, 53, 10, 6, 81, 10, 10, 6, 81, 79, 20, 53, 10, 81, 10, 10, 10, 10, 10, 79, 20, 6, 77, 10, 10, 81, 20, 6, 10, 20, 81, 20, 6, 79, 6, 81, 53, 53, 79, 53, 6, 81, 79, 20, 79, 53, 79, 79, 77, 77, 20, 10, 10, 53, 6, 10, 20, 10, 6, 79, 53, 6, 20, 79, 53, 6, 6, 6, 10, 77, 81, 53, 53, 6, 53, 20, 79, 77, 77, 53, 6, 81, 81, 53, 53, 6, 10, 6, 53, 10, 77, 79, 77, 81, 20, 6, 20, 20, 81, 81, 81, 10, 79, 10, 6, 10, 81, 53, 77, 6, 81, 79, 79, 10, 20, 10, 20, 53, 20, 81, 53, 81, 77, 81, 6, 77, 53, 81, 53, 6, 20, 77, 79, 79, 53, 10, 20, 20, 6, 53, 79, 10, 79, 81, 79, 53, 20, 81, 53, 53, 10, 6, 6, 10, 77, 6, 6, 81, 10, 77, 81, 81, 6, 79, 77, 53, 53, 10, 79, 81, 10, 79, 81, 77, 6, 6, 81, 77, 20, 6, 6, 6, 53, 6, 77, 20, 81, 6, 6, 53, 77, 81, 6, 81, 20, 20, 6, 81, 20, 53, 53, 81, 81, 20, 53, 79, 53, 53, 6, 77, 20, 79, 20, 6, 79, 6, 6, 6, 53, 10, 77, 81, 53, 10, 20, 10, 10, 10, 53, 10, 79, 20, 10, 10, 53, 81, 79, 6, 10, 81, 81, 6, 20, 6, 79, 6, 6, 81, 79, 10, 53, 6, 81, 20, 10, 81, 77, 81, 20, 6, 77, 53, 79, 81, 20, 77, 81, 79, 20, 53, 6, 81, 81, 81, 81, 81, 81, 20, 6, 81, 20, 81, 20, 20, 10, 10, 6, 77, 81, 53, 6, 81, 6, 79, 10, 79, 53, 20, 79, 81, 79, 79, 6, 10, 81, 53, 6, 20, 77, 79, 77, 79, 20, 20, 53, 79, 10, 6, 6, 6, 10, 77, 81, 10, 6, 81, 81, 6, 6, 53, 53, 6, 6, 53, 77, 20, 20, 6, 10, 79, 10, 6, 79, 6, 81, 53, 6, 79, 6, 10, 6, 10, 10, 20, 10, 81, 20, 20, 77, 20, 20, 20, 77, 79, 77, 6, 53, 79, 6, 79, 81, 10, 10, 10, 10, 79, 10, 20, 10, 10, 20, 10, 20, 10, 10, 6, 20, 53, 10, 20, 81, 77, 53, 53, 53, 79, 20, 20, 53, 10, 53, 79, 81, 53, 79, 10, 6, 10, 79, 10, 53, 6, 6, 79, 53, 53, 53, 6, 6, 81, 20, 6, 79, 20, 81, 20, 77, 6, 53, 79, 6, 81, 81, 10, 79, 10, 6, 10, 10, 20, 20, 10, 6, 81, 6, 79, 10, 10, 81, 6, 10, 20, 20, 53, 79, 53, 77, 10, 20, 10, 79, 79, 20, 81, 10, 10, 53, 81, 77, 6, 20, 81, 10, 79, 77, 10, 6, 81, 20, 53, 6, 10, 6, 79, 6, 20, 6, 53, 6, 79, 77, 6, 53, 79, 6, 81, 77, 81, 20, 20, 6, 81, 10, 77, 81, 53, 53, 6, 79, 77, 81, 79, 20, 79, 20, 6, 10, 53, 79, 77, 20, 6, 53, 6, 79, 79, 79, 10, 53, 53, 77, 79, 77, 77, 20, 6, 81, 53, 53, 10, 79, 77, 6, 79, 10, 20, 20, 6, 79, 81, 6, 81, 81, 6, 77, 20, 6, 20, 20, 20]\n",
            "{'0': 'apple_pie', '1': 'baby_back_ribs', '2': 'baklava', '3': 'beef_carpaccio', '4': 'beef_tartare', '5': 'beet_salad', '6': 'beignets', '7': 'bibimbap', '8': 'bread_pudding', '9': 'breakfast_burrito', '10': 'bruschetta', '11': 'caesar_salad', '12': 'cannoli', '13': 'caprese_salad', '14': 'carrot_cake', '15': 'ceviche', '16': 'cheesecake', '17': 'cheese_plate', '18': 'chicken_curry', '19': 'chicken_quesadilla', '20': 'chicken_wings', '21': 'chocolate_cake', '22': 'chocolate_mousse', '23': 'churros', '24': 'clam_chowder', '25': 'club_sandwich', '26': 'crab_cakes', '27': 'creme_brulee', '28': 'croque_madame', '29': 'cup_cakes', '30': 'deviled_eggs', '31': 'donuts', '32': 'dumplings', '33': 'edamame', '34': 'eggs_benedict', '35': 'escargots', '36': 'falafel', '37': 'filet_mignon', '38': 'fish_and_chips', '39': 'foie_gras', '40': 'french_fries', '41': 'french_onion_soup', '42': 'french_toast', '43': 'fried_calamari', '44': 'fried_rice', '45': 'frozen_yogurt', '46': 'garlic_bread', '47': 'gnocchi', '48': 'greek_salad', '49': 'grilled_cheese_sandwich', '50': 'grilled_salmon', '51': 'guacamole', '52': 'gyoza', '53': 'hamburger', '54': 'hot_and_sour_soup', '55': 'hot_dog', '56': 'huevos_rancheros', '57': 'hummus', '58': 'ice_cream', '59': 'lasagna', '60': 'lobster_bisque', '61': 'lobster_roll_sandwich', '62': 'macaroni_and_cheese', '63': 'macarons', '64': 'miso_soup', '65': 'mussels', '66': 'nachos', '67': 'omelette', '68': 'onion_rings', '69': 'oysters', '70': 'pad_thai', '71': 'paella', '72': 'pancakes', '73': 'panna_cotta', '74': 'peking_duck', '75': 'pho', '76': 'pizza', '77': 'pork_chop', '78': 'poutine', '79': 'prime_rib', '80': 'pulled_pork_sandwich', '81': 'ramen', '82': 'ravioli', '83': 'red_velvet_cake', '84': 'risotto', '85': 'samosa', '86': 'sashimi', '87': 'scallops', '88': 'seaweed_salad', '89': 'shrimp_and_grits', '90': 'spaghetti_bolognese', '91': 'spaghetti_carbonara', '92': 'spring_rolls', '93': 'steak', '94': 'strawberry_shortcake', '95': 'sushi', '96': 'tacos', '97': 'takoyaki', '98': 'tiramisu', '99': 'tuna_tartare', '100': 'waffles'}\n",
            "['prime_rib', 'chicken_wings', 'ramen', 'hamburger', 'bruschetta', 'prime_rib', 'ramen', 'ramen', 'prime_rib', 'bruschetta', 'chicken_wings', 'prime_rib', 'ramen', 'pork_chop', 'prime_rib', 'prime_rib', 'bruschetta', 'hamburger', 'prime_rib', 'bruschetta', 'bruschetta', 'beignets', 'ramen', 'hamburger', 'bruschetta', 'hamburger', 'chicken_wings', 'chicken_wings', 'chicken_wings', 'prime_rib', 'bruschetta', 'chicken_wings', 'prime_rib', 'pork_chop', 'prime_rib', 'bruschetta', 'hamburger', 'beignets', 'bruschetta', 'beignets', 'prime_rib', 'chicken_wings', 'hamburger', 'bruschetta', 'ramen', 'beignets', 'chicken_wings', 'prime_rib', 'chicken_wings', 'bruschetta', 'hamburger', 'pork_chop', 'ramen', 'chicken_wings', 'hamburger', 'beignets', 'beignets', 'beignets', 'pork_chop', 'ramen', 'bruschetta', 'beignets', 'beignets', 'bruschetta', 'hamburger', 'beignets', 'bruschetta', 'bruschetta', 'pork_chop', 'hamburger', 'pork_chop', 'bruschetta', 'beignets', 'chicken_wings', 'bruschetta', 'hamburger', 'hamburger', 'ramen', 'ramen', 'beignets', 'prime_rib', 'chicken_wings', 'hamburger', 'hamburger', 'bruschetta', 'chicken_wings', 'prime_rib', 'ramen', 'ramen', 'ramen', 'prime_rib', 'bruschetta', 'pork_chop', 'prime_rib', 'beignets', 'hamburger', 'bruschetta', 'hamburger', 'bruschetta', 'pork_chop', 'beignets', 'bruschetta', 'bruschetta', 'bruschetta', 'chicken_wings', 'prime_rib', 'chicken_wings', 'beignets', 'ramen', 'chicken_wings', 'beignets', 'ramen', 'chicken_wings', 'ramen', 'ramen', 'pork_chop', 'beignets', 'ramen', 'pork_chop', 'beignets', 'prime_rib', 'ramen', 'bruschetta', 'hamburger', 'prime_rib', 'prime_rib', 'chicken_wings', 'pork_chop', 'hamburger', 'ramen', 'ramen', 'bruschetta', 'ramen', 'prime_rib', 'ramen', 'bruschetta', 'hamburger', 'chicken_wings', 'hamburger', 'beignets', 'chicken_wings', 'bruschetta', 'hamburger', 'hamburger', 'bruschetta', 'chicken_wings', 'hamburger', 'chicken_wings', 'bruschetta', 'ramen', 'chicken_wings', 'beignets', 'beignets', 'ramen', 'pork_chop', 'prime_rib', 'chicken_wings', 'ramen', 'bruschetta', 'hamburger', 'beignets', 'hamburger', 'beignets', 'hamburger', 'ramen', 'chicken_wings', 'beignets', 'beignets', 'bruschetta', 'beignets', 'prime_rib', 'bruschetta', 'bruschetta', 'ramen', 'hamburger', 'pork_chop', 'prime_rib', 'ramen', 'hamburger', 'ramen', 'prime_rib', 'prime_rib', 'bruschetta', 'prime_rib', 'chicken_wings', 'hamburger', 'hamburger', 'chicken_wings', 'beignets', 'ramen', 'prime_rib', 'hamburger', 'beignets', 'ramen', 'pork_chop', 'bruschetta', 'beignets', 'ramen', 'bruschetta', 'hamburger', 'prime_rib', 'ramen', 'prime_rib', 'ramen', 'hamburger', 'prime_rib', 'pork_chop', 'prime_rib', 'ramen', 'bruschetta', 'prime_rib', 'prime_rib', 'prime_rib', 'bruschetta', 'ramen', 'hamburger', 'bruschetta', 'bruschetta', 'hamburger', 'bruschetta', 'pork_chop', 'beignets', 'chicken_wings', 'prime_rib', 'prime_rib', 'ramen', 'ramen', 'chicken_wings', 'bruschetta', 'beignets', 'ramen', 'pork_chop', 'ramen', 'prime_rib', 'pork_chop', 'ramen', 'chicken_wings', 'pork_chop', 'bruschetta', 'beignets', 'chicken_wings', 'ramen', 'chicken_wings', 'chicken_wings', 'beignets', 'bruschetta', 'beignets', 'beignets', 'bruschetta', 'ramen', 'hamburger', 'ramen', 'chicken_wings', 'ramen', 'prime_rib', 'beignets', 'chicken_wings', 'prime_rib', 'pork_chop', 'beignets', 'prime_rib', 'chicken_wings', 'pork_chop', 'beignets', 'prime_rib', 'pork_chop', 'bruschetta', 'prime_rib', 'beignets', 'hamburger', 'beignets', 'ramen', 'hamburger', 'pork_chop', 'hamburger', 'bruschetta', 'ramen', 'ramen', 'chicken_wings', 'prime_rib', 'bruschetta', 'beignets', 'ramen', 'pork_chop', 'prime_rib', 'hamburger', 'bruschetta', 'ramen', 'chicken_wings', 'bruschetta', 'bruschetta', 'pork_chop', 'hamburger', 'chicken_wings', 'prime_rib', 'bruschetta', 'chicken_wings', 'ramen', 'hamburger', 'pork_chop', 'bruschetta', 'prime_rib', 'pork_chop', 'ramen', 'pork_chop', 'pork_chop', 'ramen', 'prime_rib', 'prime_rib', 'prime_rib', 'ramen', 'hamburger', 'bruschetta', 'beignets', 'beignets', 'chicken_wings', 'beignets', 'beignets', 'prime_rib', 'chicken_wings', 'hamburger', 'beignets', 'chicken_wings', 'prime_rib', 'bruschetta', 'beignets', 'hamburger', 'beignets', 'chicken_wings', 'ramen', 'hamburger', 'hamburger', 'ramen', 'chicken_wings', 'ramen', 'bruschetta', 'bruschetta', 'beignets', 'prime_rib', 'ramen', 'chicken_wings', 'chicken_wings', 'pork_chop', 'bruschetta', 'chicken_wings', 'bruschetta', 'chicken_wings', 'beignets', 'chicken_wings', 'ramen', 'hamburger', 'prime_rib', 'hamburger', 'hamburger', 'chicken_wings', 'hamburger', 'pork_chop', 'prime_rib', 'bruschetta', 'ramen', 'hamburger', 'bruschetta', 'pork_chop', 'hamburger', 'ramen', 'beignets', 'bruschetta', 'hamburger', 'bruschetta', 'chicken_wings', 'ramen', 'pork_chop', 'ramen', 'beignets', 'prime_rib', 'pork_chop', 'bruschetta', 'pork_chop', 'hamburger', 'hamburger', 'bruschetta', 'pork_chop', 'ramen', 'ramen', 'prime_rib', 'hamburger', 'hamburger', 'beignets', 'bruschetta', 'prime_rib', 'bruschetta', 'hamburger', 'chicken_wings', 'bruschetta', 'hamburger', 'ramen', 'hamburger', 'chicken_wings', 'chicken_wings', 'chicken_wings', 'hamburger', 'pork_chop', 'bruschetta', 'ramen', 'bruschetta', 'ramen', 'prime_rib', 'hamburger', 'ramen', 'beignets', 'beignets', 'beignets', 'beignets', 'pork_chop', 'prime_rib', 'chicken_wings', 'prime_rib', 'pork_chop', 'hamburger', 'prime_rib', 'beignets', 'beignets', 'prime_rib', 'hamburger', 'bruschetta', 'prime_rib', 'chicken_wings', 'chicken_wings', 'pork_chop', 'chicken_wings', 'prime_rib', 'beignets', 'pork_chop', 'beignets', 'bruschetta', 'ramen', 'ramen', 'pork_chop', 'pork_chop', 'pork_chop', 'ramen', 'hamburger', 'bruschetta', 'beignets', 'ramen', 'bruschetta', 'bruschetta', 'beignets', 'ramen', 'prime_rib', 'chicken_wings', 'hamburger', 'bruschetta', 'ramen', 'bruschetta', 'bruschetta', 'bruschetta', 'bruschetta', 'bruschetta', 'prime_rib', 'chicken_wings', 'beignets', 'pork_chop', 'bruschetta', 'bruschetta', 'ramen', 'chicken_wings', 'beignets', 'bruschetta', 'chicken_wings', 'ramen', 'chicken_wings', 'beignets', 'prime_rib', 'beignets', 'ramen', 'hamburger', 'hamburger', 'prime_rib', 'hamburger', 'beignets', 'ramen', 'prime_rib', 'chicken_wings', 'prime_rib', 'hamburger', 'prime_rib', 'prime_rib', 'pork_chop', 'pork_chop', 'chicken_wings', 'bruschetta', 'bruschetta', 'hamburger', 'beignets', 'bruschetta', 'chicken_wings', 'bruschetta', 'beignets', 'prime_rib', 'hamburger', 'beignets', 'chicken_wings', 'prime_rib', 'hamburger', 'beignets', 'beignets', 'beignets', 'bruschetta', 'pork_chop', 'ramen', 'hamburger', 'hamburger', 'beignets', 'hamburger', 'chicken_wings', 'prime_rib', 'pork_chop', 'pork_chop', 'hamburger', 'beignets', 'ramen', 'ramen', 'hamburger', 'hamburger', 'beignets', 'bruschetta', 'beignets', 'hamburger', 'bruschetta', 'pork_chop', 'prime_rib', 'pork_chop', 'ramen', 'chicken_wings', 'beignets', 'chicken_wings', 'chicken_wings', 'ramen', 'ramen', 'ramen', 'bruschetta', 'prime_rib', 'bruschetta', 'beignets', 'bruschetta', 'ramen', 'hamburger', 'pork_chop', 'beignets', 'ramen', 'prime_rib', 'prime_rib', 'bruschetta', 'chicken_wings', 'bruschetta', 'chicken_wings', 'hamburger', 'chicken_wings', 'ramen', 'hamburger', 'ramen', 'pork_chop', 'ramen', 'beignets', 'pork_chop', 'hamburger', 'ramen', 'hamburger', 'beignets', 'chicken_wings', 'pork_chop', 'prime_rib', 'prime_rib', 'hamburger', 'bruschetta', 'chicken_wings', 'chicken_wings', 'beignets', 'hamburger', 'prime_rib', 'bruschetta', 'prime_rib', 'ramen', 'prime_rib', 'hamburger', 'chicken_wings', 'ramen', 'hamburger', 'hamburger', 'bruschetta', 'beignets', 'beignets', 'bruschetta', 'pork_chop', 'beignets', 'beignets', 'ramen', 'bruschetta', 'pork_chop', 'ramen', 'ramen', 'beignets', 'prime_rib', 'pork_chop', 'hamburger', 'hamburger', 'bruschetta', 'prime_rib', 'ramen', 'bruschetta', 'prime_rib', 'ramen', 'pork_chop', 'beignets', 'beignets', 'ramen', 'pork_chop', 'chicken_wings', 'beignets', 'beignets', 'beignets', 'hamburger', 'beignets', 'pork_chop', 'chicken_wings', 'ramen', 'beignets', 'beignets', 'hamburger', 'pork_chop', 'ramen', 'beignets', 'ramen', 'chicken_wings', 'chicken_wings', 'beignets', 'ramen', 'chicken_wings', 'hamburger', 'hamburger', 'ramen', 'ramen', 'chicken_wings', 'hamburger', 'prime_rib', 'hamburger', 'hamburger', 'beignets', 'pork_chop', 'chicken_wings', 'prime_rib', 'chicken_wings', 'beignets', 'prime_rib', 'beignets', 'beignets', 'beignets', 'hamburger', 'bruschetta', 'pork_chop', 'ramen', 'hamburger', 'bruschetta', 'chicken_wings', 'bruschetta', 'bruschetta', 'bruschetta', 'hamburger', 'bruschetta', 'prime_rib', 'chicken_wings', 'bruschetta', 'bruschetta', 'hamburger', 'ramen', 'prime_rib', 'beignets', 'bruschetta', 'ramen', 'ramen', 'beignets', 'chicken_wings', 'beignets', 'prime_rib', 'beignets', 'beignets', 'ramen', 'prime_rib', 'bruschetta', 'hamburger', 'beignets', 'ramen', 'chicken_wings', 'bruschetta', 'ramen', 'pork_chop', 'ramen', 'chicken_wings', 'beignets', 'pork_chop', 'hamburger', 'prime_rib', 'ramen', 'chicken_wings', 'pork_chop', 'ramen', 'prime_rib', 'chicken_wings', 'hamburger', 'beignets', 'ramen', 'ramen', 'ramen', 'ramen', 'ramen', 'ramen', 'chicken_wings', 'beignets', 'ramen', 'chicken_wings', 'ramen', 'chicken_wings', 'chicken_wings', 'bruschetta', 'bruschetta', 'beignets', 'pork_chop', 'ramen', 'hamburger', 'beignets', 'ramen', 'beignets', 'prime_rib', 'bruschetta', 'prime_rib', 'hamburger', 'chicken_wings', 'prime_rib', 'ramen', 'prime_rib', 'prime_rib', 'beignets', 'bruschetta', 'ramen', 'hamburger', 'beignets', 'chicken_wings', 'pork_chop', 'prime_rib', 'pork_chop', 'prime_rib', 'chicken_wings', 'chicken_wings', 'hamburger', 'prime_rib', 'bruschetta', 'beignets', 'beignets', 'beignets', 'bruschetta', 'pork_chop', 'ramen', 'bruschetta', 'beignets', 'ramen', 'ramen', 'beignets', 'beignets', 'hamburger', 'hamburger', 'beignets', 'beignets', 'hamburger', 'pork_chop', 'chicken_wings', 'chicken_wings', 'beignets', 'bruschetta', 'prime_rib', 'bruschetta', 'beignets', 'prime_rib', 'beignets', 'ramen', 'hamburger', 'beignets', 'prime_rib', 'beignets', 'bruschetta', 'beignets', 'bruschetta', 'bruschetta', 'chicken_wings', 'bruschetta', 'ramen', 'chicken_wings', 'chicken_wings', 'pork_chop', 'chicken_wings', 'chicken_wings', 'chicken_wings', 'pork_chop', 'prime_rib', 'pork_chop', 'beignets', 'hamburger', 'prime_rib', 'beignets', 'prime_rib', 'ramen', 'bruschetta', 'bruschetta', 'bruschetta', 'bruschetta', 'prime_rib', 'bruschetta', 'chicken_wings', 'bruschetta', 'bruschetta', 'chicken_wings', 'bruschetta', 'chicken_wings', 'bruschetta', 'bruschetta', 'beignets', 'chicken_wings', 'hamburger', 'bruschetta', 'chicken_wings', 'ramen', 'pork_chop', 'hamburger', 'hamburger', 'hamburger', 'prime_rib', 'chicken_wings', 'chicken_wings', 'hamburger', 'bruschetta', 'hamburger', 'prime_rib', 'ramen', 'hamburger', 'prime_rib', 'bruschetta', 'beignets', 'bruschetta', 'prime_rib', 'bruschetta', 'hamburger', 'beignets', 'beignets', 'prime_rib', 'hamburger', 'hamburger', 'hamburger', 'beignets', 'beignets', 'ramen', 'chicken_wings', 'beignets', 'prime_rib', 'chicken_wings', 'ramen', 'chicken_wings', 'pork_chop', 'beignets', 'hamburger', 'prime_rib', 'beignets', 'ramen', 'ramen', 'bruschetta', 'prime_rib', 'bruschetta', 'beignets', 'bruschetta', 'bruschetta', 'chicken_wings', 'chicken_wings', 'bruschetta', 'beignets', 'ramen', 'beignets', 'prime_rib', 'bruschetta', 'bruschetta', 'ramen', 'beignets', 'bruschetta', 'chicken_wings', 'chicken_wings', 'hamburger', 'prime_rib', 'hamburger', 'pork_chop', 'bruschetta', 'chicken_wings', 'bruschetta', 'prime_rib', 'prime_rib', 'chicken_wings', 'ramen', 'bruschetta', 'bruschetta', 'hamburger', 'ramen', 'pork_chop', 'beignets', 'chicken_wings', 'ramen', 'bruschetta', 'prime_rib', 'pork_chop', 'bruschetta', 'beignets', 'ramen', 'chicken_wings', 'hamburger', 'beignets', 'bruschetta', 'beignets', 'prime_rib', 'beignets', 'chicken_wings', 'beignets', 'hamburger', 'beignets', 'prime_rib', 'pork_chop', 'beignets', 'hamburger', 'prime_rib', 'beignets', 'ramen', 'pork_chop', 'ramen', 'chicken_wings', 'chicken_wings', 'beignets', 'ramen', 'bruschetta', 'pork_chop', 'ramen', 'hamburger', 'hamburger', 'beignets', 'prime_rib', 'pork_chop', 'ramen', 'prime_rib', 'chicken_wings', 'prime_rib', 'chicken_wings', 'beignets', 'bruschetta', 'hamburger', 'prime_rib', 'pork_chop', 'chicken_wings', 'beignets', 'hamburger', 'beignets', 'prime_rib', 'prime_rib', 'prime_rib', 'bruschetta', 'hamburger', 'hamburger', 'pork_chop', 'prime_rib', 'pork_chop', 'pork_chop', 'chicken_wings', 'beignets', 'ramen', 'hamburger', 'hamburger', 'bruschetta', 'prime_rib', 'pork_chop', 'beignets', 'prime_rib', 'bruschetta', 'chicken_wings', 'chicken_wings', 'beignets', 'prime_rib', 'ramen', 'beignets', 'ramen', 'ramen', 'beignets', 'pork_chop', 'chicken_wings', 'beignets', 'chicken_wings', 'chicken_wings', 'chicken_wings']\n"
          ]
        },
        {
          "output_type": "display_data",
          "data": {
            "text/plain": [
              "Map:   0%|          | 0/1000 [00:00<?, ? examples/s]"
            ],
            "application/vnd.jupyter.widget-view+json": {
              "version_major": 2,
              "version_minor": 0,
              "model_id": "d587e6190aa04b28b3d6c21f7b74073a"
            }
          },
          "metadata": {}
        },
        {
          "output_type": "stream",
          "name": "stdout",
          "text": [
            "[79, 10, 79, 79, 77, 20, 79, 6, 53, 6, 10, 77, 77, 77, 6, 10, 77, 10, 81, 77, 10, 79, 10, 53, 6, 6, 20, 79, 77, 77, 6, 6, 10, 79, 53, 20, 20, 53, 77, 77, 20, 77, 79, 77, 79, 53, 6, 53, 53, 77, 20, 10, 79, 53, 77, 79, 79, 81, 10, 20, 79, 20, 20, 53, 20, 6, 6, 81, 6, 53, 10, 20, 6, 79, 10, 20, 20, 53, 20, 77, 10, 10, 81, 53, 20, 53, 10, 81, 20, 77, 79, 53, 20, 20, 81, 6, 6, 77, 10, 77, 77, 10, 53, 81, 10, 20, 10, 20, 6, 81, 81, 79, 81, 79, 53, 79, 20, 77, 77, 20, 6, 79, 20, 77, 6, 81, 53, 79, 20, 81, 77, 81, 79, 10, 81, 53, 53, 10, 77, 6, 10, 79, 10, 81, 77, 10, 6, 6, 20, 53, 6, 20, 6, 20, 6, 77, 53, 77, 81, 10, 6, 81, 53, 79, 20, 20, 77, 81, 6, 6, 79, 6, 81, 53, 6, 79, 6, 10, 79, 79, 79, 10, 81, 53, 77, 79, 10, 77, 20, 20, 53, 10, 81, 77, 6, 81, 79, 20, 20, 53, 53, 53, 10, 53, 79, 10, 20, 53, 53, 20, 81, 53, 6, 77, 6, 20, 79, 20, 20, 53, 10, 53, 20, 20, 79, 81, 53, 53, 53, 81, 6, 81, 53, 81, 6, 53, 6, 53, 81, 53, 79, 81, 79, 81, 6, 53, 79, 79, 79, 20, 20, 6, 79, 20, 79, 79, 20, 20, 6, 10, 77, 6, 10, 10, 79, 79, 79, 10, 10, 10, 81, 79, 81, 81, 81, 53, 10, 20, 53, 77, 79, 77, 20, 6, 10, 20, 20, 10, 81, 10, 79, 53, 81, 20, 81, 20, 6, 10, 81, 10, 20, 77, 6, 20, 53, 81, 20, 77, 81, 53, 10, 20, 79, 81, 20, 6, 53, 20, 79, 79, 81, 53, 6, 20, 20, 81, 10, 77, 81, 53, 10, 81, 77, 79, 77, 79, 53, 6, 20, 53, 6, 53, 79, 77, 79, 10, 81, 6, 79, 81, 53, 79, 6, 10, 20, 6, 77, 6, 10, 6, 10, 77, 53, 79, 79, 81, 6, 53, 6, 79, 6, 6, 81, 81, 77, 53, 10, 81, 53, 10, 77, 77, 10, 20, 81, 6, 53, 6, 77, 81, 20, 53, 20, 79, 6, 81, 6, 53, 77, 10, 10, 6, 77, 6, 53, 79, 81, 10, 79, 10, 10, 6, 53, 20, 53, 81, 53, 6, 53, 10, 81, 53, 79, 10, 53, 79, 79, 10, 10, 81, 10, 81, 10, 79, 79, 10, 20, 10, 20, 10, 6, 10, 79, 79, 79, 79, 53, 6, 20, 79, 6, 53, 53, 81, 77, 81, 53, 79, 79, 20, 10, 77, 10, 10, 79, 81, 10, 6, 77, 20, 81, 53, 20, 53, 20, 6, 79, 77, 10, 79, 81, 20, 77, 20, 6, 6, 20, 6, 20, 20, 10, 53, 10, 77, 79, 77, 53, 10, 81, 53, 10, 10, 6, 20, 6, 53, 6, 81, 6, 20, 53, 6, 53, 10, 6, 79, 81, 79, 20, 81, 20, 77, 77, 20, 6, 77, 53, 81, 79, 53, 79, 20, 81, 79, 79, 79, 6, 79, 20, 6, 81, 53, 10, 20, 6, 20, 53, 20, 53, 81, 10, 81, 81, 20, 53, 81, 6, 6, 81, 53, 79, 20, 81, 81, 20, 10, 81, 53, 77, 77, 81, 10, 20, 81, 79, 53, 20, 6, 10, 10, 53, 81, 10, 81, 20, 53, 6, 53, 53, 20, 77, 53, 20, 10, 53, 10, 6, 53, 79, 6, 6, 10, 79, 81, 79, 81, 81, 77, 6, 53, 10, 6, 79, 6, 6, 79, 79, 20, 81, 20, 10, 20, 10, 53, 79, 20, 20, 10, 79, 6, 77, 6, 79, 81, 53, 10, 20, 53, 81, 20, 79, 10, 10, 20, 20, 81, 20, 79, 53, 79, 81, 79, 77, 81, 81, 81, 6, 81, 20, 20, 53, 77, 10, 77, 6, 6, 81, 6, 10, 53, 79, 77, 79, 77, 81, 79, 20, 81, 77, 20, 77, 6, 53, 10, 53, 10, 77, 53, 81, 53, 77, 6, 20, 20, 53, 81, 10, 6, 10, 81, 81, 20, 10, 10, 6, 6, 6, 6, 6, 53, 53, 79, 81, 10, 53, 79, 53, 6, 6, 79, 6, 53, 79, 81, 20, 81, 53, 53, 53, 81, 81, 6, 20, 53, 77, 81, 6, 6, 6, 79, 6, 20, 20, 20, 6, 77, 20, 79, 81, 79, 53, 79, 10, 6, 79, 53, 10, 81, 77, 79, 53, 81, 10, 20, 6, 10, 79, 20, 6, 20, 53, 6, 10, 79, 20, 79, 81, 20, 6, 20, 81, 20, 6, 6, 53, 53, 53, 77, 20, 20, 10, 77, 53, 77, 79, 20, 10, 20, 20, 79, 20, 81, 81, 6, 6, 53, 53, 81, 53, 53, 77, 6, 20, 81, 53, 81, 53, 79, 10, 10, 77, 6, 53, 20, 81, 6, 20, 77, 53, 53, 53, 53, 6, 6, 79, 81, 79, 6, 6, 77, 77, 20, 77, 10, 79, 10, 81, 10, 77, 53, 81, 53, 6, 79, 10, 10, 79, 20, 79, 77, 20, 79, 20, 10, 79, 77, 6, 6, 20, 20, 20, 79, 10, 20, 10, 10, 53, 77, 77, 81, 20, 81, 20, 10, 81, 81, 20, 6, 79, 10, 79, 81, 77, 10, 20, 10, 77, 20, 79, 20, 20, 81, 10, 79, 53, 53, 79, 79, 81, 53, 10, 77, 10, 10, 81, 6, 53, 53, 6, 79, 77, 53, 77, 53, 53, 81, 20, 79, 20, 81, 79, 77, 10, 77, 53, 77, 79, 6, 79, 20, 79, 77, 20, 81, 6, 10, 20, 53, 53, 79, 79, 81, 6, 53, 79, 79, 77, 79, 81, 53, 10, 6, 81, 77, 81, 6, 79, 79, 20, 6, 20, 79, 20, 53, 6, 81, 81, 6, 20, 77, 10, 53, 53, 79, 81, 79, 20, 81, 53, 6, 6, 81, 10, 81, 53, 77, 53, 77, 79, 6]\n",
            "{'0': 'apple_pie', '1': 'baby_back_ribs', '2': 'baklava', '3': 'beef_carpaccio', '4': 'beef_tartare', '5': 'beet_salad', '6': 'beignets', '7': 'bibimbap', '8': 'bread_pudding', '9': 'breakfast_burrito', '10': 'bruschetta', '11': 'caesar_salad', '12': 'cannoli', '13': 'caprese_salad', '14': 'carrot_cake', '15': 'ceviche', '16': 'cheesecake', '17': 'cheese_plate', '18': 'chicken_curry', '19': 'chicken_quesadilla', '20': 'chicken_wings', '21': 'chocolate_cake', '22': 'chocolate_mousse', '23': 'churros', '24': 'clam_chowder', '25': 'club_sandwich', '26': 'crab_cakes', '27': 'creme_brulee', '28': 'croque_madame', '29': 'cup_cakes', '30': 'deviled_eggs', '31': 'donuts', '32': 'dumplings', '33': 'edamame', '34': 'eggs_benedict', '35': 'escargots', '36': 'falafel', '37': 'filet_mignon', '38': 'fish_and_chips', '39': 'foie_gras', '40': 'french_fries', '41': 'french_onion_soup', '42': 'french_toast', '43': 'fried_calamari', '44': 'fried_rice', '45': 'frozen_yogurt', '46': 'garlic_bread', '47': 'gnocchi', '48': 'greek_salad', '49': 'grilled_cheese_sandwich', '50': 'grilled_salmon', '51': 'guacamole', '52': 'gyoza', '53': 'hamburger', '54': 'hot_and_sour_soup', '55': 'hot_dog', '56': 'huevos_rancheros', '57': 'hummus', '58': 'ice_cream', '59': 'lasagna', '60': 'lobster_bisque', '61': 'lobster_roll_sandwich', '62': 'macaroni_and_cheese', '63': 'macarons', '64': 'miso_soup', '65': 'mussels', '66': 'nachos', '67': 'omelette', '68': 'onion_rings', '69': 'oysters', '70': 'pad_thai', '71': 'paella', '72': 'pancakes', '73': 'panna_cotta', '74': 'peking_duck', '75': 'pho', '76': 'pizza', '77': 'pork_chop', '78': 'poutine', '79': 'prime_rib', '80': 'pulled_pork_sandwich', '81': 'ramen', '82': 'ravioli', '83': 'red_velvet_cake', '84': 'risotto', '85': 'samosa', '86': 'sashimi', '87': 'scallops', '88': 'seaweed_salad', '89': 'shrimp_and_grits', '90': 'spaghetti_bolognese', '91': 'spaghetti_carbonara', '92': 'spring_rolls', '93': 'steak', '94': 'strawberry_shortcake', '95': 'sushi', '96': 'tacos', '97': 'takoyaki', '98': 'tiramisu', '99': 'tuna_tartare', '100': 'waffles'}\n",
            "['prime_rib', 'bruschetta', 'prime_rib', 'prime_rib', 'pork_chop', 'chicken_wings', 'prime_rib', 'beignets', 'hamburger', 'beignets', 'bruschetta', 'pork_chop', 'pork_chop', 'pork_chop', 'beignets', 'bruschetta', 'pork_chop', 'bruschetta', 'ramen', 'pork_chop', 'bruschetta', 'prime_rib', 'bruschetta', 'hamburger', 'beignets', 'beignets', 'chicken_wings', 'prime_rib', 'pork_chop', 'pork_chop', 'beignets', 'beignets', 'bruschetta', 'prime_rib', 'hamburger', 'chicken_wings', 'chicken_wings', 'hamburger', 'pork_chop', 'pork_chop', 'chicken_wings', 'pork_chop', 'prime_rib', 'pork_chop', 'prime_rib', 'hamburger', 'beignets', 'hamburger', 'hamburger', 'pork_chop', 'chicken_wings', 'bruschetta', 'prime_rib', 'hamburger', 'pork_chop', 'prime_rib', 'prime_rib', 'ramen', 'bruschetta', 'chicken_wings', 'prime_rib', 'chicken_wings', 'chicken_wings', 'hamburger', 'chicken_wings', 'beignets', 'beignets', 'ramen', 'beignets', 'hamburger', 'bruschetta', 'chicken_wings', 'beignets', 'prime_rib', 'bruschetta', 'chicken_wings', 'chicken_wings', 'hamburger', 'chicken_wings', 'pork_chop', 'bruschetta', 'bruschetta', 'ramen', 'hamburger', 'chicken_wings', 'hamburger', 'bruschetta', 'ramen', 'chicken_wings', 'pork_chop', 'prime_rib', 'hamburger', 'chicken_wings', 'chicken_wings', 'ramen', 'beignets', 'beignets', 'pork_chop', 'bruschetta', 'pork_chop', 'pork_chop', 'bruschetta', 'hamburger', 'ramen', 'bruschetta', 'chicken_wings', 'bruschetta', 'chicken_wings', 'beignets', 'ramen', 'ramen', 'prime_rib', 'ramen', 'prime_rib', 'hamburger', 'prime_rib', 'chicken_wings', 'pork_chop', 'pork_chop', 'chicken_wings', 'beignets', 'prime_rib', 'chicken_wings', 'pork_chop', 'beignets', 'ramen', 'hamburger', 'prime_rib', 'chicken_wings', 'ramen', 'pork_chop', 'ramen', 'prime_rib', 'bruschetta', 'ramen', 'hamburger', 'hamburger', 'bruschetta', 'pork_chop', 'beignets', 'bruschetta', 'prime_rib', 'bruschetta', 'ramen', 'pork_chop', 'bruschetta', 'beignets', 'beignets', 'chicken_wings', 'hamburger', 'beignets', 'chicken_wings', 'beignets', 'chicken_wings', 'beignets', 'pork_chop', 'hamburger', 'pork_chop', 'ramen', 'bruschetta', 'beignets', 'ramen', 'hamburger', 'prime_rib', 'chicken_wings', 'chicken_wings', 'pork_chop', 'ramen', 'beignets', 'beignets', 'prime_rib', 'beignets', 'ramen', 'hamburger', 'beignets', 'prime_rib', 'beignets', 'bruschetta', 'prime_rib', 'prime_rib', 'prime_rib', 'bruschetta', 'ramen', 'hamburger', 'pork_chop', 'prime_rib', 'bruschetta', 'pork_chop', 'chicken_wings', 'chicken_wings', 'hamburger', 'bruschetta', 'ramen', 'pork_chop', 'beignets', 'ramen', 'prime_rib', 'chicken_wings', 'chicken_wings', 'hamburger', 'hamburger', 'hamburger', 'bruschetta', 'hamburger', 'prime_rib', 'bruschetta', 'chicken_wings', 'hamburger', 'hamburger', 'chicken_wings', 'ramen', 'hamburger', 'beignets', 'pork_chop', 'beignets', 'chicken_wings', 'prime_rib', 'chicken_wings', 'chicken_wings', 'hamburger', 'bruschetta', 'hamburger', 'chicken_wings', 'chicken_wings', 'prime_rib', 'ramen', 'hamburger', 'hamburger', 'hamburger', 'ramen', 'beignets', 'ramen', 'hamburger', 'ramen', 'beignets', 'hamburger', 'beignets', 'hamburger', 'ramen', 'hamburger', 'prime_rib', 'ramen', 'prime_rib', 'ramen', 'beignets', 'hamburger', 'prime_rib', 'prime_rib', 'prime_rib', 'chicken_wings', 'chicken_wings', 'beignets', 'prime_rib', 'chicken_wings', 'prime_rib', 'prime_rib', 'chicken_wings', 'chicken_wings', 'beignets', 'bruschetta', 'pork_chop', 'beignets', 'bruschetta', 'bruschetta', 'prime_rib', 'prime_rib', 'prime_rib', 'bruschetta', 'bruschetta', 'bruschetta', 'ramen', 'prime_rib', 'ramen', 'ramen', 'ramen', 'hamburger', 'bruschetta', 'chicken_wings', 'hamburger', 'pork_chop', 'prime_rib', 'pork_chop', 'chicken_wings', 'beignets', 'bruschetta', 'chicken_wings', 'chicken_wings', 'bruschetta', 'ramen', 'bruschetta', 'prime_rib', 'hamburger', 'ramen', 'chicken_wings', 'ramen', 'chicken_wings', 'beignets', 'bruschetta', 'ramen', 'bruschetta', 'chicken_wings', 'pork_chop', 'beignets', 'chicken_wings', 'hamburger', 'ramen', 'chicken_wings', 'pork_chop', 'ramen', 'hamburger', 'bruschetta', 'chicken_wings', 'prime_rib', 'ramen', 'chicken_wings', 'beignets', 'hamburger', 'chicken_wings', 'prime_rib', 'prime_rib', 'ramen', 'hamburger', 'beignets', 'chicken_wings', 'chicken_wings', 'ramen', 'bruschetta', 'pork_chop', 'ramen', 'hamburger', 'bruschetta', 'ramen', 'pork_chop', 'prime_rib', 'pork_chop', 'prime_rib', 'hamburger', 'beignets', 'chicken_wings', 'hamburger', 'beignets', 'hamburger', 'prime_rib', 'pork_chop', 'prime_rib', 'bruschetta', 'ramen', 'beignets', 'prime_rib', 'ramen', 'hamburger', 'prime_rib', 'beignets', 'bruschetta', 'chicken_wings', 'beignets', 'pork_chop', 'beignets', 'bruschetta', 'beignets', 'bruschetta', 'pork_chop', 'hamburger', 'prime_rib', 'prime_rib', 'ramen', 'beignets', 'hamburger', 'beignets', 'prime_rib', 'beignets', 'beignets', 'ramen', 'ramen', 'pork_chop', 'hamburger', 'bruschetta', 'ramen', 'hamburger', 'bruschetta', 'pork_chop', 'pork_chop', 'bruschetta', 'chicken_wings', 'ramen', 'beignets', 'hamburger', 'beignets', 'pork_chop', 'ramen', 'chicken_wings', 'hamburger', 'chicken_wings', 'prime_rib', 'beignets', 'ramen', 'beignets', 'hamburger', 'pork_chop', 'bruschetta', 'bruschetta', 'beignets', 'pork_chop', 'beignets', 'hamburger', 'prime_rib', 'ramen', 'bruschetta', 'prime_rib', 'bruschetta', 'bruschetta', 'beignets', 'hamburger', 'chicken_wings', 'hamburger', 'ramen', 'hamburger', 'beignets', 'hamburger', 'bruschetta', 'ramen', 'hamburger', 'prime_rib', 'bruschetta', 'hamburger', 'prime_rib', 'prime_rib', 'bruschetta', 'bruschetta', 'ramen', 'bruschetta', 'ramen', 'bruschetta', 'prime_rib', 'prime_rib', 'bruschetta', 'chicken_wings', 'bruschetta', 'chicken_wings', 'bruschetta', 'beignets', 'bruschetta', 'prime_rib', 'prime_rib', 'prime_rib', 'prime_rib', 'hamburger', 'beignets', 'chicken_wings', 'prime_rib', 'beignets', 'hamburger', 'hamburger', 'ramen', 'pork_chop', 'ramen', 'hamburger', 'prime_rib', 'prime_rib', 'chicken_wings', 'bruschetta', 'pork_chop', 'bruschetta', 'bruschetta', 'prime_rib', 'ramen', 'bruschetta', 'beignets', 'pork_chop', 'chicken_wings', 'ramen', 'hamburger', 'chicken_wings', 'hamburger', 'chicken_wings', 'beignets', 'prime_rib', 'pork_chop', 'bruschetta', 'prime_rib', 'ramen', 'chicken_wings', 'pork_chop', 'chicken_wings', 'beignets', 'beignets', 'chicken_wings', 'beignets', 'chicken_wings', 'chicken_wings', 'bruschetta', 'hamburger', 'bruschetta', 'pork_chop', 'prime_rib', 'pork_chop', 'hamburger', 'bruschetta', 'ramen', 'hamburger', 'bruschetta', 'bruschetta', 'beignets', 'chicken_wings', 'beignets', 'hamburger', 'beignets', 'ramen', 'beignets', 'chicken_wings', 'hamburger', 'beignets', 'hamburger', 'bruschetta', 'beignets', 'prime_rib', 'ramen', 'prime_rib', 'chicken_wings', 'ramen', 'chicken_wings', 'pork_chop', 'pork_chop', 'chicken_wings', 'beignets', 'pork_chop', 'hamburger', 'ramen', 'prime_rib', 'hamburger', 'prime_rib', 'chicken_wings', 'ramen', 'prime_rib', 'prime_rib', 'prime_rib', 'beignets', 'prime_rib', 'chicken_wings', 'beignets', 'ramen', 'hamburger', 'bruschetta', 'chicken_wings', 'beignets', 'chicken_wings', 'hamburger', 'chicken_wings', 'hamburger', 'ramen', 'bruschetta', 'ramen', 'ramen', 'chicken_wings', 'hamburger', 'ramen', 'beignets', 'beignets', 'ramen', 'hamburger', 'prime_rib', 'chicken_wings', 'ramen', 'ramen', 'chicken_wings', 'bruschetta', 'ramen', 'hamburger', 'pork_chop', 'pork_chop', 'ramen', 'bruschetta', 'chicken_wings', 'ramen', 'prime_rib', 'hamburger', 'chicken_wings', 'beignets', 'bruschetta', 'bruschetta', 'hamburger', 'ramen', 'bruschetta', 'ramen', 'chicken_wings', 'hamburger', 'beignets', 'hamburger', 'hamburger', 'chicken_wings', 'pork_chop', 'hamburger', 'chicken_wings', 'bruschetta', 'hamburger', 'bruschetta', 'beignets', 'hamburger', 'prime_rib', 'beignets', 'beignets', 'bruschetta', 'prime_rib', 'ramen', 'prime_rib', 'ramen', 'ramen', 'pork_chop', 'beignets', 'hamburger', 'bruschetta', 'beignets', 'prime_rib', 'beignets', 'beignets', 'prime_rib', 'prime_rib', 'chicken_wings', 'ramen', 'chicken_wings', 'bruschetta', 'chicken_wings', 'bruschetta', 'hamburger', 'prime_rib', 'chicken_wings', 'chicken_wings', 'bruschetta', 'prime_rib', 'beignets', 'pork_chop', 'beignets', 'prime_rib', 'ramen', 'hamburger', 'bruschetta', 'chicken_wings', 'hamburger', 'ramen', 'chicken_wings', 'prime_rib', 'bruschetta', 'bruschetta', 'chicken_wings', 'chicken_wings', 'ramen', 'chicken_wings', 'prime_rib', 'hamburger', 'prime_rib', 'ramen', 'prime_rib', 'pork_chop', 'ramen', 'ramen', 'ramen', 'beignets', 'ramen', 'chicken_wings', 'chicken_wings', 'hamburger', 'pork_chop', 'bruschetta', 'pork_chop', 'beignets', 'beignets', 'ramen', 'beignets', 'bruschetta', 'hamburger', 'prime_rib', 'pork_chop', 'prime_rib', 'pork_chop', 'ramen', 'prime_rib', 'chicken_wings', 'ramen', 'pork_chop', 'chicken_wings', 'pork_chop', 'beignets', 'hamburger', 'bruschetta', 'hamburger', 'bruschetta', 'pork_chop', 'hamburger', 'ramen', 'hamburger', 'pork_chop', 'beignets', 'chicken_wings', 'chicken_wings', 'hamburger', 'ramen', 'bruschetta', 'beignets', 'bruschetta', 'ramen', 'ramen', 'chicken_wings', 'bruschetta', 'bruschetta', 'beignets', 'beignets', 'beignets', 'beignets', 'beignets', 'hamburger', 'hamburger', 'prime_rib', 'ramen', 'bruschetta', 'hamburger', 'prime_rib', 'hamburger', 'beignets', 'beignets', 'prime_rib', 'beignets', 'hamburger', 'prime_rib', 'ramen', 'chicken_wings', 'ramen', 'hamburger', 'hamburger', 'hamburger', 'ramen', 'ramen', 'beignets', 'chicken_wings', 'hamburger', 'pork_chop', 'ramen', 'beignets', 'beignets', 'beignets', 'prime_rib', 'beignets', 'chicken_wings', 'chicken_wings', 'chicken_wings', 'beignets', 'pork_chop', 'chicken_wings', 'prime_rib', 'ramen', 'prime_rib', 'hamburger', 'prime_rib', 'bruschetta', 'beignets', 'prime_rib', 'hamburger', 'bruschetta', 'ramen', 'pork_chop', 'prime_rib', 'hamburger', 'ramen', 'bruschetta', 'chicken_wings', 'beignets', 'bruschetta', 'prime_rib', 'chicken_wings', 'beignets', 'chicken_wings', 'hamburger', 'beignets', 'bruschetta', 'prime_rib', 'chicken_wings', 'prime_rib', 'ramen', 'chicken_wings', 'beignets', 'chicken_wings', 'ramen', 'chicken_wings', 'beignets', 'beignets', 'hamburger', 'hamburger', 'hamburger', 'pork_chop', 'chicken_wings', 'chicken_wings', 'bruschetta', 'pork_chop', 'hamburger', 'pork_chop', 'prime_rib', 'chicken_wings', 'bruschetta', 'chicken_wings', 'chicken_wings', 'prime_rib', 'chicken_wings', 'ramen', 'ramen', 'beignets', 'beignets', 'hamburger', 'hamburger', 'ramen', 'hamburger', 'hamburger', 'pork_chop', 'beignets', 'chicken_wings', 'ramen', 'hamburger', 'ramen', 'hamburger', 'prime_rib', 'bruschetta', 'bruschetta', 'pork_chop', 'beignets', 'hamburger', 'chicken_wings', 'ramen', 'beignets', 'chicken_wings', 'pork_chop', 'hamburger', 'hamburger', 'hamburger', 'hamburger', 'beignets', 'beignets', 'prime_rib', 'ramen', 'prime_rib', 'beignets', 'beignets', 'pork_chop', 'pork_chop', 'chicken_wings', 'pork_chop', 'bruschetta', 'prime_rib', 'bruschetta', 'ramen', 'bruschetta', 'pork_chop', 'hamburger', 'ramen', 'hamburger', 'beignets', 'prime_rib', 'bruschetta', 'bruschetta', 'prime_rib', 'chicken_wings', 'prime_rib', 'pork_chop', 'chicken_wings', 'prime_rib', 'chicken_wings', 'bruschetta', 'prime_rib', 'pork_chop', 'beignets', 'beignets', 'chicken_wings', 'chicken_wings', 'chicken_wings', 'prime_rib', 'bruschetta', 'chicken_wings', 'bruschetta', 'bruschetta', 'hamburger', 'pork_chop', 'pork_chop', 'ramen', 'chicken_wings', 'ramen', 'chicken_wings', 'bruschetta', 'ramen', 'ramen', 'chicken_wings', 'beignets', 'prime_rib', 'bruschetta', 'prime_rib', 'ramen', 'pork_chop', 'bruschetta', 'chicken_wings', 'bruschetta', 'pork_chop', 'chicken_wings', 'prime_rib', 'chicken_wings', 'chicken_wings', 'ramen', 'bruschetta', 'prime_rib', 'hamburger', 'hamburger', 'prime_rib', 'prime_rib', 'ramen', 'hamburger', 'bruschetta', 'pork_chop', 'bruschetta', 'bruschetta', 'ramen', 'beignets', 'hamburger', 'hamburger', 'beignets', 'prime_rib', 'pork_chop', 'hamburger', 'pork_chop', 'hamburger', 'hamburger', 'ramen', 'chicken_wings', 'prime_rib', 'chicken_wings', 'ramen', 'prime_rib', 'pork_chop', 'bruschetta', 'pork_chop', 'hamburger', 'pork_chop', 'prime_rib', 'beignets', 'prime_rib', 'chicken_wings', 'prime_rib', 'pork_chop', 'chicken_wings', 'ramen', 'beignets', 'bruschetta', 'chicken_wings', 'hamburger', 'hamburger', 'prime_rib', 'prime_rib', 'ramen', 'beignets', 'hamburger', 'prime_rib', 'prime_rib', 'pork_chop', 'prime_rib', 'ramen', 'hamburger', 'bruschetta', 'beignets', 'ramen', 'pork_chop', 'ramen', 'beignets', 'prime_rib', 'prime_rib', 'chicken_wings', 'beignets', 'chicken_wings', 'prime_rib', 'chicken_wings', 'hamburger', 'beignets', 'ramen', 'ramen', 'beignets', 'chicken_wings', 'pork_chop', 'bruschetta', 'hamburger', 'hamburger', 'prime_rib', 'ramen', 'prime_rib', 'chicken_wings', 'ramen', 'hamburger', 'beignets', 'beignets', 'ramen', 'bruschetta', 'ramen', 'hamburger', 'pork_chop', 'hamburger', 'pork_chop', 'prime_rib', 'beignets']\n",
            "Dataset({\n",
            "    features: ['image', 'label', 'input_ids', 'attention_mask'],\n",
            "    num_rows: 4000\n",
            "})\n"
          ]
        },
        {
          "output_type": "display_data",
          "data": {
            "text/plain": [
              "<IPython.core.display.HTML object>"
            ],
            "text/html": [
              "\n",
              "    <div>\n",
              "      \n",
              "      <progress value='750' max='750' style='width:300px; height:20px; vertical-align: middle;'></progress>\n",
              "      [750/750 37:43, Epoch 3/3]\n",
              "    </div>\n",
              "    <table border=\"1\" class=\"dataframe\">\n",
              "  <thead>\n",
              " <tr style=\"text-align: left;\">\n",
              "      <th>Step</th>\n",
              "      <th>Training Loss</th>\n",
              "    </tr>\n",
              "  </thead>\n",
              "  <tbody>\n",
              "    <tr>\n",
              "      <td>500</td>\n",
              "      <td>0.834300</td>\n",
              "    </tr>\n",
              "  </tbody>\n",
              "</table><p>"
            ]
          },
          "metadata": {}
        },
        {
          "output_type": "execute_result",
          "data": {
            "text/plain": [
              "TrainOutput(global_step=750, training_loss=0.5568582440217336, metrics={'train_runtime': 2272.4411, 'train_samples_per_second': 5.281, 'train_steps_per_second': 0.33, 'total_flos': 43205027544000.0, 'train_loss': 0.5568582440217336, 'epoch': 3.0})"
            ]
          },
          "metadata": {},
          "execution_count": 8
        }
      ],
      "source": [
        "from transformers import RobertaForSequenceClassification, RobertaTokenizer, Trainer, TrainingArguments\n",
        "from datasets import load_dataset\n",
        "import torch\n",
        "import accelerate\n",
        "\n",
        "print(accelerate.__version__)\n",
        "\n",
        "# Step 1: Load the Food101 dataset\n",
        "food101_dataset = load_dataset(\"food101\", split=\"train[:5000]\")\n",
        "food101_dataset = food101_dataset.train_test_split(test_size=0.2)\n",
        "\n",
        "# Step 2: Prepare the labels\n",
        "#create dictionnary for labels\n",
        "\n",
        "labels_train = food[\"train\"].features[\"label\"].names\n",
        "labels_test = food[\"test\"].features[\"label\"].names\n",
        "\n",
        "label2id, id2label = dict(), dict()\n",
        "for i, label in enumerate(labels_train):\n",
        "    label2id[label] = str(i)\n",
        "    id2label[str(i)] = label\n",
        "\n",
        "tokenizer = RobertaTokenizer.from_pretrained(\"roberta-base\")\n",
        "model = RobertaForSequenceClassification.from_pretrained(\"roberta-base\", num_labels=len(food[\"train\"].features[\"label\"].names))\n",
        "\n",
        "\n",
        "\n",
        "# Load the tokenizer\n",
        "tokenizer = RobertaTokenizer.from_pretrained(\"roberta-base\")\n",
        "\n",
        "def tokenize_labels(batch):\n",
        "    print( batch['label'])\n",
        "    print(id2label)\n",
        "    words = [id2label[str(k)] for k in batch['label']]\n",
        "    print(words)\n",
        "    return tokenizer(words, padding=True, truncation=True, return_tensors=\"pt\")\n",
        "\n",
        "# Apply the tokenization to the training and testing sets\n",
        "tokenized_food_train = food[\"train\"].map(tokenize_labels, batched=True)\n",
        "tokenized_food_test = food[\"test\"].map(tokenize_labels, batched=True)\n",
        "# Tokenize the labels\n",
        "print(tokenized_food_train)\n",
        "# Step 4: Prepare for training\n",
        "from transformers import Trainer, TrainingArguments\n",
        "\n",
        "training_args = TrainingArguments(\n",
        "    output_dir=\"./results\",\n",
        "    num_train_epochs=3,\n",
        "    per_device_train_batch_size=16,\n",
        "    per_device_eval_batch_size=64,\n",
        "    warmup_steps=500,\n",
        "    weight_decay=0.01,\n",
        "    logging_dir=\"./logs\",\n",
        ")\n",
        "\n",
        "trainer = Trainer(\n",
        "    model=model,\n",
        "    args=training_args,\n",
        "    train_dataset=tokenized_food_train,\n",
        "    eval_dataset=tokenized_food_test\n",
        ")\n",
        "\n",
        "trainer.train()\n"
      ],
      "id": "bYAFOuzmW2Dh"
    }
  ],
  "metadata": {
    "kernelspec": {
      "display_name": "Python 3 (ipykernel)",
      "language": "python",
      "name": "python3"
    },
    "language_info": {
      "codemirror_mode": {
        "name": "ipython",
        "version": 3
      },
      "file_extension": ".py",
      "mimetype": "text/x-python",
      "name": "python",
      "nbconvert_exporter": "python",
      "pygments_lexer": "ipython3",
      "version": "3.9.13"
    },
    "colab": {
      "provenance": [],
      "include_colab_link": true
    },
    "widgets": {
      "application/vnd.jupyter.widget-state+json": {
        "f485de3c8fa94642a464b2f57a87f6d9": {
          "model_module": "@jupyter-widgets/controls",
          "model_name": "HBoxModel",
          "model_module_version": "1.5.0",
          "state": {
            "_dom_classes": [],
            "_model_module": "@jupyter-widgets/controls",
            "_model_module_version": "1.5.0",
            "_model_name": "HBoxModel",
            "_view_count": null,
            "_view_module": "@jupyter-widgets/controls",
            "_view_module_version": "1.5.0",
            "_view_name": "HBoxView",
            "box_style": "",
            "children": [
              "IPY_MODEL_827d4dec3b164fe6a1e381134b77f075",
              "IPY_MODEL_7b8a71e299c64cb8a7617c0001898428",
              "IPY_MODEL_a7f5bfe2581147ae98b73f80cd932d84"
            ],
            "layout": "IPY_MODEL_41c5d5c389e94842b85292e8c5720d65"
          }
        },
        "827d4dec3b164fe6a1e381134b77f075": {
          "model_module": "@jupyter-widgets/controls",
          "model_name": "HTMLModel",
          "model_module_version": "1.5.0",
          "state": {
            "_dom_classes": [],
            "_model_module": "@jupyter-widgets/controls",
            "_model_module_version": "1.5.0",
            "_model_name": "HTMLModel",
            "_view_count": null,
            "_view_module": "@jupyter-widgets/controls",
            "_view_module_version": "1.5.0",
            "_view_name": "HTMLView",
            "description": "",
            "description_tooltip": null,
            "layout": "IPY_MODEL_ebf0c67ff0274a4da40b6ffc76066d8d",
            "placeholder": "​",
            "style": "IPY_MODEL_9cb63603810d485dac0fc8ea502004e6",
            "value": "Map: 100%"
          }
        },
        "7b8a71e299c64cb8a7617c0001898428": {
          "model_module": "@jupyter-widgets/controls",
          "model_name": "FloatProgressModel",
          "model_module_version": "1.5.0",
          "state": {
            "_dom_classes": [],
            "_model_module": "@jupyter-widgets/controls",
            "_model_module_version": "1.5.0",
            "_model_name": "FloatProgressModel",
            "_view_count": null,
            "_view_module": "@jupyter-widgets/controls",
            "_view_module_version": "1.5.0",
            "_view_name": "ProgressView",
            "bar_style": "success",
            "description": "",
            "description_tooltip": null,
            "layout": "IPY_MODEL_1a64015f3e4743608f71be046b28ab47",
            "max": 4000,
            "min": 0,
            "orientation": "horizontal",
            "style": "IPY_MODEL_93305c7a6d2a467d908d07e327074b50",
            "value": 4000
          }
        },
        "a7f5bfe2581147ae98b73f80cd932d84": {
          "model_module": "@jupyter-widgets/controls",
          "model_name": "HTMLModel",
          "model_module_version": "1.5.0",
          "state": {
            "_dom_classes": [],
            "_model_module": "@jupyter-widgets/controls",
            "_model_module_version": "1.5.0",
            "_model_name": "HTMLModel",
            "_view_count": null,
            "_view_module": "@jupyter-widgets/controls",
            "_view_module_version": "1.5.0",
            "_view_name": "HTMLView",
            "description": "",
            "description_tooltip": null,
            "layout": "IPY_MODEL_91012f3c2bed4a078757ec6313df5fc5",
            "placeholder": "​",
            "style": "IPY_MODEL_37cf89e86ddd4521a2c7cac7154f0ea1",
            "value": " 4000/4000 [00:02&lt;00:00, 2017.20 examples/s]"
          }
        },
        "41c5d5c389e94842b85292e8c5720d65": {
          "model_module": "@jupyter-widgets/base",
          "model_name": "LayoutModel",
          "model_module_version": "1.2.0",
          "state": {
            "_model_module": "@jupyter-widgets/base",
            "_model_module_version": "1.2.0",
            "_model_name": "LayoutModel",
            "_view_count": null,
            "_view_module": "@jupyter-widgets/base",
            "_view_module_version": "1.2.0",
            "_view_name": "LayoutView",
            "align_content": null,
            "align_items": null,
            "align_self": null,
            "border": null,
            "bottom": null,
            "display": null,
            "flex": null,
            "flex_flow": null,
            "grid_area": null,
            "grid_auto_columns": null,
            "grid_auto_flow": null,
            "grid_auto_rows": null,
            "grid_column": null,
            "grid_gap": null,
            "grid_row": null,
            "grid_template_areas": null,
            "grid_template_columns": null,
            "grid_template_rows": null,
            "height": null,
            "justify_content": null,
            "justify_items": null,
            "left": null,
            "margin": null,
            "max_height": null,
            "max_width": null,
            "min_height": null,
            "min_width": null,
            "object_fit": null,
            "object_position": null,
            "order": null,
            "overflow": null,
            "overflow_x": null,
            "overflow_y": null,
            "padding": null,
            "right": null,
            "top": null,
            "visibility": null,
            "width": null
          }
        },
        "ebf0c67ff0274a4da40b6ffc76066d8d": {
          "model_module": "@jupyter-widgets/base",
          "model_name": "LayoutModel",
          "model_module_version": "1.2.0",
          "state": {
            "_model_module": "@jupyter-widgets/base",
            "_model_module_version": "1.2.0",
            "_model_name": "LayoutModel",
            "_view_count": null,
            "_view_module": "@jupyter-widgets/base",
            "_view_module_version": "1.2.0",
            "_view_name": "LayoutView",
            "align_content": null,
            "align_items": null,
            "align_self": null,
            "border": null,
            "bottom": null,
            "display": null,
            "flex": null,
            "flex_flow": null,
            "grid_area": null,
            "grid_auto_columns": null,
            "grid_auto_flow": null,
            "grid_auto_rows": null,
            "grid_column": null,
            "grid_gap": null,
            "grid_row": null,
            "grid_template_areas": null,
            "grid_template_columns": null,
            "grid_template_rows": null,
            "height": null,
            "justify_content": null,
            "justify_items": null,
            "left": null,
            "margin": null,
            "max_height": null,
            "max_width": null,
            "min_height": null,
            "min_width": null,
            "object_fit": null,
            "object_position": null,
            "order": null,
            "overflow": null,
            "overflow_x": null,
            "overflow_y": null,
            "padding": null,
            "right": null,
            "top": null,
            "visibility": null,
            "width": null
          }
        },
        "9cb63603810d485dac0fc8ea502004e6": {
          "model_module": "@jupyter-widgets/controls",
          "model_name": "DescriptionStyleModel",
          "model_module_version": "1.5.0",
          "state": {
            "_model_module": "@jupyter-widgets/controls",
            "_model_module_version": "1.5.0",
            "_model_name": "DescriptionStyleModel",
            "_view_count": null,
            "_view_module": "@jupyter-widgets/base",
            "_view_module_version": "1.2.0",
            "_view_name": "StyleView",
            "description_width": ""
          }
        },
        "1a64015f3e4743608f71be046b28ab47": {
          "model_module": "@jupyter-widgets/base",
          "model_name": "LayoutModel",
          "model_module_version": "1.2.0",
          "state": {
            "_model_module": "@jupyter-widgets/base",
            "_model_module_version": "1.2.0",
            "_model_name": "LayoutModel",
            "_view_count": null,
            "_view_module": "@jupyter-widgets/base",
            "_view_module_version": "1.2.0",
            "_view_name": "LayoutView",
            "align_content": null,
            "align_items": null,
            "align_self": null,
            "border": null,
            "bottom": null,
            "display": null,
            "flex": null,
            "flex_flow": null,
            "grid_area": null,
            "grid_auto_columns": null,
            "grid_auto_flow": null,
            "grid_auto_rows": null,
            "grid_column": null,
            "grid_gap": null,
            "grid_row": null,
            "grid_template_areas": null,
            "grid_template_columns": null,
            "grid_template_rows": null,
            "height": null,
            "justify_content": null,
            "justify_items": null,
            "left": null,
            "margin": null,
            "max_height": null,
            "max_width": null,
            "min_height": null,
            "min_width": null,
            "object_fit": null,
            "object_position": null,
            "order": null,
            "overflow": null,
            "overflow_x": null,
            "overflow_y": null,
            "padding": null,
            "right": null,
            "top": null,
            "visibility": null,
            "width": null
          }
        },
        "93305c7a6d2a467d908d07e327074b50": {
          "model_module": "@jupyter-widgets/controls",
          "model_name": "ProgressStyleModel",
          "model_module_version": "1.5.0",
          "state": {
            "_model_module": "@jupyter-widgets/controls",
            "_model_module_version": "1.5.0",
            "_model_name": "ProgressStyleModel",
            "_view_count": null,
            "_view_module": "@jupyter-widgets/base",
            "_view_module_version": "1.2.0",
            "_view_name": "StyleView",
            "bar_color": null,
            "description_width": ""
          }
        },
        "91012f3c2bed4a078757ec6313df5fc5": {
          "model_module": "@jupyter-widgets/base",
          "model_name": "LayoutModel",
          "model_module_version": "1.2.0",
          "state": {
            "_model_module": "@jupyter-widgets/base",
            "_model_module_version": "1.2.0",
            "_model_name": "LayoutModel",
            "_view_count": null,
            "_view_module": "@jupyter-widgets/base",
            "_view_module_version": "1.2.0",
            "_view_name": "LayoutView",
            "align_content": null,
            "align_items": null,
            "align_self": null,
            "border": null,
            "bottom": null,
            "display": null,
            "flex": null,
            "flex_flow": null,
            "grid_area": null,
            "grid_auto_columns": null,
            "grid_auto_flow": null,
            "grid_auto_rows": null,
            "grid_column": null,
            "grid_gap": null,
            "grid_row": null,
            "grid_template_areas": null,
            "grid_template_columns": null,
            "grid_template_rows": null,
            "height": null,
            "justify_content": null,
            "justify_items": null,
            "left": null,
            "margin": null,
            "max_height": null,
            "max_width": null,
            "min_height": null,
            "min_width": null,
            "object_fit": null,
            "object_position": null,
            "order": null,
            "overflow": null,
            "overflow_x": null,
            "overflow_y": null,
            "padding": null,
            "right": null,
            "top": null,
            "visibility": null,
            "width": null
          }
        },
        "37cf89e86ddd4521a2c7cac7154f0ea1": {
          "model_module": "@jupyter-widgets/controls",
          "model_name": "DescriptionStyleModel",
          "model_module_version": "1.5.0",
          "state": {
            "_model_module": "@jupyter-widgets/controls",
            "_model_module_version": "1.5.0",
            "_model_name": "DescriptionStyleModel",
            "_view_count": null,
            "_view_module": "@jupyter-widgets/base",
            "_view_module_version": "1.2.0",
            "_view_name": "StyleView",
            "description_width": ""
          }
        },
        "d587e6190aa04b28b3d6c21f7b74073a": {
          "model_module": "@jupyter-widgets/controls",
          "model_name": "HBoxModel",
          "model_module_version": "1.5.0",
          "state": {
            "_dom_classes": [],
            "_model_module": "@jupyter-widgets/controls",
            "_model_module_version": "1.5.0",
            "_model_name": "HBoxModel",
            "_view_count": null,
            "_view_module": "@jupyter-widgets/controls",
            "_view_module_version": "1.5.0",
            "_view_name": "HBoxView",
            "box_style": "",
            "children": [
              "IPY_MODEL_0695d724862746fb8e31d63e55fbcbb0",
              "IPY_MODEL_ce90c8e8cf7a419eac99ead3fe49b814",
              "IPY_MODEL_7eb9f1642da64328a5c06b1d89605515"
            ],
            "layout": "IPY_MODEL_ceb56450ec5b46dfa8d836c375346c1e"
          }
        },
        "0695d724862746fb8e31d63e55fbcbb0": {
          "model_module": "@jupyter-widgets/controls",
          "model_name": "HTMLModel",
          "model_module_version": "1.5.0",
          "state": {
            "_dom_classes": [],
            "_model_module": "@jupyter-widgets/controls",
            "_model_module_version": "1.5.0",
            "_model_name": "HTMLModel",
            "_view_count": null,
            "_view_module": "@jupyter-widgets/controls",
            "_view_module_version": "1.5.0",
            "_view_name": "HTMLView",
            "description": "",
            "description_tooltip": null,
            "layout": "IPY_MODEL_ca02dec43a334bda93b1aca5f15acaae",
            "placeholder": "​",
            "style": "IPY_MODEL_8fe0f5b078cc4711850171778ddeab83",
            "value": "Map: 100%"
          }
        },
        "ce90c8e8cf7a419eac99ead3fe49b814": {
          "model_module": "@jupyter-widgets/controls",
          "model_name": "FloatProgressModel",
          "model_module_version": "1.5.0",
          "state": {
            "_dom_classes": [],
            "_model_module": "@jupyter-widgets/controls",
            "_model_module_version": "1.5.0",
            "_model_name": "FloatProgressModel",
            "_view_count": null,
            "_view_module": "@jupyter-widgets/controls",
            "_view_module_version": "1.5.0",
            "_view_name": "ProgressView",
            "bar_style": "success",
            "description": "",
            "description_tooltip": null,
            "layout": "IPY_MODEL_fd86b51202df4d89b9e504922b055e60",
            "max": 1000,
            "min": 0,
            "orientation": "horizontal",
            "style": "IPY_MODEL_7106f8b5942f4561a740cddf843fc36b",
            "value": 1000
          }
        },
        "7eb9f1642da64328a5c06b1d89605515": {
          "model_module": "@jupyter-widgets/controls",
          "model_name": "HTMLModel",
          "model_module_version": "1.5.0",
          "state": {
            "_dom_classes": [],
            "_model_module": "@jupyter-widgets/controls",
            "_model_module_version": "1.5.0",
            "_model_name": "HTMLModel",
            "_view_count": null,
            "_view_module": "@jupyter-widgets/controls",
            "_view_module_version": "1.5.0",
            "_view_name": "HTMLView",
            "description": "",
            "description_tooltip": null,
            "layout": "IPY_MODEL_735619c2a26e48d3809051bb9e80f87e",
            "placeholder": "​",
            "style": "IPY_MODEL_08f89769987441fbaf3b306be5ff8323",
            "value": " 1000/1000 [00:00&lt;00:00, 2255.75 examples/s]"
          }
        },
        "ceb56450ec5b46dfa8d836c375346c1e": {
          "model_module": "@jupyter-widgets/base",
          "model_name": "LayoutModel",
          "model_module_version": "1.2.0",
          "state": {
            "_model_module": "@jupyter-widgets/base",
            "_model_module_version": "1.2.0",
            "_model_name": "LayoutModel",
            "_view_count": null,
            "_view_module": "@jupyter-widgets/base",
            "_view_module_version": "1.2.0",
            "_view_name": "LayoutView",
            "align_content": null,
            "align_items": null,
            "align_self": null,
            "border": null,
            "bottom": null,
            "display": null,
            "flex": null,
            "flex_flow": null,
            "grid_area": null,
            "grid_auto_columns": null,
            "grid_auto_flow": null,
            "grid_auto_rows": null,
            "grid_column": null,
            "grid_gap": null,
            "grid_row": null,
            "grid_template_areas": null,
            "grid_template_columns": null,
            "grid_template_rows": null,
            "height": null,
            "justify_content": null,
            "justify_items": null,
            "left": null,
            "margin": null,
            "max_height": null,
            "max_width": null,
            "min_height": null,
            "min_width": null,
            "object_fit": null,
            "object_position": null,
            "order": null,
            "overflow": null,
            "overflow_x": null,
            "overflow_y": null,
            "padding": null,
            "right": null,
            "top": null,
            "visibility": null,
            "width": null
          }
        },
        "ca02dec43a334bda93b1aca5f15acaae": {
          "model_module": "@jupyter-widgets/base",
          "model_name": "LayoutModel",
          "model_module_version": "1.2.0",
          "state": {
            "_model_module": "@jupyter-widgets/base",
            "_model_module_version": "1.2.0",
            "_model_name": "LayoutModel",
            "_view_count": null,
            "_view_module": "@jupyter-widgets/base",
            "_view_module_version": "1.2.0",
            "_view_name": "LayoutView",
            "align_content": null,
            "align_items": null,
            "align_self": null,
            "border": null,
            "bottom": null,
            "display": null,
            "flex": null,
            "flex_flow": null,
            "grid_area": null,
            "grid_auto_columns": null,
            "grid_auto_flow": null,
            "grid_auto_rows": null,
            "grid_column": null,
            "grid_gap": null,
            "grid_row": null,
            "grid_template_areas": null,
            "grid_template_columns": null,
            "grid_template_rows": null,
            "height": null,
            "justify_content": null,
            "justify_items": null,
            "left": null,
            "margin": null,
            "max_height": null,
            "max_width": null,
            "min_height": null,
            "min_width": null,
            "object_fit": null,
            "object_position": null,
            "order": null,
            "overflow": null,
            "overflow_x": null,
            "overflow_y": null,
            "padding": null,
            "right": null,
            "top": null,
            "visibility": null,
            "width": null
          }
        },
        "8fe0f5b078cc4711850171778ddeab83": {
          "model_module": "@jupyter-widgets/controls",
          "model_name": "DescriptionStyleModel",
          "model_module_version": "1.5.0",
          "state": {
            "_model_module": "@jupyter-widgets/controls",
            "_model_module_version": "1.5.0",
            "_model_name": "DescriptionStyleModel",
            "_view_count": null,
            "_view_module": "@jupyter-widgets/base",
            "_view_module_version": "1.2.0",
            "_view_name": "StyleView",
            "description_width": ""
          }
        },
        "fd86b51202df4d89b9e504922b055e60": {
          "model_module": "@jupyter-widgets/base",
          "model_name": "LayoutModel",
          "model_module_version": "1.2.0",
          "state": {
            "_model_module": "@jupyter-widgets/base",
            "_model_module_version": "1.2.0",
            "_model_name": "LayoutModel",
            "_view_count": null,
            "_view_module": "@jupyter-widgets/base",
            "_view_module_version": "1.2.0",
            "_view_name": "LayoutView",
            "align_content": null,
            "align_items": null,
            "align_self": null,
            "border": null,
            "bottom": null,
            "display": null,
            "flex": null,
            "flex_flow": null,
            "grid_area": null,
            "grid_auto_columns": null,
            "grid_auto_flow": null,
            "grid_auto_rows": null,
            "grid_column": null,
            "grid_gap": null,
            "grid_row": null,
            "grid_template_areas": null,
            "grid_template_columns": null,
            "grid_template_rows": null,
            "height": null,
            "justify_content": null,
            "justify_items": null,
            "left": null,
            "margin": null,
            "max_height": null,
            "max_width": null,
            "min_height": null,
            "min_width": null,
            "object_fit": null,
            "object_position": null,
            "order": null,
            "overflow": null,
            "overflow_x": null,
            "overflow_y": null,
            "padding": null,
            "right": null,
            "top": null,
            "visibility": null,
            "width": null
          }
        },
        "7106f8b5942f4561a740cddf843fc36b": {
          "model_module": "@jupyter-widgets/controls",
          "model_name": "ProgressStyleModel",
          "model_module_version": "1.5.0",
          "state": {
            "_model_module": "@jupyter-widgets/controls",
            "_model_module_version": "1.5.0",
            "_model_name": "ProgressStyleModel",
            "_view_count": null,
            "_view_module": "@jupyter-widgets/base",
            "_view_module_version": "1.2.0",
            "_view_name": "StyleView",
            "bar_color": null,
            "description_width": ""
          }
        },
        "735619c2a26e48d3809051bb9e80f87e": {
          "model_module": "@jupyter-widgets/base",
          "model_name": "LayoutModel",
          "model_module_version": "1.2.0",
          "state": {
            "_model_module": "@jupyter-widgets/base",
            "_model_module_version": "1.2.0",
            "_model_name": "LayoutModel",
            "_view_count": null,
            "_view_module": "@jupyter-widgets/base",
            "_view_module_version": "1.2.0",
            "_view_name": "LayoutView",
            "align_content": null,
            "align_items": null,
            "align_self": null,
            "border": null,
            "bottom": null,
            "display": null,
            "flex": null,
            "flex_flow": null,
            "grid_area": null,
            "grid_auto_columns": null,
            "grid_auto_flow": null,
            "grid_auto_rows": null,
            "grid_column": null,
            "grid_gap": null,
            "grid_row": null,
            "grid_template_areas": null,
            "grid_template_columns": null,
            "grid_template_rows": null,
            "height": null,
            "justify_content": null,
            "justify_items": null,
            "left": null,
            "margin": null,
            "max_height": null,
            "max_width": null,
            "min_height": null,
            "min_width": null,
            "object_fit": null,
            "object_position": null,
            "order": null,
            "overflow": null,
            "overflow_x": null,
            "overflow_y": null,
            "padding": null,
            "right": null,
            "top": null,
            "visibility": null,
            "width": null
          }
        },
        "08f89769987441fbaf3b306be5ff8323": {
          "model_module": "@jupyter-widgets/controls",
          "model_name": "DescriptionStyleModel",
          "model_module_version": "1.5.0",
          "state": {
            "_model_module": "@jupyter-widgets/controls",
            "_model_module_version": "1.5.0",
            "_model_name": "DescriptionStyleModel",
            "_view_count": null,
            "_view_module": "@jupyter-widgets/base",
            "_view_module_version": "1.2.0",
            "_view_name": "StyleView",
            "description_width": ""
          }
        }
      }
    }
  },
  "nbformat": 4,
  "nbformat_minor": 5
}