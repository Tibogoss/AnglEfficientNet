{
 "cells": [
  {
   "cell_type": "markdown",
   "metadata": {
    "id": "iGgv5aZ33lG2"
   },
   "source": [
    "# anglE"
   ]
  },
  {
   "cell_type": "code",
   "execution_count": 2,
   "metadata": {
    "colab": {
     "base_uri": "https://localhost:8080/",
     "height": 71
    },
    "executionInfo": {
     "elapsed": 11725,
     "status": "ok",
     "timestamp": 1599641279795,
     "user": {
      "displayName": "Gianmarco Ria",
      "photoUrl": "https://lh3.googleusercontent.com/a-/AOh14GjMp7KZ0us4lc7vwWhGAGg6qMuFNg8TVQSFAKb9GA=s64",
      "userId": "01406154558516398149"
     },
     "user_tz": -120
    },
    "id": "LMiFAlYwuaIG",
    "outputId": "62cd86a2-9578-4d99-ddfc-cb4598dc7136"
   },
   "outputs": [],
   "source": [
    "# Import all necessary libraries\n",
    "try:\n",
    "    %tensorflow_version 2.x\n",
    "except Exception:\n",
    "    pass\n",
    "\n",
    "import tensorflow as tf\n",
    "#import tensorflow_hub as hub\n",
    "from tensorflow.keras import layers\n",
    "from tensorflow.keras import callbacks\n",
    "from tensorflow.keras import optimizers\n",
    "from tensorflow.keras import utils\n",
    "from sklearn.preprocessing import LabelEncoder\n",
    "from sklearn.utils import shuffle\n",
    "import bert\n",
    "import os\n",
    "import numpy as np\n",
    "import re\n",
    "import pandas as pd\n",
    "from sklearn.metrics import confusion_matrix\n",
    "import seaborn as sns\n",
    "import matplotlib.pyplot as plt\n",
    "import plotly.express as px\n",
    "import plotly.graph_objects as go"
   ]
  },
  {
   "cell_type": "code",
   "execution_count": 3,
   "metadata": {
    "id": "pu8a6XqJ0y4C"
   },
   "outputs": [],
   "source": [
    "colnames=['image_path', 'text', 'food']\n",
    "train = pd.read_csv('train_titles.csv', names=colnames, header=None, sep = ',', index_col=['image_path'])\n",
    "test = pd.read_csv('test_titles.csv', names=colnames, header=None, sep = ',', index_col=['image_path'])"
   ]
  },
  {
   "cell_type": "code",
   "execution_count": 4,
   "metadata": {
    "id": "7JFULs5-K5G9"
   },
   "outputs": [],
   "source": [
    "test = test.sort_values('image_path')\n",
    "train = train.sort_values('image_path')"
   ]
  },
  {
   "cell_type": "code",
   "execution_count": 5,
   "metadata": {
    "colab": {
     "base_uri": "https://localhost:8080/",
     "height": 204
    },
    "executionInfo": {
     "elapsed": 4300,
     "status": "ok",
     "timestamp": 1596208703546,
     "user": {
      "displayName": "Gianmarco Ria",
      "photoUrl": "https://lh3.googleusercontent.com/a-/AOh14GjMp7KZ0us4lc7vwWhGAGg6qMuFNg8TVQSFAKb9GA=s64",
      "userId": "01406154558516398149"
     },
     "user_tz": -120
    },
    "id": "BN8X3PPG0M03",
    "outputId": "f660fc6a-a4a7-4c2c-f9db-b83e62b1a579"
   },
   "outputs": [
    {
     "data": {
      "text/html": [
       "<div>\n",
       "<style scoped>\n",
       "    .dataframe tbody tr th:only-of-type {\n",
       "        vertical-align: middle;\n",
       "    }\n",
       "\n",
       "    .dataframe tbody tr th {\n",
       "        vertical-align: top;\n",
       "    }\n",
       "\n",
       "    .dataframe thead th {\n",
       "        text-align: right;\n",
       "    }\n",
       "</style>\n",
       "<table border=\"1\" class=\"dataframe\">\n",
       "  <thead>\n",
       "    <tr style=\"text-align: right;\">\n",
       "      <th></th>\n",
       "      <th>text</th>\n",
       "      <th>food</th>\n",
       "    </tr>\n",
       "    <tr>\n",
       "      <th>image_path</th>\n",
       "      <th></th>\n",
       "      <th></th>\n",
       "    </tr>\n",
       "  </thead>\n",
       "  <tbody>\n",
       "    <tr>\n",
       "      <th>apple_pie_0.jpg</th>\n",
       "      <td>Apple pie - Wikipedia</td>\n",
       "      <td>apple_pie</td>\n",
       "    </tr>\n",
       "    <tr>\n",
       "      <th>apple_pie_100.jpg</th>\n",
       "      <td>Glazed Apple Pie Squares Recipe | Taste of Home</td>\n",
       "      <td>apple_pie</td>\n",
       "    </tr>\n",
       "    <tr>\n",
       "      <th>apple_pie_101.jpg</th>\n",
       "      <td>Mock Apple Pie Recipe - Allrecipes.com</td>\n",
       "      <td>apple_pie</td>\n",
       "    </tr>\n",
       "    <tr>\n",
       "      <th>apple_pie_102.jpg</th>\n",
       "      <td>Crock-Pot Ladies  Crock-Pot Apple Pie Moonshine</td>\n",
       "      <td>apple_pie</td>\n",
       "    </tr>\n",
       "    <tr>\n",
       "      <th>apple_pie_104.jpg</th>\n",
       "      <td>All-Star Apple Pie Recipe | Taste of Home</td>\n",
       "      <td>apple_pie</td>\n",
       "    </tr>\n",
       "  </tbody>\n",
       "</table>\n",
       "</div>"
      ],
      "text/plain": [
       "                                                              text       food\n",
       "image_path                                                                   \n",
       "apple_pie_0.jpg                              Apple pie - Wikipedia  apple_pie\n",
       "apple_pie_100.jpg  Glazed Apple Pie Squares Recipe | Taste of Home  apple_pie\n",
       "apple_pie_101.jpg           Mock Apple Pie Recipe - Allrecipes.com  apple_pie\n",
       "apple_pie_102.jpg  Crock-Pot Ladies  Crock-Pot Apple Pie Moonshine  apple_pie\n",
       "apple_pie_104.jpg        All-Star Apple Pie Recipe | Taste of Home  apple_pie"
      ]
     },
     "execution_count": 5,
     "metadata": {},
     "output_type": "execute_result"
    }
   ],
   "source": [
    "train.head()"
   ]
  },
  {
   "cell_type": "code",
   "execution_count": 6,
   "metadata": {
    "colab": {
     "base_uri": "https://localhost:8080/",
     "height": 51
    },
    "executionInfo": {
     "elapsed": 4017,
     "status": "ok",
     "timestamp": 1596208703547,
     "user": {
      "displayName": "Gianmarco Ria",
      "photoUrl": "https://lh3.googleusercontent.com/a-/AOh14GjMp7KZ0us4lc7vwWhGAGg6qMuFNg8TVQSFAKb9GA=s64",
      "userId": "01406154558516398149"
     },
     "user_tz": -120
    },
    "id": "58ACpjRpibuH",
    "outputId": "a462dd22-b607-46a8-a1ae-f252637688d8"
   },
   "outputs": [
    {
     "name": "stdout",
     "output_type": "stream",
     "text": [
      "train samples: 67972\n",
      "test samples: 22716\n"
     ]
    }
   ],
   "source": [
    "print(\"train samples:\",train.shape[0])\n",
    "print(\"test samples:\",test.shape[0])"
   ]
  },
  {
   "cell_type": "code",
   "execution_count": 7,
   "metadata": {
    "id": "VvoThuSeusRT"
   },
   "outputs": [],
   "source": [
    "# Cleaning text function\n",
    "\n",
    "def preprocess_text(sen):\n",
    "    # Removing html tags\n",
    "    sentence = remove_tags(sen)\n",
    "\n",
    "    # Remove punctuations and numbers\n",
    "    sentence = re.sub('[^a-zA-Z]', ' ', sentence)\n",
    "\n",
    "    # Single character removal\n",
    "    sentence = re.sub(r\"\\s+[a-zA-Z]\\s+\", ' ', sentence)\n",
    "\n",
    "    # Removing multiple spaces\n",
    "    sentence = re.sub(r'\\s+', ' ', sentence)\n",
    "\n",
    "    sentence = sentence.lower()\n",
    "\n",
    "    return sentence\n",
    "\n",
    "def remove_tags(text):\n",
    "    return TAG_RE.sub('', text)\n",
    "\n",
    "TAG_RE = re.compile(r'<[^>]+>')\n",
    "vec_preprocess_text = np.vectorize(preprocess_text)"
   ]
  },
  {
   "cell_type": "code",
   "execution_count": 8,
   "metadata": {
    "id": "7fskWSOzAVZ2"
   },
   "outputs": [],
   "source": [
    "# Check number of classes\n",
    "nClasses = train.food.nunique()"
   ]
  },
  {
   "cell_type": "code",
   "execution_count": 9,
   "metadata": {},
   "outputs": [
    {
     "name": "stdout",
     "output_type": "stream",
     "text": [
      "Processed text sample: apple pie wikipedia\n",
      "Shape of train labels: (67972, 101)\n"
     ]
    }
   ],
   "source": [
    "encoder = LabelEncoder()\n",
    "processed_train = vec_preprocess_text(train.text.values)\n",
    "processed_test = vec_preprocess_text(test.text.values)\n",
    "\n",
    "\n",
    "encoded_labels_train = encoder.fit_transform(train.food.values)\n",
    "labels_train = utils.to_categorical(encoded_labels_train, nClasses)\n",
    "\n",
    "encoded_labels_test = encoder.fit_transform(test.food.values)\n",
    "labels_test = utils.to_categorical(encoded_labels_test, nClasses)\n",
    "\n",
    "print(\"Processed text sample:\", processed_train[0])\n",
    "print(\"Shape of train labels:\", labels_train.shape)"
   ]
  },
  {
   "cell_type": "code",
   "execution_count": 10,
   "metadata": {},
   "outputs": [
    {
     "data": {
      "text/plain": [
       "'apple pie wikipedia'"
      ]
     },
     "execution_count": 10,
     "metadata": {},
     "output_type": "execute_result"
    }
   ],
   "source": [
    "processed_train[0] "
   ]
  },
  {
   "cell_type": "code",
   "execution_count": 11,
   "metadata": {},
   "outputs": [
    {
     "name": "stderr",
     "output_type": "stream",
     "text": [
      "/home/ktg3317/.local/lib/python3.10/site-packages/tqdm/auto.py:21: TqdmWarning: IProgress not found. Please update jupyter and ipywidgets. See https://ipywidgets.readthedocs.io/en/stable/user_install.html\n",
      "  from .autonotebook import tqdm as notebook_tqdm\n"
     ]
    }
   ],
   "source": [
    "from angle_emb import AnglE\n",
    "\n",
    "angle = AnglE.from_pretrained('WhereIsAI/UAE-Large-V1', pooling_strategy='cls').cuda()\n"
   ]
  },
  {
   "cell_type": "code",
   "execution_count": null,
   "metadata": {},
   "outputs": [],
   "source": [
    "train_text = angle.encode(processed_train[0], to_numpy=True)\n",
    "for i in range(1,67988):\n",
    "    if i%5000==0:\n",
    "        print(i/5000)\n",
    "    vec = angle.encode(processed_train[i], to_numpy=True)\n",
    "    train_text = np.concatentate((train_text,vec),axis=0)\n",
    "np.load('text_train',train_text)"
   ]
  },
  {
   "cell_type": "code",
   "execution_count": 12,
   "metadata": {},
   "outputs": [
    {
     "data": {
      "text/plain": [
       "array([[-0.8674534 ,  0.28147906,  0.12365077, ..., -0.8258026 ,\n",
       "         0.8993709 ,  0.00467708]], dtype=float32)"
      ]
     },
     "execution_count": 12,
     "metadata": {},
     "output_type": "execute_result"
    }
   ],
   "source": [
    "angle.encode(processed_train[1], to_numpy=True)"
   ]
  },
  {
   "cell_type": "code",
   "execution_count": 13,
   "metadata": {},
   "outputs": [],
   "source": [
    "train_data = np.load('text_train.npy')"
   ]
  },
  {
   "cell_type": "code",
   "execution_count": 14,
   "metadata": {},
   "outputs": [],
   "source": [
    "test_data = np.load('text_test.npy')"
   ]
  },
  {
   "cell_type": "code",
   "execution_count": 54,
   "metadata": {
    "id": "kTJLV6IYCrI1"
   },
   "outputs": [],
   "source": [
    "# Classification Model\n",
    "input = layers.Input(shape=(1024,), dtype=tf.int32,\n",
    "                                       name=\"input_data\")\n",
    "\n",
    "X = layers.Dense(512, activation=\"relu\")(input)\n",
    "X = layers.Dropout(0.5)(X)\n",
    "X = layers.Dense(256, activation=\"relu\")(X)\n",
    "X = layers.Dropout(0.5)(X)\n",
    "output = layers.Dense(nClasses, activation = 'softmax')(X)\n",
    "\n",
    "model = tf.keras.models.Model(input, output)"
   ]
  },
  {
   "cell_type": "code",
   "execution_count": 62,
   "metadata": {
    "id": "wib2oKMsjB4s"
   },
   "outputs": [
    {
     "name": "stderr",
     "output_type": "stream",
     "text": [
      "WARNING:absl:`lr` is deprecated, please use `learning_rate` instead, or use the legacy optimizer, e.g.,tf.keras.optimizers.legacy.Adam.\n"
     ]
    }
   ],
   "source": [
    "opt = optimizers.Adam(lr=.001)\n",
    "\n",
    "model.compile(loss = 'categorical_crossentropy',\n",
    "              optimizer = opt,\n",
    "              metrics = ['accuracy'])"
   ]
  },
  {
   "cell_type": "code",
   "execution_count": 63,
   "metadata": {
    "colab": {
     "base_uri": "https://localhost:8080/",
     "height": 493
    },
    "executionInfo": {
     "elapsed": 70247,
     "status": "ok",
     "timestamp": 1596208791233,
     "user": {
      "displayName": "Gianmarco Ria",
      "photoUrl": "https://lh3.googleusercontent.com/a-/AOh14GjMp7KZ0us4lc7vwWhGAGg6qMuFNg8TVQSFAKb9GA=s64",
      "userId": "01406154558516398149"
     },
     "user_tz": -120
    },
    "id": "X9u3rzU7XTOd",
    "outputId": "b5e50d17-c953-4021-9ee7-7cb485efac17"
   },
   "outputs": [
    {
     "name": "stdout",
     "output_type": "stream",
     "text": [
      "Model: \"model_2\"\n",
      "_________________________________________________________________\n",
      " Layer (type)                Output Shape              Param #   \n",
      "=================================================================\n",
      " input_data (InputLayer)     [(None, 1024)]            0         \n",
      "                                                                 \n",
      " dense_6 (Dense)             (None, 512)               524800    \n",
      "                                                                 \n",
      " dropout_4 (Dropout)         (None, 512)               0         \n",
      "                                                                 \n",
      " dense_7 (Dense)             (None, 256)               131328    \n",
      "                                                                 \n",
      " dropout_5 (Dropout)         (None, 256)               0         \n",
      "                                                                 \n",
      " dense_8 (Dense)             (None, 101)               25957     \n",
      "                                                                 \n",
      "=================================================================\n",
      "Total params: 682,085\n",
      "Trainable params: 682,085\n",
      "Non-trainable params: 0\n",
      "_________________________________________________________________\n"
     ]
    }
   ],
   "source": [
    "model.summary()"
   ]
  },
  {
   "cell_type": "code",
   "execution_count": 64,
   "metadata": {
    "id": "y45Bom1uvugx"
   },
   "outputs": [],
   "source": [
    "es = callbacks.EarlyStopping(monitor='accuracy', patience=2, restore_best_weights=True)"
   ]
  },
  {
   "cell_type": "code",
   "execution_count": 65,
   "metadata": {
    "id": "QSvb7QvJ_LIn"
   },
   "outputs": [],
   "source": [
    "csv_logger = callbacks.CSVLogger('BERT_LSTM/BERT_LSTM.log')\n",
    "es = callbacks.EarlyStopping(patience = 3, restore_best_weights=True)"
   ]
  },
  {
   "cell_type": "code",
   "execution_count": 66,
   "metadata": {
    "id": "41oSzCcHjZVO"
   },
   "outputs": [],
   "source": [
    "reduce_lr = callbacks.ReduceLROnPlateau(\n",
    "    monitor='accuracy', factor=0.1, patience=1, min_lr=0.00001)"
   ]
  },
  {
   "cell_type": "code",
   "execution_count": 67,
   "metadata": {},
   "outputs": [
    {
     "name": "stdout",
     "output_type": "stream",
     "text": [
      "Epoch 1/20\n",
      "133/133 [==============================] - 2s 5ms/step - loss: 0.3826 - accuracy: 0.9036 - lr: 0.0010\n",
      "Epoch 2/20\n",
      "133/133 [==============================] - 1s 4ms/step - loss: 0.3651 - accuracy: 0.9054 - lr: 0.0010\n",
      "Epoch 3/20\n",
      "133/133 [==============================] - 0s 4ms/step - loss: 0.3590 - accuracy: 0.9074 - lr: 0.0010\n",
      "Epoch 4/20\n",
      "133/133 [==============================] - 0s 4ms/step - loss: 0.3440 - accuracy: 0.9110 - lr: 0.0010\n",
      "Epoch 5/20\n",
      "133/133 [==============================] - 1s 4ms/step - loss: 0.3321 - accuracy: 0.9146 - lr: 0.0010\n",
      "Epoch 6/20\n",
      "133/133 [==============================] - 1s 4ms/step - loss: 0.3277 - accuracy: 0.9143 - lr: 0.0010\n",
      "Epoch 7/20\n",
      "133/133 [==============================] - 1s 4ms/step - loss: 0.2961 - accuracy: 0.9225 - lr: 1.0000e-04\n",
      "Epoch 8/20\n",
      "133/133 [==============================] - 1s 4ms/step - loss: 0.2889 - accuracy: 0.9247 - lr: 1.0000e-04\n",
      "Epoch 9/20\n",
      "133/133 [==============================] - 1s 4ms/step - loss: 0.2818 - accuracy: 0.9261 - lr: 1.0000e-04\n",
      "Epoch 10/20\n",
      "133/133 [==============================] - 1s 4ms/step - loss: 0.2781 - accuracy: 0.9268 - lr: 1.0000e-04\n",
      "Epoch 11/20\n",
      "133/133 [==============================] - 0s 3ms/step - loss: 0.2733 - accuracy: 0.9279 - lr: 1.0000e-04\n",
      "Epoch 12/20\n",
      "133/133 [==============================] - 1s 4ms/step - loss: 0.2719 - accuracy: 0.9284 - lr: 1.0000e-04\n",
      "Epoch 13/20\n",
      "133/133 [==============================] - 1s 4ms/step - loss: 0.2677 - accuracy: 0.9287 - lr: 1.0000e-04\n",
      "Epoch 14/20\n",
      "133/133 [==============================] - 0s 3ms/step - loss: 0.2667 - accuracy: 0.9305 - lr: 1.0000e-04\n",
      "Epoch 15/20\n",
      "133/133 [==============================] - 0s 4ms/step - loss: 0.2679 - accuracy: 0.9298 - lr: 1.0000e-04\n",
      "Epoch 16/20\n",
      "133/133 [==============================] - 1s 5ms/step - loss: 0.2603 - accuracy: 0.9312 - lr: 1.0000e-05\n",
      "Epoch 17/20\n",
      "133/133 [==============================] - 0s 3ms/step - loss: 0.2591 - accuracy: 0.9309 - lr: 1.0000e-05\n",
      "Epoch 18/20\n",
      "133/133 [==============================] - 1s 5ms/step - loss: 0.2583 - accuracy: 0.9324 - lr: 1.0000e-05\n",
      "Epoch 19/20\n",
      "133/133 [==============================] - 1s 4ms/step - loss: 0.2599 - accuracy: 0.9312 - lr: 1.0000e-05\n",
      "Epoch 20/20\n",
      "133/133 [==============================] - 1s 4ms/step - loss: 0.2559 - accuracy: 0.9331 - lr: 1.0000e-05\n"
     ]
    }
   ],
   "source": [
    "history = model.fit(x=train_data, \n",
    "          y=labels_train,\n",
    "          epochs = 20,\n",
    "          batch_size = 512,\n",
    "          callbacks = [csv_logger, reduce_lr])"
   ]
  },
  {
   "cell_type": "code",
   "execution_count": 68,
   "metadata": {
    "colab": {
     "base_uri": "https://localhost:8080/",
     "height": 51
    },
    "executionInfo": {
     "elapsed": 32205,
     "status": "ok",
     "timestamp": 1588939021660,
     "user": {
      "displayName": "Gianmarco Ria",
      "photoUrl": "https://lh3.googleusercontent.com/a-/AOh14GjMp7KZ0us4lc7vwWhGAGg6qMuFNg8TVQSFAKb9GA=s64",
      "userId": "01406154558516398149"
     },
     "user_tz": -120
    },
    "id": "jju_73CvYr36",
    "outputId": "e52abf8a-c74e-43bf-a588-0526a8eb5cd3"
   },
   "outputs": [
    {
     "name": "stdout",
     "output_type": "stream",
     "text": [
      "45/45 [==============================] - 0s 2ms/step - loss: 0.8984 - accuracy: 0.8502\n"
     ]
    },
    {
     "data": {
      "text/plain": [
       "[0.8984338045120239, 0.8502377271652222]"
      ]
     },
     "execution_count": 68,
     "metadata": {},
     "output_type": "execute_result"
    }
   ],
   "source": [
    "model.evaluate(test_data,\n",
    "               labels_test, \n",
    "               batch_size = 512)"
   ]
  },
  {
   "cell_type": "code",
   "execution_count": null,
   "metadata": {
    "id": "oZcorfD2C9yT"
   },
   "outputs": [],
   "source": []
  }
 ],
 "metadata": {
  "accelerator": "GPU",
  "colab": {
   "collapsed_sections": [],
   "name": "BERT_LSTM.ipynb",
   "provenance": [
    {
     "file_id": "10qUqR3PSYFq_NG_J-V3BmoQpASYm6UTw",
     "timestamp": 1601220093144
    },
    {
     "file_id": "12rWz_ciaHevt7ARQV5CHklQDq3ECP43W",
     "timestamp": 1587476473852
    }
   ]
  },
  "kernelspec": {
   "display_name": "tensor",
   "language": "python",
   "name": "tensor"
  },
  "language_info": {
   "codemirror_mode": {
    "name": "ipython",
    "version": 3
   },
   "file_extension": ".py",
   "mimetype": "text/x-python",
   "name": "python",
   "nbconvert_exporter": "python",
   "pygments_lexer": "ipython3",
   "version": "3.10.12"
  }
 },
 "nbformat": 4,
 "nbformat_minor": 4
}
